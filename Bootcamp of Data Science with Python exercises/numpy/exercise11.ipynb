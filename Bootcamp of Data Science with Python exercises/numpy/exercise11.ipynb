{
    "cells": [
        {
            "cell_type": "markdown",
            "source": [
                "# Use the np.diag() function to build the following array:\n",
                "# array([[ 5,  0,  0,  0,  0,  0],\n",
                "# [ 0, 10,  0,  0,  0,  0],\n",
                "# [ 0,  0, 15,  0,  0,  0],\n",
                "# [ 0,  0,  0, 20,  0,  0],\n",
                "# [ 0,  0,  0,  0, 25,  0],\n",
                "# [ 0,  0,  0,  0,  0, 30]])\n"
            ],
            "metadata": {}
        },
        {
            "cell_type": "code",
            "execution_count": 1,
            "source": [
                "import numpy as np"
            ],
            "outputs": [],
            "metadata": {}
        },
        {
            "cell_type": "code",
            "execution_count": 13,
            "source": [
                "arrayA = np.diag(range(5,31, 5))\n",
                "arrayA"
            ],
            "outputs": [
                {
                    "output_type": "execute_result",
                    "data": {
                        "text/plain": [
                            "array([[ 5,  0,  0,  0,  0,  0],\n",
                            "       [ 0, 10,  0,  0,  0,  0],\n",
                            "       [ 0,  0, 15,  0,  0,  0],\n",
                            "       [ 0,  0,  0, 20,  0,  0],\n",
                            "       [ 0,  0,  0,  0, 25,  0],\n",
                            "       [ 0,  0,  0,  0,  0, 30]])"
                        ]
                    },
                    "metadata": {},
                    "execution_count": 13
                }
            ],
            "metadata": {}
        }
    ],
    "metadata": {
        "orig_nbformat": 4,
        "language_info": {
            "name": "python"
        }
    },
    "nbformat": 4,
    "nbformat_minor": 2
}