{
    "cells": [
        {
            "cell_type": "markdown",
            "source": [
                "# Use the np.full(shape, fill_value, dtype) function to create the following arrays. \n",
                "# This function allows you to create an array with a user-defined shape and dtype, filled with a certain value.\n",
                "# a - array([5., 5., 5., 5., 5., 5., 5., 5., 5., 5.])\n",
                "# b - array([[-5., -5., -5., -5.],\n",
                "#    [-5., -5., -5., -5.],\n",
                "#    [-5., -5., -5., -5.],\n",
                "#    [-5., -5., -5., -5.]])\n",
                "# c- array([[3, 3, 3],\n",
                "#    [3, 3, 3],\n",
                "#    [3, 3, 3]])\n",
                "# d - array([[50, 50, 50, 50, 50, 50, 50, 50, 50, 50],\n",
                "#    [50, 50, 50, 50, 50, 50, 50, 50, 50, 50],\n",
                "#    [50, 50, 50, 50, 50, 50, 50, 50, 50, 50],\n",
                "#    [50, 50, 50, 50, 50, 50, 50, 50, 50, 50],\n",
                "#    [50, 50, 50, 50, 50, 50, 50, 50, 50, 50],\n",
                "#    [50, 50, 50, 50, 50, 50, 50, 50, 50, 50],\n",
                "#    [50, 50, 50, 50, 50, 50, 50, 50, 50, 50],\n",
                "#    [50, 50, 50, 50, 50, 50, 50, 50, 50, 50],\n",
                "#    [50, 50, 50, 50, 50, 50, 50, 50, 50, 50],\n",
                "#    [50, 50, 50, 50, 50, 50, 50, 50, 50, 50]])"
            ],
            "metadata": {}
        },
        {
            "cell_type": "code",
            "execution_count": 1,
            "source": [
                "import numpy as np"
            ],
            "outputs": [],
            "metadata": {}
        },
        {
            "cell_type": "code",
            "execution_count": 8,
            "source": [
                "arrayA = np.full(shape=(10), fill_value=5, dtype=float)\n",
                "arrayB = np.full(shape=(4,4), fill_value=-5, dtype=float)\n",
                "arrayC = np.full(shape=(3,3), fill_value=3)\n",
                "arrayD = np.full(shape=(10,10), fill_value=50)\n",
                "\n",
                "print(f\"a - {arrayA}\")\n",
                "print(f\"b - {arrayB}\")\n",
                "print(f\"c - {arrayC}\")\n",
                "print(f\"d - {arrayD}\")"
            ],
            "outputs": [
                {
                    "output_type": "stream",
                    "name": "stdout",
                    "text": [
                        "a - [5. 5. 5. 5. 5. 5. 5. 5. 5. 5.]\n",
                        "b - [[-5. -5. -5. -5.]\n",
                        " [-5. -5. -5. -5.]\n",
                        " [-5. -5. -5. -5.]\n",
                        " [-5. -5. -5. -5.]]\n",
                        "c - [[3 3 3]\n",
                        " [3 3 3]\n",
                        " [3 3 3]]\n"
                    ]
                }
            ],
            "metadata": {}
        }
    ],
    "metadata": {
        "orig_nbformat": 4,
        "language_info": {
            "name": "python"
        }
    },
    "nbformat": 4,
    "nbformat_minor": 2
}