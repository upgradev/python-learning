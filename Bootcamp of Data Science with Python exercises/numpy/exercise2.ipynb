{
    "cells": [
        {
            "cell_type": "markdown",
            "source": [
                "# Based on the previous exercise, create a function that can receive an array and shows on the screen its attributes. Check if the insert argument is, indeed, a numpy object. You can also use a built-in type () function to verify the object' class."
            ],
            "metadata": {}
        },
        {
            "cell_type": "code",
            "execution_count": 1,
            "source": [
                "import numpy as np"
            ],
            "outputs": [],
            "metadata": {}
        },
        {
            "cell_type": "code",
            "execution_count": 4,
            "source": [
                "def inspect_array(array):\n",
                "    if isinstance(array, np.ndarray):\n",
                "        print(f\"Shape: {array.shape}\")\n",
                "        print(f\"Size: {array.size}\")\n",
                "        print(f\"Ndim: {array.ndim}\")\n",
                "        print(f\"nbyter: {array.nbytes}\")\n",
                "        print(f\"dtype: {array.dtype}\")\n",
                "        print(f\"type: {type(array)}\")\n",
                "    else:\n",
                "        return \"the insert object is not a numpy array\"\n"
            ],
            "outputs": [],
            "metadata": {}
        },
        {
            "cell_type": "code",
            "execution_count": 5,
            "source": [
                "array = np.array([1,2,3,4,5])\n",
                "list = [7,8,9,0]\n",
                "inspect_array(array)\n",
                "inspect_array(list)"
            ],
            "outputs": [
                {
                    "output_type": "stream",
                    "name": "stdout",
                    "text": [
                        "Shape: (5,)\n",
                        "Size: 5\n",
                        "Ndim: 1\n",
                        "nbyter: 40\n",
                        "dtype: int64\n",
                        "type: <class 'numpy.ndarray'>\n"
                    ]
                },
                {
                    "output_type": "execute_result",
                    "data": {
                        "text/plain": [
                            "'the insert object is not a numpy array'"
                        ]
                    },
                    "metadata": {},
                    "execution_count": 5
                }
            ],
            "metadata": {}
        }
    ],
    "metadata": {
        "orig_nbformat": 4,
        "language_info": {
            "name": "python"
        }
    },
    "nbformat": 4,
    "nbformat_minor": 2
}