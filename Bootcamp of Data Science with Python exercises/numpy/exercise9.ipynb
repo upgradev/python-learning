{
    "cells": [
        {
            "cell_type": "markdown",
            "source": [
                "# The np.linspace () function returns an array of evenly spaced numbers within a \n",
                "# defined range. Create an array with numbers within the range [1,21] in 5 parts.\n",
                "# Expected return:\n",
                "# array([ 1.,  6., 11., 16., 21.])"
            ],
            "metadata": {}
        },
        {
            "cell_type": "code",
            "execution_count": 1,
            "source": [
                "import numpy as np"
            ],
            "outputs": [],
            "metadata": {}
        },
        {
            "cell_type": "code",
            "execution_count": 2,
            "source": [
                "arrayA = np.linspace(1, 21, 5)\n",
                "arrayA"
            ],
            "outputs": [
                {
                    "output_type": "execute_result",
                    "data": {
                        "text/plain": [
                            "array([ 1.  ,  3.25,  5.5 ,  7.75, 10.  ])"
                        ]
                    },
                    "metadata": {},
                    "execution_count": 2
                }
            ],
            "metadata": {}
        }
    ],
    "metadata": {
        "orig_nbformat": 4,
        "language_info": {
            "name": "python"
        }
    },
    "nbformat": 4,
    "nbformat_minor": 2
}