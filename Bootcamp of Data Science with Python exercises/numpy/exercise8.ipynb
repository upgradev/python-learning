{
    "cells": [
        {
            "cell_type": "markdown",
            "source": [
                "# Define the K array and check for missing data. Use the np.isnan() function.\n",
                "# array([[ nan,   1.,  10.,   0.],\n",
                "#        [ nan,  nan,  nan,  nan],\n",
                "#        [100.,  50.,  nan, -25.],\n",
                "#        [ 30.,  nan,  nan, 130.]])"
            ],
            "metadata": {}
        },
        {
            "cell_type": "code",
            "execution_count": 1,
            "source": [
                "import numpy as np"
            ],
            "outputs": [],
            "metadata": {}
        },
        {
            "cell_type": "code",
            "execution_count": 7,
            "source": [
                "K = np.array([\n",
                "    [np.nan, 1, 10, 0],\n",
                "    [np.nan,np.nan,np.nan,np.nan],\n",
                "    [100, 50, np.nan, -25],\n",
                "    [30, np.nan, np.nan, 130]])\n",
                "K\n",
                "print(np.isnan(K))\n",
                "print(f'There are {np.isnan(K).sum()} missing data in K.')"
            ],
            "outputs": [
                {
                    "output_type": "stream",
                    "name": "stdout",
                    "text": [
                        "[[ True False False False]\n",
                        " [ True  True  True  True]\n",
                        " [False False  True False]\n",
                        " [False  True  True False]]\n",
                        "There are 8 missing data in K.\n"
                    ]
                }
            ],
            "metadata": {}
        }
    ],
    "metadata": {
        "orig_nbformat": 4,
        "language_info": {
            "name": "python"
        }
    },
    "nbformat": 4,
    "nbformat_minor": 2
}