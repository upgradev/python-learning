{
    "cells": [
        {
            "cell_type": "markdown",
            "source": [
                "# The np.ones() function allows you to create an array filled with the number 1 in all your entries. We can specify as arguments the shape and the kind of dtype of the array. Use this function to create the following arrays:\n",
                "# a - array([1., 1., 1., 1., 1., 1., 1., 1., 1., 1.])\n",
                "# b - array([[1., 1., 1., 1.],\n",
                "#       [1., 1., 1., 1.],\n",
                "#       [1., 1., 1., 1.],\n",
                "#       [1., 1., 1., 1.]])\n",
                "# c - array([[1., 1.],\n",
                "#       [1., 1.],\n",
                "#       [1., 1.]])"
            ],
            "metadata": {}
        },
        {
            "cell_type": "code",
            "execution_count": 1,
            "source": [
                "import numpy as np"
            ],
            "outputs": [],
            "metadata": {}
        },
        {
            "cell_type": "code",
            "execution_count": 5,
            "source": [
                "arrayA = np.ones(10)\n",
                "arrayB = np.ones((4,4))\n",
                "arrayC = np.ones((3,2))\n",
                "\n",
                "print(f\"a - {arrayA}\")\n",
                "print(f\"b - {arrayB}\")\n",
                "print(f\"c - {arrayC}\")"
            ],
            "outputs": [
                {
                    "output_type": "stream",
                    "name": "stdout",
                    "text": [
                        "a - [1. 1. 1. 1. 1. 1. 1. 1. 1. 1.]\n",
                        "b - [[1. 1. 1. 1.]\n",
                        " [1. 1. 1. 1.]\n",
                        " [1. 1. 1. 1.]\n",
                        " [1. 1. 1. 1.]]\n",
                        "c - [[1. 1.]\n",
                        " [1. 1.]\n",
                        " [1. 1.]]\n"
                    ]
                }
            ],
            "metadata": {}
        }
    ],
    "metadata": {
        "orig_nbformat": 4,
        "language_info": {
            "name": "python"
        }
    },
    "nbformat": 4,
    "nbformat_minor": 2
}