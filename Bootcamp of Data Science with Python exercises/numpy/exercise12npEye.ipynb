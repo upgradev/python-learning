{
    "cells": [
        {
            "cell_type": "markdown",
            "source": [
                "# Use the np.eye() function (or even np.identity()) to obtain the following array.\n",
                "\n",
                "# array([[1., 0., 0., 0., 0., 0., 0., 0., 0., 0.],\n",
                "# [0., 1., 0., 0., 0., 0., 0., 0., 0., 0.],\n",
                "# [0., 0., 1., 0., 0., 0., 0., 0., 0., 0.],\n",
                "# [0., 0., 0., 1., 0., 0., 0., 0., 0., 0.],\n",
                "# [0., 0., 0., 0., 1., 0., 0., 0., 0., 0.],\n",
                "# [0., 0., 0., 0., 0., 1., 0., 0., 0., 0.],\n",
                "# [0., 0., 0., 0., 0., 0., 1., 0., 0., 0.],\n",
                "# [0., 0., 0., 0., 0., 0., 0., 1., 0., 0.],\n",
                "# [0., 0., 0., 0., 0., 0., 0., 0., 1., 0.],\n",
                "# [0., 0., 0., 0., 0., 0., 0., 0., 0., 1.]])\n"
            ],
            "metadata": {}
        },
        {
            "cell_type": "code",
            "execution_count": 1,
            "source": [
                "import numpy as np"
            ],
            "outputs": [],
            "metadata": {}
        },
        {
            "cell_type": "code",
            "execution_count": null,
            "source": [
                "array = np.eye(10)\n",
                "array"
            ],
            "outputs": [],
            "metadata": {}
        }
    ],
    "metadata": {
        "orig_nbformat": 4,
        "language_info": {
            "name": "python",
            "version": "3.9.2",
            "mimetype": "text/x-python",
            "codemirror_mode": {
                "name": "ipython",
                "version": 3
            },
            "pygments_lexer": "ipython3",
            "nbconvert_exporter": "python",
            "file_extension": ".py"
        },
        "kernelspec": {
            "name": "python3",
            "display_name": "Python 3.9.2 64-bit"
        },
        "interpreter": {
            "hash": "31f2aee4e71d21fbe5cf8b01ff0e069b9275f58929596ceb00d14d90e3e16cd6"
        }
    },
    "nbformat": 4,
    "nbformat_minor": 2
}