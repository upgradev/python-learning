{
    "cells": [
        {
            "cell_type": "markdown",
            "source": [
                "# Create a function that receives a matrix as input and calculate:\n",
                "# a) Maximum value of the matrix;\n",
                "# b) Maximum value per column;\n",
                "# c) Maximum value per line;\n",
                "# d) Minimum value of the matrix;\n",
                "# e) Minimum value per column;\n",
                "# f) Minimum value per line."
            ],
            "metadata": {}
        },
        {
            "cell_type": "code",
            "execution_count": 1,
            "source": [
                "import numpy as np\n",
                "matrix = np.random.randint(-1000,1000,50).reshape(10,5)"
            ],
            "outputs": [],
            "metadata": {}
        },
        {
            "cell_type": "code",
            "execution_count": 9,
            "source": [
                "def info_matrix(matrix):\n",
                "    if isinstance(matrix,np.ndarray) and matrix.ndim == 2:\n",
                "        print(f\"Max value of the matrix: {matrix.max()}\")\n",
                "        print(f\"Max value per column: {matrix.max(axis=0)}\")\n",
                "        print(f\"Max value per line: {matrix.max(axis=1)}\")\n",
                "        print(f\"Min value of the matrix: {matrix.min()}\")\n",
                "        print(f\"Min value per column: {matrix.min(axis=0)}\")\n",
                "        print(f\"Min value per line: {matrix.min(axis=1)}\")\n",
                "    else:\n",
                "        return None\n"
            ],
            "outputs": [],
            "metadata": {}
        },
        {
            "cell_type": "code",
            "execution_count": 11,
            "source": [
                "if __name__==\"__main__\":\n",
                "    info_matrix(matrix)"
            ],
            "outputs": [
                {
                    "output_type": "stream",
                    "name": "stdout",
                    "text": [
                        "Max value of the matrix: 964\n",
                        "Max value per column: [665 964 932 779 907]\n",
                        "Max value per line: [779 932 613 398 665 753 964 468 876 655]\n",
                        "Min value of the matrix: -996\n",
                        "Min value per column: [-767 -918 -990 -687 -996]\n",
                        "Min value per line: [-996 -643 -393 -410 -918 -590 -513 -583 -649 -990]\n"
                    ]
                }
            ],
            "metadata": {}
        }
    ],
    "metadata": {
        "orig_nbformat": 4,
        "language_info": {
            "name": "python",
            "version": "3.9.2",
            "mimetype": "text/x-python",
            "codemirror_mode": {
                "name": "ipython",
                "version": 3
            },
            "pygments_lexer": "ipython3",
            "nbconvert_exporter": "python",
            "file_extension": ".py"
        },
        "kernelspec": {
            "name": "python3",
            "display_name": "Python 3.9.2 64-bit"
        },
        "interpreter": {
            "hash": "916dbcbb3f70747c44a77c7bcd40155683ae19c65e1c03b4aa3499c5328201f1"
        }
    },
    "nbformat": 4,
    "nbformat_minor": 2
}