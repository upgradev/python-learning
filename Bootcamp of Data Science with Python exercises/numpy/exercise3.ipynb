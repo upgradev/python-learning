{
    "cells": [
        {
            "cell_type": "markdown",
            "source": [
                "# Use the np.array() function to creat the one-dimensioned arrays listed below:\n",
                "# a) Use a list as an argument and obtain: array([-1,  4,  7,  9])\n",
                "# b) Use the range() function and obtain: array([ 1,  2,  3,  4,  5,  6,  7,  8,  9, 10])\n",
                "# c) Use a tuple as an argument and obtain: array([10, 11, 12, 13, 14])\n",
                "# d) Use the range() function and obtain: array([1990, 1995, 2000, 2005, 2010, 2015, 2020])\n",
                "# e) Use the range() function and obtain: array([2020, 2010, 2000, 1990, 1980, 1970, 1960, 1950, 1940, 1930, 1920, 1910, 1900])\n",
                "# f) Obtain: array(100)\n"
            ],
            "metadata": {}
        },
        {
            "cell_type": "code",
            "execution_count": 1,
            "source": [
                "import numpy as np"
            ],
            "outputs": [],
            "metadata": {}
        },
        {
            "cell_type": "code",
            "execution_count": 2,
            "source": [
                "arrayA = np.array([-1,4,7,9])\n",
                "arrayB = np.array(range(1, 11))\n",
                "tupleExm = (1,2,3,4,5,6)\n",
                "arrayC = np.array(tupleExm)\n",
                "arrayD = np.array(range(1990, 2021,5))\n",
                "arrayE = np.array(range(2020, 1890, -10))\n",
                "arrayF = np.array(100)\n",
                "\n",
                "print(f\"a) {arrayA}\")\n",
                "print(f\"b) {arrayB}\")\n",
                "print(f\"c) {arrayC}\")\n",
                "print(f\"d) {arrayD}\")\n",
                "print(f\"e) {arrayE}\")\n",
                "print(f\"f) {arrayF}\")"
            ],
            "outputs": [
                {
                    "output_type": "stream",
                    "name": "stdout",
                    "text": [
                        "a) [-1  4  7  9]\n",
                        "b) [ 1  2  3  4  5  6  7  8  9 10]\n",
                        "c) [1 2 3 4 5 6]\n",
                        "d) [1990 1995 2000 2005 2010 2015 2020]\n"
                    ]
                }
            ],
            "metadata": {}
        }
    ],
    "metadata": {
        "orig_nbformat": 4,
        "language_info": {
            "name": "python"
        }
    },
    "nbformat": 4,
    "nbformat_minor": 2
}