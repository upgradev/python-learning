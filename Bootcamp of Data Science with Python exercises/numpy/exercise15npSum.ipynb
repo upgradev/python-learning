{
    "cells": [
        {
            "cell_type": "markdown",
            "source": [
                "# From the matrix defined below, obtain:\n",
                "\n",
                "# a) total sum of the elements;\n",
                "\n",
                "# b) sum of the lines;\n",
                "\n",
                "# c) sum of columns.\n",
                "\n",
                "# import numpy as np\n",
                "# matrix = np.array(np.random.randint(1,100,15)).reshape(5,3)\n",
                "\n"
            ],
            "metadata": {}
        },
        {
            "cell_type": "code",
            "execution_count": 1,
            "source": [
                "import numpy as np\n",
                "matrix = np.array(np.random.randint(1,100,15)).reshape(5,3)"
            ],
            "outputs": [],
            "metadata": {}
        },
        {
            "cell_type": "code",
            "execution_count": 3,
            "source": [
                "matrix"
            ],
            "outputs": [
                {
                    "output_type": "execute_result",
                    "data": {
                        "text/plain": [
                            "array([[79, 90, 44],\n",
                            "       [58,  8, 21],\n",
                            "       [29, 32, 91],\n",
                            "       [72, 13,  5],\n",
                            "       [74,  4, 31]])"
                        ]
                    },
                    "metadata": {},
                    "execution_count": 3
                }
            ],
            "metadata": {}
        },
        {
            "cell_type": "code",
            "execution_count": 8,
            "source": [
                "print(f\"Sum {matrix.sum()}\")\n",
                "print(f\"Lines {matrix.sum(axis=1)}\")\n",
                "print(f\"Sum {matrix.sum(axis=0)}\")\n"
            ],
            "outputs": [
                {
                    "output_type": "stream",
                    "name": "stdout",
                    "text": [
                        "Sum 651\n",
                        "Lines [213  87 152  90 109]\n",
                        "Sum [312 147 192]\n"
                    ]
                }
            ],
            "metadata": {}
        }
    ],
    "metadata": {
        "orig_nbformat": 4,
        "language_info": {
            "name": "python",
            "version": "3.9.2",
            "mimetype": "text/x-python",
            "codemirror_mode": {
                "name": "ipython",
                "version": 3
            },
            "pygments_lexer": "ipython3",
            "nbconvert_exporter": "python",
            "file_extension": ".py"
        },
        "kernelspec": {
            "name": "python3",
            "display_name": "Python 3.9.2 64-bit"
        },
        "interpreter": {
            "hash": "31f2aee4e71d21fbe5cf8b01ff0e069b9275f58929596ceb00d14d90e3e16cd6"
        }
    },
    "nbformat": 4,
    "nbformat_minor": 2
}