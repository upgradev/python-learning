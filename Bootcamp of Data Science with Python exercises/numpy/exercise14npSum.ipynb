{
    "cells": [
        {
            "cell_type": "markdown",
            "source": [
                "# Obtain the sum of the elements of each array below. Use the np.sum () function. Implement a solution with \"loop for\", to do so, store the vectors in a list."
            ],
            "metadata": {}
        },
        {
            "cell_type": "code",
            "execution_count": 1,
            "source": [
                "import numpy as np"
            ],
            "outputs": [],
            "metadata": {}
        },
        {
            "cell_type": "code",
            "execution_count": 2,
            "source": [
                "array1 = np.arange(1,11)\n",
                "array2 = np.linspace(1,50,10)\n",
                "array3 = np.array(range(51))\n",
                "array4 = np.logspace(1,10,5)\n",
                "array5 = np.diag(range(5,31,5))"
            ],
            "outputs": [],
            "metadata": {}
        },
        {
            "cell_type": "code",
            "execution_count": 12,
            "source": [
                "sum1 = 0\n",
                "sum2 = 0\n",
                "sum3 = 0\n",
                "sum4 = 0\n",
                "sum5 = 0\n",
                "\n",
                "for a in array1:\n",
                "    sum1 += a\n",
                "print(f\"Sum array1: {sum1}\")\n",
                "\n",
                "for a in array2:\n",
                "    sum2 += a\n",
                "print(f\"Sum array2: {sum2}\")\n",
                "\n",
                "for a in array3:\n",
                "    sum3 += a\n",
                "print(f\"Sum array3: {sum3}\")\n",
                "\n",
                "for a in array4:\n",
                "    sum4 += a\n",
                "print(f\"Sum array4: {sum4}\")\n",
                "\n",
                "print(f\"Sum array5: {array5.sum()}\")\n",
                "\n",
                "arrays = [array1, array2, array3, array4, array5]\n",
                "for index, array in enumerate(arrays, start = 1):\n",
                "    print(f'Sum of the elements of array {index}: ', array.sum())"
            ],
            "outputs": [
                {
                    "output_type": "stream",
                    "name": "stdout",
                    "text": [
                        "Sum array1: 55\n",
                        "Sum array2: 255.0\n",
                        "Sum array3: 1275\n",
                        "Sum array4: 10056552148.564463\n",
                        "Sum array5: 105\n",
                        "Sum of the elements of array 1:  55\n",
                        "Sum of the elements of array 2:  255.0\n",
                        "Sum of the elements of array 3:  1275\n",
                        "Sum of the elements of array 4:  10056552148.564463\n",
                        "Sum of the elements of array 5:  105\n"
                    ]
                }
            ],
            "metadata": {}
        }
    ],
    "metadata": {
        "orig_nbformat": 4,
        "language_info": {
            "name": "python",
            "version": "3.9.2",
            "mimetype": "text/x-python",
            "codemirror_mode": {
                "name": "ipython",
                "version": 3
            },
            "pygments_lexer": "ipython3",
            "nbconvert_exporter": "python",
            "file_extension": ".py"
        },
        "kernelspec": {
            "name": "python3",
            "display_name": "Python 3.9.2 64-bit"
        },
        "interpreter": {
            "hash": "31f2aee4e71d21fbe5cf8b01ff0e069b9275f58929596ceb00d14d90e3e16cd6"
        }
    },
    "nbformat": 4,
    "nbformat_minor": 2
}