{
 "cells": [
  {
   "cell_type": "code",
   "execution_count": 1,
   "source": [
    "import numpy as np"
   ],
   "outputs": [],
   "metadata": {}
  },
  {
   "cell_type": "code",
   "execution_count": 10,
   "source": [
    "A = np.array([[3,1,4], [10,7,5], [1,4,4]])\n",
    "B = np.eye(3)\n",
    "C = np.diag([5,10,2])\n",
    "D = np.diag([3,7,11,2])\n",
    "E = np.array([[5,0,13,12],[1,-1,25,7],[6,2,1,20],[11,4,0,-9]])\n",
    "det_A = np.linalg.det(A).round()\n",
    "det_B = np.linalg.det(B).round()\n",
    "det_C = np.linalg.det(C).round()\n",
    "det_D = np.linalg.det(D).round()\n",
    "det_E = np.linalg.det(E).round()\n",
    "print(det_A)\n",
    "print(det_B)\n",
    "print(det_C)\n",
    "print(det_D)\n",
    "print(det_E)"
   ],
   "outputs": [
    {
     "output_type": "stream",
     "name": "stdout",
     "text": [
      "121.0\n",
      "1.0\n",
      "100.0\n",
      "462.0\n",
      "7081.0\n"
     ]
    }
   ],
   "metadata": {}
  }
 ],
 "metadata": {
  "orig_nbformat": 4,
  "language_info": {
   "name": "python",
   "version": "3.9.2",
   "mimetype": "text/x-python",
   "codemirror_mode": {
    "name": "ipython",
    "version": 3
   },
   "pygments_lexer": "ipython3",
   "nbconvert_exporter": "python",
   "file_extension": ".py"
  },
  "kernelspec": {
   "name": "python3",
   "display_name": "Python 3.9.2 64-bit"
  },
  "interpreter": {
   "hash": "916dbcbb3f70747c44a77c7bcd40155683ae19c65e1c03b4aa3499c5328201f1"
  }
 },
 "nbformat": 4,
 "nbformat_minor": 2
}