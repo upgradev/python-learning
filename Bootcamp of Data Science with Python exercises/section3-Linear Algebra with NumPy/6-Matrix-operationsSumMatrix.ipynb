{
 "cells": [
  {
   "cell_type": "markdown",
   "source": [
    "# Define the matrices A and B given below and obtain A+B.\n",
    "\n"
   ],
   "metadata": {}
  },
  {
   "cell_type": "code",
   "execution_count": 1,
   "source": [
    "import numpy as np"
   ],
   "outputs": [],
   "metadata": {}
  },
  {
   "cell_type": "code",
   "execution_count": null,
   "source": [
    "A = np.array([[10,11],[5,1],[-2,4]])\n",
    "B = np.array([[1,25],[3,4],[0,-10]])\n",
    "sum_ = A + B\n",
    "sum_"
   ],
   "outputs": [],
   "metadata": {}
  }
 ],
 "metadata": {
  "orig_nbformat": 4,
  "language_info": {
   "name": "python",
   "version": "3.9.2",
   "mimetype": "text/x-python",
   "codemirror_mode": {
    "name": "ipython",
    "version": 3
   },
   "pygments_lexer": "ipython3",
   "nbconvert_exporter": "python",
   "file_extension": ".py"
  },
  "kernelspec": {
   "name": "python3",
   "display_name": "Python 3.9.2 64-bit"
  },
  "interpreter": {
   "hash": "916dbcbb3f70747c44a77c7bcd40155683ae19c65e1c03b4aa3499c5328201f1"
  }
 },
 "nbformat": 4,
 "nbformat_minor": 2
}