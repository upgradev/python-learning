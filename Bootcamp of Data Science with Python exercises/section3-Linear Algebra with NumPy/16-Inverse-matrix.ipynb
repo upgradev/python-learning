{
 "cells": [
  {
   "cell_type": "code",
   "execution_count": 1,
   "source": [
    "import numpy as np"
   ],
   "outputs": [],
   "metadata": {}
  },
  {
   "cell_type": "code",
   "execution_count": 4,
   "source": [
    "A = np.diag([7,8,11,2,4,5,1,3])\n",
    "r = np.linalg.inv(A)\n",
    "print(r)"
   ],
   "outputs": [
    {
     "output_type": "stream",
     "name": "stdout",
     "text": [
      "[[0.14285714 0.         0.         0.         0.         0.\n",
      "  0.         0.        ]\n",
      " [0.         0.125      0.         0.         0.         0.\n",
      "  0.         0.        ]\n",
      " [0.         0.         0.09090909 0.         0.         0.\n",
      "  0.         0.        ]\n",
      " [0.         0.         0.         0.5        0.         0.\n",
      "  0.         0.        ]\n",
      " [0.         0.         0.         0.         0.25       0.\n",
      "  0.         0.        ]\n",
      " [0.         0.         0.         0.         0.         0.2\n",
      "  0.         0.        ]\n",
      " [0.         0.         0.         0.         0.         0.\n",
      "  1.         0.        ]\n",
      " [0.         0.         0.         0.         0.         0.\n",
      "  0.         0.33333333]]\n"
     ]
    }
   ],
   "metadata": {}
  }
 ],
 "metadata": {
  "orig_nbformat": 4,
  "language_info": {
   "name": "python",
   "version": "3.9.2",
   "mimetype": "text/x-python",
   "codemirror_mode": {
    "name": "ipython",
    "version": 3
   },
   "pygments_lexer": "ipython3",
   "nbconvert_exporter": "python",
   "file_extension": ".py"
  },
  "kernelspec": {
   "name": "python3",
   "display_name": "Python 3.9.2 64-bit"
  },
  "interpreter": {
   "hash": "916dbcbb3f70747c44a77c7bcd40155683ae19c65e1c03b4aa3499c5328201f1"
  }
 },
 "nbformat": 4,
 "nbformat_minor": 2
}