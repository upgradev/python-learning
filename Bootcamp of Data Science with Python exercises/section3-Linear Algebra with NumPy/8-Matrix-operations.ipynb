{
 "cells": [
  {
   "cell_type": "code",
   "execution_count": 1,
   "source": [
    "import numpy as np"
   ],
   "outputs": [],
   "metadata": {}
  },
  {
   "cell_type": "code",
   "execution_count": 24,
   "source": [
    "A = np.array([[1,2,3], [2,1,-1]])\n",
    "B = np.array([[-2,0,1], [3,0,1]])\n",
    "C = np.array([-1,2,4]).reshape(-1,1)\n",
    "D = np.array([[2, -1]])\n",
    "\n",
    "print(f\"Sum A B: {A + B}\")\n",
    "print(f\"Mult A C: {A.dot(C)}\")\n",
    "print(f\"Mult B C: {B.dot(C)}\")\n",
    "print(f\"Mult C D: {C.dot(D)}\")\n",
    "print(f\"Mult D A: {D.dot(A)}\")\n",
    "print(f\"Mult D B: {D.dot(B)}\")\n",
    "print(f\"-A: {(-1)*A}\")\n",
    "print(f\"-D: {(-1)* D}\")\n",
    "print(f\"Mult 2A + 3B: {2*A+3*B}\")"
   ],
   "outputs": [
    {
     "output_type": "stream",
     "name": "stdout",
     "text": [
      "Sum A B: [[-1  2  4]\n",
      " [ 5  1  0]]\n",
      "Mult A C: [[15]\n",
      " [-4]]\n",
      "Mult B C: [[6]\n",
      " [1]]\n",
      "Mult C D: [[-2  1]\n",
      " [ 4 -2]\n",
      " [ 8 -4]]\n",
      "Mult D A: [[0 3 7]]\n",
      "Mult D B: [[-7  0  1]]\n",
      "-A: [[-1 -2 -3]\n",
      " [-2 -1  1]]\n",
      "-D: [[-2  1]]\n",
      "Mult 2A + 3B: [[-4  4  9]\n",
      " [13  2  1]]\n"
     ]
    }
   ],
   "metadata": {}
  }
 ],
 "metadata": {
  "orig_nbformat": 4,
  "language_info": {
   "name": "python",
   "version": "3.9.2",
   "mimetype": "text/x-python",
   "codemirror_mode": {
    "name": "ipython",
    "version": 3
   },
   "pygments_lexer": "ipython3",
   "nbconvert_exporter": "python",
   "file_extension": ".py"
  },
  "kernelspec": {
   "name": "python3",
   "display_name": "Python 3.9.2 64-bit"
  },
  "interpreter": {
   "hash": "916dbcbb3f70747c44a77c7bcd40155683ae19c65e1c03b4aa3499c5328201f1"
  }
 },
 "nbformat": 4,
 "nbformat_minor": 2
}