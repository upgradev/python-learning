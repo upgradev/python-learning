{
 "cells": [
  {
   "cell_type": "code",
   "execution_count": 1,
   "source": [
    "import numpy as np"
   ],
   "outputs": [],
   "metadata": {}
  },
  {
   "cell_type": "code",
   "execution_count": 6,
   "source": [
    "A = np.array([[1,-3,2],[2,1,-3],[4,-3,-1]])\n",
    "B = np.array([[1,0,4],[-7,5,5],[25,9,11]])\n",
    "\n",
    "print(\"Before\",A)\n",
    "print(\"After: \")\n",
    "print(A.T)\n",
    "print()\n",
    "print(\"Before: \")\n",
    "print(B)\n",
    "print(\"After: \")\n",
    "print(B.transpose())"
   ],
   "outputs": [
    {
     "output_type": "stream",
     "name": "stdout",
     "text": [
      "Before [[ 1 -3  2]\n",
      " [ 2  1 -3]\n",
      " [ 4 -3 -1]]\n",
      "After: \n",
      "[[ 1  2  4]\n",
      " [-3  1 -3]\n",
      " [ 2 -3 -1]]\n"
     ]
    }
   ],
   "metadata": {}
  }
 ],
 "metadata": {
  "orig_nbformat": 4,
  "language_info": {
   "name": "python",
   "version": "3.9.2",
   "mimetype": "text/x-python",
   "codemirror_mode": {
    "name": "ipython",
    "version": 3
   },
   "pygments_lexer": "ipython3",
   "nbconvert_exporter": "python",
   "file_extension": ".py"
  },
  "kernelspec": {
   "name": "python3",
   "display_name": "Python 3.9.2 64-bit"
  },
  "interpreter": {
   "hash": "916dbcbb3f70747c44a77c7bcd40155683ae19c65e1c03b4aa3499c5328201f1"
  }
 },
 "nbformat": 4,
 "nbformat_minor": 2
}