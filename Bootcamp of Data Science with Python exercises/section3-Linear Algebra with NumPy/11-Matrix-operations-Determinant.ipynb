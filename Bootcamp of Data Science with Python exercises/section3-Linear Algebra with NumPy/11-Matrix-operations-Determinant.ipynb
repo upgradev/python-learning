{
 "cells": [
  {
   "cell_type": "markdown",
   "source": [
    "# Obtain the determinant of the following matrices. Use the np.linalg.det() method.\n",
    "\n"
   ],
   "metadata": {}
  },
  {
   "cell_type": "code",
   "execution_count": 1,
   "source": [
    "import numpy as np"
   ],
   "outputs": [],
   "metadata": {}
  },
  {
   "cell_type": "code",
   "execution_count": 5,
   "source": [
    "A = np.array([[5]])\n",
    "B = np.array([[1,2],[3,4]])\n",
    "C = np.array([[-3,-8],[-5,-2]])\n",
    "D = np.eye(2)\n",
    "det_A = np.linalg.det(A).round()\n",
    "print(det_A)\n",
    "det_B = np.linalg.det(B).round()\n",
    "print(det_B)\n",
    "det_C = np.linalg.det(C).round()\n",
    "print(det_C)\n",
    "det_D = np.linalg.det(D).round()\n",
    "print(det_D)"
   ],
   "outputs": [
    {
     "output_type": "stream",
     "name": "stdout",
     "text": [
      "5.0\n",
      "-2.0\n"
     ]
    }
   ],
   "metadata": {}
  }
 ],
 "metadata": {
  "orig_nbformat": 4,
  "language_info": {
   "name": "python",
   "version": "3.9.2",
   "mimetype": "text/x-python",
   "codemirror_mode": {
    "name": "ipython",
    "version": 3
   },
   "pygments_lexer": "ipython3",
   "nbconvert_exporter": "python",
   "file_extension": ".py"
  },
  "kernelspec": {
   "name": "python3",
   "display_name": "Python 3.9.2 64-bit"
  },
  "interpreter": {
   "hash": "916dbcbb3f70747c44a77c7bcd40155683ae19c65e1c03b4aa3499c5328201f1"
  }
 },
 "nbformat": 4,
 "nbformat_minor": 2
}