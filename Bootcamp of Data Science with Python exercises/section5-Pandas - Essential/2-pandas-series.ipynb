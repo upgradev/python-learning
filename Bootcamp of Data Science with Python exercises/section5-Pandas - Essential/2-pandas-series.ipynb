{
 "cells": [
  {
   "cell_type": "markdown",
   "source": [
    "#  Series (one-dimensional array) from the Pandas library can be created using the constructor:\n",
    "# pd.Series (data, index, dtype, copy)\n",
    "# Then, we can create Series objects from arrays, dictionaries, scalars and iterables. Based on this information, answer the following questions.\n",
    "# a) From the list below create an object of type Series.\n",
    "# data = ['k','w','z','y']\n",
    "# Expected result:\n",
    "# 0    k\n",
    "# 1    w\n",
    "# 2    z\n",
    "# 3    y\n",
    "# dtype: object\n",
    "\n",
    "# b) From the dictionary below create an object of type Series.\n",
    "# dic = {'a':10,'b':30,'c':15,'d':12}\n",
    "# Expected result:\n",
    "# a    10\n",
    "# b    30\n",
    "# c    15\n",
    "# d    12\n",
    "# dtype: int64\n",
    "\n",
    "# c) Convert to a list the Series objects created previously.\n",
    "# Tip: use the pandas to_list() method.\n",
    "\n",
    "# d) Convert Series objects created in letters a) and b) to DataFrame. Enter a name for the columns. Use the pd.DataFrame() constructor.\n",
    "# Expected Results:\n",
    "# \tLetters\n",
    "# 0\tk\n",
    "# 1\tw\n",
    "# 2\tz\n",
    "# 3\ty\n",
    "#     Values\n",
    "# a\t10\n",
    "# b\t30\n",
    "# c\t15\n",
    "# d\t12\n"
   ],
   "metadata": {}
  },
  {
   "cell_type": "code",
   "execution_count": 1,
   "source": [
    "import pandas as pd"
   ],
   "outputs": [],
   "metadata": {}
  },
  {
   "cell_type": "code",
   "execution_count": 3,
   "source": [
    "# a\n",
    "data = ['k','w','z','y']\n",
    "serie1 = pd.Series(data = data)\n",
    "serie1"
   ],
   "outputs": [
    {
     "output_type": "execute_result",
     "data": {
      "text/plain": [
       "0    k\n",
       "1    w\n",
       "2    z\n",
       "3    y\n",
       "dtype: object"
      ]
     },
     "metadata": {},
     "execution_count": 3
    }
   ],
   "metadata": {}
  },
  {
   "cell_type": "code",
   "execution_count": 5,
   "source": [
    "# b\n",
    "dic = {\"a\": 10, \"b\": 30, \"c\": 15, \"d\": 12}\n",
    "serie2 = pd.Series(data=dic)\n",
    "serie2"
   ],
   "outputs": [
    {
     "output_type": "execute_result",
     "data": {
      "text/plain": [
       "a    10\n",
       "b    30\n",
       "c    15\n",
       "d    12\n",
       "dtype: int64"
      ]
     },
     "metadata": {},
     "execution_count": 5
    }
   ],
   "metadata": {}
  },
  {
   "cell_type": "code",
   "execution_count": 8,
   "source": [
    "# c\n",
    "list1 = serie1.to_list()\n",
    "list2 = serie2.to_list()\n",
    "print(list1)\n",
    "print(list2)"
   ],
   "outputs": [
    {
     "output_type": "stream",
     "name": "stdout",
     "text": [
      "['k', 'w', 'z', 'y']\n",
      "[10, 30, 15, 12]\n"
     ]
    }
   ],
   "metadata": {}
  },
  {
   "cell_type": "code",
   "execution_count": 9,
   "source": [
    "df1 = pd.DataFrame(serie1, columns=[\"Letters\"])\n",
    "df1"
   ],
   "outputs": [
    {
     "output_type": "execute_result",
     "data": {
      "text/plain": [
       "  Letters\n",
       "0       k\n",
       "1       w\n",
       "2       z\n",
       "3       y"
      ],
      "text/html": [
       "<div>\n",
       "<style scoped>\n",
       "    .dataframe tbody tr th:only-of-type {\n",
       "        vertical-align: middle;\n",
       "    }\n",
       "\n",
       "    .dataframe tbody tr th {\n",
       "        vertical-align: top;\n",
       "    }\n",
       "\n",
       "    .dataframe thead th {\n",
       "        text-align: right;\n",
       "    }\n",
       "</style>\n",
       "<table border=\"1\" class=\"dataframe\">\n",
       "  <thead>\n",
       "    <tr style=\"text-align: right;\">\n",
       "      <th></th>\n",
       "      <th>Letters</th>\n",
       "    </tr>\n",
       "  </thead>\n",
       "  <tbody>\n",
       "    <tr>\n",
       "      <th>0</th>\n",
       "      <td>k</td>\n",
       "    </tr>\n",
       "    <tr>\n",
       "      <th>1</th>\n",
       "      <td>w</td>\n",
       "    </tr>\n",
       "    <tr>\n",
       "      <th>2</th>\n",
       "      <td>z</td>\n",
       "    </tr>\n",
       "    <tr>\n",
       "      <th>3</th>\n",
       "      <td>y</td>\n",
       "    </tr>\n",
       "  </tbody>\n",
       "</table>\n",
       "</div>"
      ]
     },
     "metadata": {},
     "execution_count": 9
    }
   ],
   "metadata": {}
  },
  {
   "cell_type": "code",
   "execution_count": 11,
   "source": [
    "df2 = pd.DataFrame(serie2, columns=[\"Values\"])\n",
    "df2"
   ],
   "outputs": [
    {
     "output_type": "execute_result",
     "data": {
      "text/plain": [
       "   Letters\n",
       "a       10\n",
       "b       30\n",
       "c       15\n",
       "d       12"
      ],
      "text/html": [
       "<div>\n",
       "<style scoped>\n",
       "    .dataframe tbody tr th:only-of-type {\n",
       "        vertical-align: middle;\n",
       "    }\n",
       "\n",
       "    .dataframe tbody tr th {\n",
       "        vertical-align: top;\n",
       "    }\n",
       "\n",
       "    .dataframe thead th {\n",
       "        text-align: right;\n",
       "    }\n",
       "</style>\n",
       "<table border=\"1\" class=\"dataframe\">\n",
       "  <thead>\n",
       "    <tr style=\"text-align: right;\">\n",
       "      <th></th>\n",
       "      <th>Letters</th>\n",
       "    </tr>\n",
       "  </thead>\n",
       "  <tbody>\n",
       "    <tr>\n",
       "      <th>a</th>\n",
       "      <td>10</td>\n",
       "    </tr>\n",
       "    <tr>\n",
       "      <th>b</th>\n",
       "      <td>30</td>\n",
       "    </tr>\n",
       "    <tr>\n",
       "      <th>c</th>\n",
       "      <td>15</td>\n",
       "    </tr>\n",
       "    <tr>\n",
       "      <th>d</th>\n",
       "      <td>12</td>\n",
       "    </tr>\n",
       "  </tbody>\n",
       "</table>\n",
       "</div>"
      ]
     },
     "metadata": {},
     "execution_count": 11
    }
   ],
   "metadata": {}
  }
 ],
 "metadata": {
  "orig_nbformat": 4,
  "language_info": {
   "name": "python",
   "version": "3.9.2",
   "mimetype": "text/x-python",
   "codemirror_mode": {
    "name": "ipython",
    "version": 3
   },
   "pygments_lexer": "ipython3",
   "nbconvert_exporter": "python",
   "file_extension": ".py"
  },
  "kernelspec": {
   "name": "python3",
   "display_name": "Python 3.9.2 64-bit"
  },
  "interpreter": {
   "hash": "916dbcbb3f70747c44a77c7bcd40155683ae19c65e1c03b4aa3499c5328201f1"
  }
 },
 "nbformat": 4,
 "nbformat_minor": 2
}