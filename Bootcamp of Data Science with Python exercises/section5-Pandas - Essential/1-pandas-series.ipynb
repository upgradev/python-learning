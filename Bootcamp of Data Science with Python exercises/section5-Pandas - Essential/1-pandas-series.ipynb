{
 "cells": [
  {
   "cell_type": "markdown",
   "source": [
    "# A Series (one-dimensional array) from the Pandas library can be created using the constructor:\n",
    "# pd.Series (data, index, dtype, copy)\n",
    "# Then, we can create Series objects from arrays, dictionaries, scalars and iterables. Based on this information, answer the following questions.\n",
    "# a) From the list below create an object of type Series.\n",
    "# data = ['a', 'b', 'c', 'd']\n",
    "# Expected result:\n",
    "# 0    a\n",
    "# 1    b\n",
    "# 2    c\n",
    "# 3    d\n",
    "# dtype: object\n",
    "# b) From the previous list, obtain:\n",
    "# 10    a\n",
    "# 11    b\n",
    "# 12    c\n",
    "# 13    d\n",
    "# dtype: object\n",
    "# Tip: Change the index argument.\n",
    "\n",
    "# c) Obtain the Series below:\n",
    "# 0    10\n",
    "# 1    10\n",
    "# 2    10\n",
    "# 3    10\n",
    "# dtype: int64\n",
    "\n",
    "# d) From the array,\n",
    "# import numpy as np\n",
    "# array = np.arange(10,20,2)\n",
    "# Obtain the Series below:\n",
    "# 1    10.0\n",
    "# 2    12.0\n",
    "# 3    14.0\n",
    "# 4    16.0\n",
    "# 5    18.0\n",
    "# dtype: float64"
   ],
   "metadata": {}
  },
  {
   "cell_type": "code",
   "execution_count": 1,
   "source": [
    "import numpy as np\n",
    "import pandas as pd"
   ],
   "outputs": [],
   "metadata": {}
  },
  {
   "cell_type": "code",
   "execution_count": 3,
   "source": [
    "data = [\"a\",\"b\",\"c\",\"d\"]\n",
    "series1 = pd.Series(data)\n",
    "series1"
   ],
   "outputs": [
    {
     "output_type": "execute_result",
     "data": {
      "text/plain": [
       "0    a\n",
       "1    b\n",
       "2    c\n",
       "3    d\n",
       "dtype: object"
      ]
     },
     "metadata": {},
     "execution_count": 3
    }
   ],
   "metadata": {}
  },
  {
   "cell_type": "code",
   "execution_count": 5,
   "source": [
    "series2 = pd.Series(data, index=[10,11,12,13])\n",
    "series2"
   ],
   "outputs": [
    {
     "output_type": "execute_result",
     "data": {
      "text/plain": [
       "10    a\n",
       "11    b\n",
       "12    c\n",
       "13    d\n",
       "dtype: object"
      ]
     },
     "metadata": {},
     "execution_count": 5
    }
   ],
   "metadata": {}
  },
  {
   "cell_type": "code",
   "execution_count": 7,
   "source": [
    "series3 = pd.Series(10, index=[0,1,2,3])\n",
    "series3"
   ],
   "outputs": [
    {
     "output_type": "execute_result",
     "data": {
      "text/plain": [
       "0    10\n",
       "1    10\n",
       "2    10\n",
       "3    10\n",
       "dtype: int64"
      ]
     },
     "metadata": {},
     "execution_count": 7
    }
   ],
   "metadata": {}
  },
  {
   "cell_type": "code",
   "execution_count": null,
   "source": [
    "arr = np.arange(10,20,2)\n",
    "series4 = pd.Series(arr, index=range(1,6), dtype=float)\n",
    "series4"
   ],
   "outputs": [],
   "metadata": {}
  }
 ],
 "metadata": {
  "orig_nbformat": 4,
  "language_info": {
   "name": "python",
   "version": "3.9.2",
   "mimetype": "text/x-python",
   "codemirror_mode": {
    "name": "ipython",
    "version": 3
   },
   "pygments_lexer": "ipython3",
   "nbconvert_exporter": "python",
   "file_extension": ".py"
  },
  "kernelspec": {
   "name": "python3",
   "display_name": "Python 3.9.2 64-bit"
  },
  "interpreter": {
   "hash": "916dbcbb3f70747c44a77c7bcd40155683ae19c65e1c03b4aa3499c5328201f1"
  }
 },
 "nbformat": 4,
 "nbformat_minor": 2
}