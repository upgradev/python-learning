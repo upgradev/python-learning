{
    "cells": [
        {
            "cell_type": "markdown",
            "source": [
                "# Obtain the maximum and minimum value of each array below. Implement a solution with a \"loop for\"."
            ],
            "metadata": {}
        },
        {
            "cell_type": "code",
            "execution_count": 1,
            "source": [
                "import numpy as np\n",
                "array1 = np.array([-1, 10, 3, 4, 7, 27])\n",
                "array2 = np.random.randint(-100,300,30)\n",
                "array3 = np.random.randn(10)\n",
                "array4 = np.array(range(50,10,-2))"
            ],
            "outputs": [],
            "metadata": {}
        },
        {
            "cell_type": "code",
            "execution_count": 3,
            "source": [
                "arrays = [array1, array2, array3, array4]\n",
                "for index, array in enumerate(arrays, start=1):\n",
                "    print(f\"Max array {index} is {array.max()}\")\n",
                "    print(f\"Min array {index} is {array.min()}\")\n",
                "    print(\"--------------\")"
            ],
            "outputs": [
                {
                    "output_type": "stream",
                    "name": "stdout",
                    "text": [
                        "Max array 1 is 27\n",
                        "Min array 1 is -1\n",
                        "Max array 2 is 282\n",
                        "Min array 2 is -82\n",
                        "Max array 3 is 1.619827930309141\n",
                        "Min array 3 is -2.434110493290485\n",
                        "Max array 4 is 50\n",
                        "Min array 4 is 12\n"
                    ]
                }
            ],
            "metadata": {}
        }
    ],
    "metadata": {
        "orig_nbformat": 4,
        "language_info": {
            "name": "python",
            "version": "3.9.2",
            "mimetype": "text/x-python",
            "codemirror_mode": {
                "name": "ipython",
                "version": 3
            },
            "pygments_lexer": "ipython3",
            "nbconvert_exporter": "python",
            "file_extension": ".py"
        },
        "kernelspec": {
            "name": "python3",
            "display_name": "Python 3.9.2 64-bit"
        },
        "interpreter": {
            "hash": "916dbcbb3f70747c44a77c7bcd40155683ae19c65e1c03b4aa3499c5328201f1"
        }
    },
    "nbformat": 4,
    "nbformat_minor": 2
}