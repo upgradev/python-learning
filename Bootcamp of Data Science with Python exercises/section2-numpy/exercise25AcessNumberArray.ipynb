{
    "cells": [
        {
            "cell_type": "markdown",
            "source": [
                "# Access the numbers 9 and 90 of the array below."
            ],
            "metadata": {}
        },
        {
            "cell_type": "code",
            "execution_count": 3,
            "source": [
                "import numpy as np\n",
                "ar = np.array([[-1, 33, 44, 9, 1],[11, 1, 0, 90, 44]])\n"
            ],
            "outputs": [],
            "metadata": {}
        },
        {
            "cell_type": "code",
            "execution_count": 5,
            "source": [
                "for new_arr in ar:\n",
                "    for array in new_arr:\n",
                "        if array == 9 or array == 90:\n",
                "            print(array)\n"
            ],
            "outputs": [
                {
                    "output_type": "stream",
                    "name": "stdout",
                    "text": [
                        "-1\n",
                        "33\n",
                        "44\n",
                        "9\n",
                        "1\n",
                        "11\n",
                        "1\n",
                        "0\n",
                        "90\n",
                        "44\n"
                    ]
                }
            ],
            "metadata": {}
        }
    ],
    "metadata": {
        "orig_nbformat": 4,
        "language_info": {
            "name": "python",
            "version": "3.9.2",
            "mimetype": "text/x-python",
            "codemirror_mode": {
                "name": "ipython",
                "version": 3
            },
            "pygments_lexer": "ipython3",
            "nbconvert_exporter": "python",
            "file_extension": ".py"
        },
        "kernelspec": {
            "name": "python3",
            "display_name": "Python 3.9.2 64-bit"
        },
        "interpreter": {
            "hash": "916dbcbb3f70747c44a77c7bcd40155683ae19c65e1c03b4aa3499c5328201f1"
        }
    },
    "nbformat": 4,
    "nbformat_minor": 2
}