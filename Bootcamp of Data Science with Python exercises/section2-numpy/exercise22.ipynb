{
    "cells": [
        {
            "cell_type": "markdown",
            "source": [
                "# Write a function that receives a NumPy array and shows a set of descriptive statistics for this object on the screen."
            ],
            "metadata": {}
        },
        {
            "cell_type": "code",
            "execution_count": 1,
            "source": [
                "import numpy as np"
            ],
            "outputs": [],
            "metadata": {}
        },
        {
            "cell_type": "code",
            "execution_count": 2,
            "source": [
                "array = np.array([-57, 101, 270, 130, 144])"
            ],
            "outputs": [],
            "metadata": {}
        },
        {
            "cell_type": "code",
            "execution_count": 3,
            "source": [
                "def info_static(arr):\n",
                "    if isinstance(arr, np.ndarray):\n",
                "        print(f\"Max {np.max(arr)}\")\n",
                "        print(f\"Min {np.min(arr)}\")\n",
                "        print(f\"Mean {np.mean(arr)}\")\n",
                "        print(f\"Median {np.median(arr)}\")\n",
                "        print(f\"Variance {np.var(arr)}\")\n",
                "        print(f\"Standard deviation {np.std(arr)}\")\n",
                "    else:\n",
                "        return None\n",
                "\n",
                "if __name__==\"__main__\":\n",
                "    info_static(array)\n"
            ],
            "outputs": [
                {
                    "output_type": "stream",
                    "name": "stdout",
                    "text": [
                        "Max 270\n",
                        "Min -57\n",
                        "Mean 117.6\n",
                        "Median 130.0\n",
                        "Variance 10967.439999999999\n",
                        "Standard deviation 104.72554607162475\n"
                    ]
                }
            ],
            "metadata": {}
        },
        {
            "cell_type": "code",
            "execution_count": null,
            "source": [],
            "outputs": [],
            "metadata": {}
        }
    ],
    "metadata": {
        "orig_nbformat": 4,
        "language_info": {
            "name": "python",
            "version": "3.9.2",
            "mimetype": "text/x-python",
            "codemirror_mode": {
                "name": "ipython",
                "version": 3
            },
            "pygments_lexer": "ipython3",
            "nbconvert_exporter": "python",
            "file_extension": ".py"
        },
        "kernelspec": {
            "name": "python3",
            "display_name": "Python 3.9.2 64-bit"
        },
        "interpreter": {
            "hash": "916dbcbb3f70747c44a77c7bcd40155683ae19c65e1c03b4aa3499c5328201f1"
        }
    },
    "nbformat": 4,
    "nbformat_minor": 2
}