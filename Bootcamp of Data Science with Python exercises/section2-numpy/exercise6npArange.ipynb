{
    "cells": [
        {
            "cell_type": "markdown",
            "source": [
                "# Create the following arrays:\n",
                "# array([[10],\n",
                "# [15],\n",
                "# [20],\n",
                "# [25],\n",
                "# [30],\n",
                "# [35],\n",
                "# [40],\n",
                "# [45]])\n",
                "# b array([-50, -45, -40, -35, -30, -25, -20, -15, -10,  -5])\n",
                "# c array([[ 50,  52,  54,  56,  58,  60,  62,  64,  66,  68],\n",
                "# [ 70,  72,  74,  76,  78,  80,  82,  84,  86,  88],\n",
                "# [ 90,  92,  94,  96,  98, 100, 102, 104, 106, 108],\n",
                "# [110, 112, 114, 116, 118, 120, 122, 124, 126, 128],\n",
                "# [130, 132, 134, 136, 138, 140, 142, 144, 146, 148]])\n",
                "       "
            ],
            "metadata": {}
        },
        {
            "cell_type": "code",
            "execution_count": 1,
            "source": [
                "import numpy as np"
            ],
            "outputs": [],
            "metadata": {}
        },
        {
            "cell_type": "code",
            "execution_count": 6,
            "source": [
                "arrayA = np.arange(10, 50, 5).reshape(-1,1)\n",
                "arrayB = np.array(range(-50, 0, 5))\n",
                "arrayC = np.arange(50, 150, 2).reshape(5, 10)\n",
                "\n",
                "print(f\"a - {arrayA}\")\n",
                "print(f\"b - {arrayB}\")\n",
                "print(f\"c - {arrayC}\")"
            ],
            "outputs": [
                {
                    "output_type": "stream",
                    "name": "stdout",
                    "text": [
                        "a - [[10]\n",
                        " [15]\n",
                        " [20]\n",
                        " [25]\n",
                        " [30]\n",
                        " [35]\n",
                        " [40]\n",
                        " [45]]\n",
                        "b - [-50 -45 -40 -35 -30 -25 -20 -15 -10  -5]\n",
                        "c - [[ 50  52  54  56  58  60  62  64  66  68]\n",
                        " [ 70  72  74  76  78  80  82  84  86  88]\n",
                        " [ 90  92  94  96  98 100 102 104 106 108]\n",
                        " [110 112 114 116 118 120 122 124 126 128]\n",
                        " [130 132 134 136 138 140 142 144 146 148]]\n"
                    ]
                }
            ],
            "metadata": {}
        }
    ],
    "metadata": {
        "orig_nbformat": 4,
        "language_info": {
            "name": "python"
        }
    },
    "nbformat": 4,
    "nbformat_minor": 2
}