{
    "cells": [
        {
            "cell_type": "markdown",
            "source": [
                "#  A numpy object has attributes and methods inherited from the class (numpy.ndarray). Creat an array and inspect the following attributes:\n",
                "# Shape: A tuple containing a number of elements (size) in each dimension of the array;\n",
                "# Size: Total number of elements in the array;\n",
                "# ndim: Number of dimensions (axes);\n",
                "# nbytes: Number of bytes used to store the data;\n",
                "# dtype: The data type of the elements in the array;\n",
                "\n"
            ],
            "metadata": {}
        },
        {
            "cell_type": "code",
            "execution_count": 9,
            "source": [
                "import numpy as np\n",
                "array = np.array([1,2,3,4,5,6,7,8,9])\n",
                "print(f\"Shape: {array.shape}\")\n",
                "print(f\"Size: {array.size}\")\n",
                "print(f\"Ndim: {array.ndim}\")\n",
                "print(f\"nbyter: {array.nbytes}\")\n",
                "print(f\"dtype: {array.dtype}\")"
            ],
            "outputs": [
                {
                    "output_type": "stream",
                    "name": "stdout",
                    "text": [
                        "Shape: (9,)\n",
                        "Size: 9\n",
                        "Ndim: 1\n",
                        "nbyter: 72\n",
                        "dtype: int64\n"
                    ]
                }
            ],
            "metadata": {}
        }
    ],
    "metadata": {
        "orig_nbformat": 4,
        "language_info": {
            "name": "python"
        }
    },
    "nbformat": 4,
    "nbformat_minor": 2
}