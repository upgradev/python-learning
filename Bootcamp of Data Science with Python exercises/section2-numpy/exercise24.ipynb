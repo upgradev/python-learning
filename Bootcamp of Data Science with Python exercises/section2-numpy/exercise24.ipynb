{
    "cells": [
        {
            "cell_type": "markdown",
            "source": [
                "# Considering the arrays below:\n",
                "# Obtain:\n",
                "# a) The first, the third, and the last element of each array;\n",
                "# b) invert the array;\n",
                "# c) Take the number 20 in both of the arrays and store the sum in a variable\n"
            ],
            "metadata": {}
        },
        {
            "cell_type": "code",
            "execution_count": 2,
            "source": [
                "import numpy as np\n",
                "array1 = np.array([10, 20, 30, 40])\n",
                "array2 = np.array([100, 30, 5, 1, 40, 100, 20, 130, 155,170])"
            ],
            "outputs": [],
            "metadata": {}
        },
        {
            "cell_type": "code",
            "execution_count": 3,
            "source": [
                "arrays = [array1, array2]\n",
                "sum = 0\n",
                "for index, array in enumerate(arrays, start=1):\n",
                "    print(f\"first element array {index} is {array[0]}\")\n",
                "    print(f\"third element array {index} is {array[2]}\")\n",
                "    print(f\"last element array {index} is {array[-1]}\")\n",
                "    print(f\"array {index} inverted {array[::-1]}\")\n",
                "\n",
                "    for a in array:\n",
                "        if a == 20:\n",
                "            sum += a\n",
                "print(f\"sum: {sum}\")"
            ],
            "outputs": [
                {
                    "output_type": "stream",
                    "name": "stdout",
                    "text": [
                        "first element array 1 is 10\n",
                        "third element array 1 is 30\n",
                        "last element array 1 is 40\n",
                        "array 1 inverted [40 30 20 10]\n",
                        "first element array 2 is 100\n",
                        "third element array 2 is 5\n",
                        "last element array 2 is 170\n",
                        "array 2 inverted [170 155 130  20 100  40   1   5  30 100]\n"
                    ]
                }
            ],
            "metadata": {}
        }
    ],
    "metadata": {
        "orig_nbformat": 4,
        "language_info": {
            "name": "python",
            "version": "3.9.2",
            "mimetype": "text/x-python",
            "codemirror_mode": {
                "name": "ipython",
                "version": 3
            },
            "pygments_lexer": "ipython3",
            "nbconvert_exporter": "python",
            "file_extension": ".py"
        },
        "kernelspec": {
            "name": "python3",
            "display_name": "Python 3.9.2 64-bit"
        },
        "interpreter": {
            "hash": "916dbcbb3f70747c44a77c7bcd40155683ae19c65e1c03b4aa3499c5328201f1"
        }
    },
    "nbformat": 4,
    "nbformat_minor": 2
}