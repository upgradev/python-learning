{
    "cells": [
        {
            "cell_type": "markdown",
            "source": [
                "# Use the np.unique() function to obtain an array with the unique \n",
                "# elements of the array below. To do so, store the new array in a variable.\n",
                "\n"
            ],
            "metadata": {}
        },
        {
            "cell_type": "code",
            "execution_count": 1,
            "source": [
                "import numpy as np\n",
                "A = np.array([\n",
                "    [1, 3, 3, 4, 5],\n",
                "    [4, 7, 11, 3, 5],\n",
                "    [1, 11, 4, 4, 11]])\n",
                "\n",
                "unique_arr = np.unique(A)\n",
                "print(f\"{unique_arr}\")"
            ],
            "outputs": [
                {
                    "output_type": "stream",
                    "name": "stdout",
                    "text": [
                        "[ 1  3  4  5  7 11]\n"
                    ]
                }
            ],
            "metadata": {}
        }
    ],
    "metadata": {
        "orig_nbformat": 4,
        "language_info": {
            "name": "python",
            "version": "3.9.2",
            "mimetype": "text/x-python",
            "codemirror_mode": {
                "name": "ipython",
                "version": 3
            },
            "pygments_lexer": "ipython3",
            "nbconvert_exporter": "python",
            "file_extension": ".py"
        },
        "kernelspec": {
            "name": "python3",
            "display_name": "Python 3.9.2 64-bit"
        },
        "interpreter": {
            "hash": "916dbcbb3f70747c44a77c7bcd40155683ae19c65e1c03b4aa3499c5328201f1"
        }
    },
    "nbformat": 4,
    "nbformat_minor": 2
}