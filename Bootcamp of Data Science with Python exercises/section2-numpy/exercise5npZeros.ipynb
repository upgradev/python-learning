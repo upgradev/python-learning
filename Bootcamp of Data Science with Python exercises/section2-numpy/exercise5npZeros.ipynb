{
    "cells": [
        {
            "cell_type": "markdown",
            "source": [
                "# The np.zeros() function allows you to create an array filled with the number 0 in all your entries. We can specify as arguments the shape and the kind of dtype of the array (default is the float). Use this function to create the following arrays:\n",
                "# a - array([0., 0., 0., 0., 0., 0., 0., 0., 0., 0.])\n",
                "# b - array([[0., 0.],       \n",
                "#      [0., 0.]]) \n",
                "# c - array([[0., 0., 0., 0., 0., 0.],\n",
                "#       [0., 0., 0., 0., 0., 0.],\n",
                "#       [0., 0., 0., 0., 0., 0.],\n",
                "#       [0., 0., 0., 0., 0., 0.]])"
            ],
            "metadata": {}
        },
        {
            "cell_type": "code",
            "execution_count": 1,
            "source": [
                "import numpy as np"
            ],
            "outputs": [],
            "metadata": {}
        },
        {
            "cell_type": "code",
            "execution_count": 3,
            "source": [
                "arrayA = np.zeros(10)\n",
                "arrayB = np.zeros((1,2))\n",
                "arrayC = np.zeros((4, 6), dtype=float)\n",
                "\n",
                "print(f\"a - {arrayA}\")\n",
                "print(f\"a - {arrayB}\")\n",
                "print(f\"c - {arrayC}\")\n"
            ],
            "outputs": [
                {
                    "output_type": "stream",
                    "name": "stdout",
                    "text": [
                        "a - [0. 0. 0. 0. 0. 0. 0. 0. 0. 0.]\n",
                        "a - [[0. 0.]]\n"
                    ]
                }
            ],
            "metadata": {}
        }
    ],
    "metadata": {
        "orig_nbformat": 4,
        "language_info": {
            "name": "python"
        }
    },
    "nbformat": 4,
    "nbformat_minor": 2
}