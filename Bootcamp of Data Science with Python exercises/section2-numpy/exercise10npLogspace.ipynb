{
    "cells": [
        {
            "cell_type": "markdown",
            "source": [
                "# The np.logspace () function \n",
                "# returns evenly spaced numbers on a logarithmic scale. \n",
                "# Create an array with numbers within the range [1,51] in 10 parts with the np.logspace() function.\n",
                "# Expected return:\n",
                "\n",
                "# array([[1.00000000e+01],\n",
                "# [3.59381366e+06],\n",
                "# [1.29154967e+12],\n",
                "# [4.64158883e+17],\n",
                "# [1.66810054e+23],\n",
                "# [5.99484250e+28],\n",
                "# [2.15443469e+34],\n",
                "# [7.74263683e+39],\n",
                "# [2.78255940e+45],\n",
                "# [1.00000000e+51]])"
            ],
            "metadata": {}
        },
        {
            "cell_type": "code",
            "execution_count": 2,
            "source": [
                "import numpy as np"
            ],
            "outputs": [],
            "metadata": {}
        },
        {
            "cell_type": "code",
            "execution_count": 7,
            "source": [
                "arrayA = np.logspace(1, 51, 10).reshape(-1,1)\n",
                "arrayA"
            ],
            "outputs": [
                {
                    "output_type": "execute_result",
                    "data": {
                        "text/plain": [
                            "array([[1.00000000e+01],\n",
                            "       [2.78255940e+06],\n",
                            "       [7.74263683e+11],\n",
                            "       [2.15443469e+17],\n",
                            "       [5.99484250e+22],\n",
                            "       [1.66810054e+28],\n",
                            "       [4.64158883e+33],\n",
                            "       [1.29154967e+39],\n",
                            "       [3.59381366e+44],\n",
                            "       [1.00000000e+50]])"
                        ]
                    },
                    "metadata": {},
                    "execution_count": 7
                }
            ],
            "metadata": {}
        }
    ],
    "metadata": {
        "orig_nbformat": 4,
        "language_info": {
            "name": "python"
        }
    },
    "nbformat": 4,
    "nbformat_minor": 2
}