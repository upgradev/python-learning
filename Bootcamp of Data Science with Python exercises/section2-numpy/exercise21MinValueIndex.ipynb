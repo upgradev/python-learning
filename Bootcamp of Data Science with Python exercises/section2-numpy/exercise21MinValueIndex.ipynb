{
    "cells": [
        {
            "cell_type": "markdown",
            "source": [
                "# Get the index of the minimum value of array B."
            ],
            "metadata": {}
        },
        {
            "cell_type": "code",
            "execution_count": 1,
            "source": [
                "import numpy as np\n",
                "B = np.array([\n",
                "    [73, 22, 20, 62,  3],\n",
                "    [68, 84, 27, 59, 93],\n",
                "    [48, 52,  4, 55, 50],\n",
                "    [42, 23, 63, 67,  4],\n",
                "    [44, 30, 41, 31, 29]])"
            ],
            "outputs": [],
            "metadata": {}
        },
        {
            "cell_type": "code",
            "execution_count": 2,
            "source": [
                "print(f\"Value min array {np.min(B)}\")\n",
                "print(f\"Value min index {np.argmin(B)}\")"
            ],
            "outputs": [
                {
                    "output_type": "stream",
                    "name": "stdout",
                    "text": [
                        "Value min array 3\n",
                        "Value min index 4\n"
                    ]
                }
            ],
            "metadata": {}
        }
    ],
    "metadata": {
        "orig_nbformat": 4,
        "language_info": {
            "name": "python",
            "version": "3.9.2",
            "mimetype": "text/x-python",
            "codemirror_mode": {
                "name": "ipython",
                "version": 3
            },
            "pygments_lexer": "ipython3",
            "nbconvert_exporter": "python",
            "file_extension": ".py"
        },
        "kernelspec": {
            "name": "python3",
            "display_name": "Python 3.9.2 64-bit"
        },
        "interpreter": {
            "hash": "916dbcbb3f70747c44a77c7bcd40155683ae19c65e1c03b4aa3499c5328201f1"
        }
    },
    "nbformat": 4,
    "nbformat_minor": 2
}