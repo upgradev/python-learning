{
    "cells": [
        {
            "cell_type": "markdown",
            "source": [
                "# Access the number 5, 9, 3 and 21 from the array below"
            ],
            "metadata": {}
        },
        {
            "cell_type": "code",
            "execution_count": 1,
            "source": [
                "import numpy as np\n",
                "ar = np.array([\n",
                "    [[1, 1, 5, 1],\n",
                "    [1, 1, 1, 9]],\n",
                "    [[1, 3, 1, 1],\n",
                "    [1, 1, 21, 1]]\n",
                "                ])\n"
            ],
            "outputs": [],
            "metadata": {}
        },
        {
            "cell_type": "code",
            "execution_count": 7,
            "source": [
                "for new_arr in ar:\n",
                "    for arr in new_arr:\n",
                "        for array_final in arr:\n",
                "            if array_final == 5 or array_final == 9 or array_final == 3 or array_final == 21:\n",
                "                print(array_final)\n"
            ],
            "outputs": [
                {
                    "output_type": "stream",
                    "name": "stdout",
                    "text": [
                        "5\n",
                        "9\n",
                        "3\n",
                        "21\n"
                    ]
                }
            ],
            "metadata": {}
        }
    ],
    "metadata": {
        "orig_nbformat": 4,
        "language_info": {
            "name": "python",
            "version": "3.9.2",
            "mimetype": "text/x-python",
            "codemirror_mode": {
                "name": "ipython",
                "version": 3
            },
            "pygments_lexer": "ipython3",
            "nbconvert_exporter": "python",
            "file_extension": ".py"
        },
        "kernelspec": {
            "name": "python3",
            "display_name": "Python 3.9.2 64-bit"
        },
        "interpreter": {
            "hash": "916dbcbb3f70747c44a77c7bcd40155683ae19c65e1c03b4aa3499c5328201f1"
        }
    },
    "nbformat": 4,
    "nbformat_minor": 2
}