{
 "cells": [
  {
   "cell_type": "markdown",
   "source": [
    "# Generate a DataFrame with 7 columns and 100 rows, with the following characteristics:\n",
    "\n",
    "# column 'A' follows a standard normal distribution;\n",
    "\n",
    "# column 'B' follows a uniform distribution;\n",
    "\n",
    "# column 'C' follows a binomial distribution, with 6 attempts and probability of success 0.6;\n",
    "\n",
    "# column 'D' follows a standard exponential distribution;\n",
    "\n",
    "# column 'E' follows a Poisson distribution with a known number of occurrences equal to 10;\n",
    "\n",
    "# column 'F' follows a normal distribution of mean 100 and standard deviation 15;\n",
    "\n",
    "# the 'G' column has random integers between 50 and 3000."
   ],
   "metadata": {}
  },
  {
   "cell_type": "code",
   "execution_count": 3,
   "source": [
    "import pandas as pd\n",
    "from numpy import random"
   ],
   "outputs": [],
   "metadata": {}
  },
  {
   "cell_type": "code",
   "execution_count": null,
   "source": [
    "n = 100\n",
    "data = {\n",
    "    'A': random.normal(size=n),\n",
    "    'B': random.uniform(size=n),\n",
    "    'C': random.binomial(n=6, p=0.6, size=n),\n",
    "    'D': random.standard_exponential(size=n),\n",
    "    'E': random.poisson(lam=10, size=n),\n",
    "    'F': random.normal(loc=100, scale=15, size=n),\n",
    "    'G': random.randint(low=50, high=3000, size=n)\n",
    "}\n",
    "df = pd.DataFrame(data)\n",
    "df"
   ],
   "outputs": [],
   "metadata": {}
  }
 ],
 "metadata": {
  "orig_nbformat": 4,
  "language_info": {
   "name": "python",
   "version": "3.9.2",
   "mimetype": "text/x-python",
   "codemirror_mode": {
    "name": "ipython",
    "version": 3
   },
   "pygments_lexer": "ipython3",
   "nbconvert_exporter": "python",
   "file_extension": ".py"
  },
  "kernelspec": {
   "name": "python3",
   "display_name": "Python 3.9.2 64-bit"
  },
  "interpreter": {
   "hash": "916dbcbb3f70747c44a77c7bcd40155683ae19c65e1c03b4aa3499c5328201f1"
  }
 },
 "nbformat": 4,
 "nbformat_minor": 2
}