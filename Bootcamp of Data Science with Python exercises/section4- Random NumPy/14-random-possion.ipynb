{
 "cells": [
  {
   "cell_type": "markdown",
   "source": [
    "# The Poisson distribution is a discrete probability distribution. This distribution describes how \n",
    "# many times a given event can occur at a specified time. The NumPy library allows you to generate \n",
    "# random numbers from this distribution with the np.random.poisson() \n",
    "# function. Generate a 50 x 3 random shape distribution, with a known number of occurrences equal to 5."
   ],
   "metadata": {}
  },
  {
   "cell_type": "code",
   "execution_count": 1,
   "source": [
    "import numpy as np"
   ],
   "outputs": [],
   "metadata": {}
  },
  {
   "cell_type": "code",
   "execution_count": 2,
   "source": [
    "array = np.random.poisson(lam=5, size=(50, 3))\n",
    "print(array)"
   ],
   "outputs": [
    {
     "output_type": "stream",
     "name": "stdout",
     "text": [
      "[[ 8  5  6]\n",
      " [ 5  2  7]\n",
      " [ 5  4  6]\n",
      " [ 7  8  8]\n",
      " [ 8  6  4]\n",
      " [ 5  8  6]\n",
      " [ 6  3  6]\n",
      " [ 4  2  3]\n",
      " [ 6  8  0]\n",
      " [ 4  4  4]\n",
      " [ 5  2  5]\n",
      " [ 3  6  3]\n",
      " [ 4  2  8]\n",
      " [ 4  6  6]\n",
      " [ 3  6  4]\n",
      " [ 4  6 10]\n",
      " [ 3  9  2]\n",
      " [ 5  7  4]\n",
      " [ 5  6  7]\n",
      " [ 4  3  3]\n",
      " [ 7  3  4]\n",
      " [ 6  3  4]\n",
      " [ 3  3  2]\n",
      " [ 5  1  2]\n",
      " [ 7  5  5]\n",
      " [ 6  3  2]\n",
      " [ 3  1  5]\n",
      " [ 4  6  6]\n",
      " [ 7  4  5]\n",
      " [ 4  5  2]\n",
      " [ 4  5  3]\n",
      " [ 6  4 12]\n",
      " [ 3  6  4]\n",
      " [ 5  3  4]\n",
      " [ 8  3  7]\n",
      " [ 6  3  6]\n",
      " [ 8  4  6]\n",
      " [ 6  3  7]\n",
      " [ 6  2  2]\n",
      " [ 6  5  6]\n",
      " [ 2  2  4]\n",
      " [ 2  8  2]\n",
      " [ 8  5  3]\n",
      " [ 8  4  3]\n",
      " [ 3  6  6]\n",
      " [ 5  6  9]\n",
      " [ 3  5  3]\n",
      " [ 5  5  5]\n",
      " [ 7  6  4]\n",
      " [ 3  4  9]]\n"
     ]
    }
   ],
   "metadata": {}
  }
 ],
 "metadata": {
  "orig_nbformat": 4,
  "language_info": {
   "name": "python",
   "version": "3.9.2",
   "mimetype": "text/x-python",
   "codemirror_mode": {
    "name": "ipython",
    "version": 3
   },
   "pygments_lexer": "ipython3",
   "nbconvert_exporter": "python",
   "file_extension": ".py"
  },
  "kernelspec": {
   "name": "python3",
   "display_name": "Python 3.9.2 64-bit"
  },
  "interpreter": {
   "hash": "916dbcbb3f70747c44a77c7bcd40155683ae19c65e1c03b4aa3499c5328201f1"
  }
 },
 "nbformat": 4,
 "nbformat_minor": 2
}