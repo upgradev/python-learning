{
 "cells": [
  {
   "cell_type": "markdown",
   "source": [
    "# Construct two vectors of size 100, with a mean of 1 and standard deviation of 0.5, \n",
    "# the first one follows a normal distribution, while the second vector follows a \n",
    "# logistic distribution. Then build a DataFrame with the random numbers created and \n",
    "# generate a single graph that shows both generated random distributions.\n",
    "\n"
   ],
   "metadata": {}
  },
  {
   "cell_type": "code",
   "execution_count": 1,
   "source": [
    "import matplotlib.pyplot as plt\n",
    "import seaborn as sns\n",
    "import pandas as pd\n",
    "import numpy as np"
   ],
   "outputs": [],
   "metadata": {}
  },
  {
   "cell_type": "code",
   "execution_count": 3,
   "source": [
    "arr1 = np.random.normal(loc=1, scale=0.5, size=100)\n",
    "arr2 = np.random.logistic(loc=1, scale=0.5, size=100)\n",
    "df = pd.DataFrame({\"Normal\": arr1, \"Logistic\": arr2})\n",
    "df"
   ],
   "outputs": [
    {
     "output_type": "execute_result",
     "data": {
      "text/plain": [
       "      Normal  Logistic\n",
       "0   0.437313  1.620946\n",
       "1   0.929614  0.754771\n",
       "2   1.528792 -1.273130\n",
       "3   2.281871  0.346311\n",
       "4   0.814586  1.245346\n",
       "..       ...       ...\n",
       "95  0.619166  0.935285\n",
       "96  1.143318  0.692177\n",
       "97  0.813555  0.684584\n",
       "98  2.269226  1.797237\n",
       "99  0.514071 -0.048389\n",
       "\n",
       "[100 rows x 2 columns]"
      ],
      "text/html": [
       "<div>\n",
       "<style scoped>\n",
       "    .dataframe tbody tr th:only-of-type {\n",
       "        vertical-align: middle;\n",
       "    }\n",
       "\n",
       "    .dataframe tbody tr th {\n",
       "        vertical-align: top;\n",
       "    }\n",
       "\n",
       "    .dataframe thead th {\n",
       "        text-align: right;\n",
       "    }\n",
       "</style>\n",
       "<table border=\"1\" class=\"dataframe\">\n",
       "  <thead>\n",
       "    <tr style=\"text-align: right;\">\n",
       "      <th></th>\n",
       "      <th>Normal</th>\n",
       "      <th>Logistic</th>\n",
       "    </tr>\n",
       "  </thead>\n",
       "  <tbody>\n",
       "    <tr>\n",
       "      <th>0</th>\n",
       "      <td>0.437313</td>\n",
       "      <td>1.620946</td>\n",
       "    </tr>\n",
       "    <tr>\n",
       "      <th>1</th>\n",
       "      <td>0.929614</td>\n",
       "      <td>0.754771</td>\n",
       "    </tr>\n",
       "    <tr>\n",
       "      <th>2</th>\n",
       "      <td>1.528792</td>\n",
       "      <td>-1.273130</td>\n",
       "    </tr>\n",
       "    <tr>\n",
       "      <th>3</th>\n",
       "      <td>2.281871</td>\n",
       "      <td>0.346311</td>\n",
       "    </tr>\n",
       "    <tr>\n",
       "      <th>4</th>\n",
       "      <td>0.814586</td>\n",
       "      <td>1.245346</td>\n",
       "    </tr>\n",
       "    <tr>\n",
       "      <th>...</th>\n",
       "      <td>...</td>\n",
       "      <td>...</td>\n",
       "    </tr>\n",
       "    <tr>\n",
       "      <th>95</th>\n",
       "      <td>0.619166</td>\n",
       "      <td>0.935285</td>\n",
       "    </tr>\n",
       "    <tr>\n",
       "      <th>96</th>\n",
       "      <td>1.143318</td>\n",
       "      <td>0.692177</td>\n",
       "    </tr>\n",
       "    <tr>\n",
       "      <th>97</th>\n",
       "      <td>0.813555</td>\n",
       "      <td>0.684584</td>\n",
       "    </tr>\n",
       "    <tr>\n",
       "      <th>98</th>\n",
       "      <td>2.269226</td>\n",
       "      <td>1.797237</td>\n",
       "    </tr>\n",
       "    <tr>\n",
       "      <th>99</th>\n",
       "      <td>0.514071</td>\n",
       "      <td>-0.048389</td>\n",
       "    </tr>\n",
       "  </tbody>\n",
       "</table>\n",
       "<p>100 rows × 2 columns</p>\n",
       "</div>"
      ]
     },
     "metadata": {},
     "execution_count": 3
    }
   ],
   "metadata": {}
  },
  {
   "cell_type": "code",
   "execution_count": null,
   "source": [
    "dist = [\"Normal\", \"Logistic\"]\n",
    "plt.figure(figsize=(8,5))\n",
    "sns.kdeplot(data=df, x = \"Normal\")\n",
    "sns.kdeplot(data=df, x = \"Logistic\")\n",
    "plt.legend(dist, loc=\"upper left\")\n",
    "plt.xlabel(\"values\")\n",
    "plt.show()"
   ],
   "outputs": [],
   "metadata": {}
  }
 ],
 "metadata": {
  "orig_nbformat": 4,
  "language_info": {
   "name": "python",
   "version": "3.9.2",
   "mimetype": "text/x-python",
   "codemirror_mode": {
    "name": "ipython",
    "version": 3
   },
   "pygments_lexer": "ipython3",
   "nbconvert_exporter": "python",
   "file_extension": ".py"
  },
  "kernelspec": {
   "name": "python3",
   "display_name": "Python 3.9.2 64-bit"
  },
  "interpreter": {
   "hash": "916dbcbb3f70747c44a77c7bcd40155683ae19c65e1c03b4aa3499c5328201f1"
  }
 },
 "nbformat": 4,
 "nbformat_minor": 2
}