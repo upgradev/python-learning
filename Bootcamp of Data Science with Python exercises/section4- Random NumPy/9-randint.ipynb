{
 "cells": [
  {
   "cell_type": "markdown",
   "source": [
    "# Generate a 30 x 5 shape array with numbers between 0 and 4.\n",
    "# Tip: np.random.randint().\n",
    "\n"
   ],
   "metadata": {}
  },
  {
   "cell_type": "code",
   "execution_count": 1,
   "source": [
    "import numpy as np"
   ],
   "outputs": [],
   "metadata": {}
  },
  {
   "cell_type": "code",
   "execution_count": 3,
   "source": [
    "array = np.random.randint(low=0, high=4, size=(30,5))\n",
    "# array = np.random.randint(5, size=(30,5))\n",
    "print(array)"
   ],
   "outputs": [
    {
     "output_type": "stream",
     "name": "stdout",
     "text": [
      "[[0 0 0 4 3]\n",
      " [0 1 3 2 4]\n",
      " [1 3 4 2 0]\n",
      " [2 0 0 3 3]\n",
      " [0 1 0 2 3]\n",
      " [2 3 0 0 2]\n",
      " [2 1 4 2 2]\n",
      " [3 1 0 2 0]\n",
      " [1 3 2 2 1]\n",
      " [3 3 2 4 2]\n",
      " [2 4 0 4 0]\n",
      " [3 2 2 2 0]\n",
      " [4 1 0 2 2]\n",
      " [0 1 3 2 1]\n",
      " [2 1 2 0 2]\n",
      " [0 4 1 3 1]\n",
      " [3 0 1 3 3]\n",
      " [3 3 2 0 4]\n",
      " [0 0 4 0 0]\n",
      " [1 2 3 0 0]\n",
      " [0 1 1 0 3]\n",
      " [2 0 0 1 0]\n",
      " [2 3 1 1 2]\n",
      " [1 2 1 0 0]\n",
      " [4 3 0 1 4]\n",
      " [3 3 4 3 2]\n",
      " [4 4 1 4 2]\n",
      " [0 0 1 0 3]\n",
      " [2 3 3 3 2]\n",
      " [1 1 2 0 4]]\n"
     ]
    }
   ],
   "metadata": {}
  }
 ],
 "metadata": {
  "orig_nbformat": 4,
  "language_info": {
   "name": "python",
   "version": "3.9.2",
   "mimetype": "text/x-python",
   "codemirror_mode": {
    "name": "ipython",
    "version": 3
   },
   "pygments_lexer": "ipython3",
   "nbconvert_exporter": "python",
   "file_extension": ".py"
  },
  "kernelspec": {
   "name": "python3",
   "display_name": "Python 3.9.2 64-bit"
  },
  "interpreter": {
   "hash": "916dbcbb3f70747c44a77c7bcd40155683ae19c65e1c03b4aa3499c5328201f1"
  }
 },
 "nbformat": 4,
 "nbformat_minor": 2
}