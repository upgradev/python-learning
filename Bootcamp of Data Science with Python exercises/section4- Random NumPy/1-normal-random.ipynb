{
 "cells": [
  {
   "cell_type": "markdown",
   "source": [
    "# Generate a normal random distribution of order 4 x 5."
   ],
   "metadata": {}
  },
  {
   "cell_type": "code",
   "execution_count": 1,
   "source": [
    "import numpy as np"
   ],
   "outputs": [],
   "metadata": {}
  },
  {
   "cell_type": "code",
   "execution_count": 3,
   "source": [
    "data = np.random.normal(size=(4,5))\n",
    "print(data)"
   ],
   "outputs": [
    {
     "output_type": "stream",
     "name": "stdout",
     "text": [
      "[[-0.81633946 -0.59455835 -0.40548277 -0.45895448 -2.20185993]\n",
      " [-1.24050165 -1.13174489  0.49474444  1.39925256 -0.55068386]\n",
      " [-0.06071727  0.22118152 -1.37493157 -2.07839535 -1.59429564]\n",
      " [-0.70290863  0.20452127  0.68819471 -1.43985841 -1.04283298]]\n"
     ]
    }
   ],
   "metadata": {}
  }
 ],
 "metadata": {
  "orig_nbformat": 4,
  "language_info": {
   "name": "python",
   "version": "3.9.2",
   "mimetype": "text/x-python",
   "codemirror_mode": {
    "name": "ipython",
    "version": 3
   },
   "pygments_lexer": "ipython3",
   "nbconvert_exporter": "python",
   "file_extension": ".py"
  },
  "kernelspec": {
   "name": "python3",
   "display_name": "Python 3.9.2 64-bit"
  },
  "interpreter": {
   "hash": "916dbcbb3f70747c44a77c7bcd40155683ae19c65e1c03b4aa3499c5328201f1"
  }
 },
 "nbformat": 4,
 "nbformat_minor": 2
}