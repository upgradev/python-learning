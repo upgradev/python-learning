{
 "cells": [
  {
   "cell_type": "markdown",
   "source": [
    "# Use the np.random.rand() function to generate a 10 x 5 array. \n",
    "# Remember that this function generates random numbers according to a \n",
    "# uniform distribution in the range [0.1). Then, show the average, \n",
    "# standard deviation and median of the generated array.\n",
    "\n"
   ],
   "metadata": {}
  },
  {
   "cell_type": "code",
   "execution_count": 1,
   "source": [
    "import numpy as np"
   ],
   "outputs": [],
   "metadata": {}
  },
  {
   "cell_type": "code",
   "execution_count": 2,
   "source": [
    "array = np.random.rand(10,5)\n",
    "mean = array.mean().round(2)\n",
    "standard_deviation = array.std().round(2)\n",
    "median = np.median(array).round(2)\n",
    "print(array)\n",
    "print(f\"Mean: {mean}\")\n",
    "print(f\"Standard Deviation: {standard_deviation}\")\n",
    "print(f\"Median: {median}\")"
   ],
   "outputs": [
    {
     "output_type": "stream",
     "name": "stdout",
     "text": [
      "Mean: 0.48\n",
      "Standard Deviation: 0.28\n",
      "Median: 0.52\n"
     ]
    }
   ],
   "metadata": {}
  }
 ],
 "metadata": {
  "orig_nbformat": 4,
  "language_info": {
   "name": "python",
   "version": "3.9.2",
   "mimetype": "text/x-python",
   "codemirror_mode": {
    "name": "ipython",
    "version": 3
   },
   "pygments_lexer": "ipython3",
   "nbconvert_exporter": "python",
   "file_extension": ".py"
  },
  "kernelspec": {
   "name": "python3",
   "display_name": "Python 3.9.2 64-bit"
  },
  "interpreter": {
   "hash": "916dbcbb3f70747c44a77c7bcd40155683ae19c65e1c03b4aa3499c5328201f1"
  }
 },
 "nbformat": 4,
 "nbformat_minor": 2
}