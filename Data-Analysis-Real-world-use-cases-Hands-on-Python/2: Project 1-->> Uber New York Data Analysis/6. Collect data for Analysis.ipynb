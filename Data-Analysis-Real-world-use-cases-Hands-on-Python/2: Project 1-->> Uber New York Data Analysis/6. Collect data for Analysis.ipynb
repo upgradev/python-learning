{
 "cells": [
  {
   "cell_type": "code",
   "execution_count": 1,
   "metadata": {},
   "outputs": [],
   "source": [
    "import pandas as pd\n",
    "import numpy as np\n",
    "import matplotlib.pyplot as plt\n",
    "import seaborn as sns"
   ]
  },
  {
   "cell_type": "code",
   "execution_count": 2,
   "metadata": {},
   "outputs": [],
   "source": [
    "import os"
   ]
  },
  {
   "cell_type": "code",
   "execution_count": 3,
   "metadata": {},
   "outputs": [
    {
     "data": {
      "text/plain": [
       "['uber-raw-data-may14.csv',\n",
       " 'other-Federal_02216.csv',\n",
       " 'uber-raw-data-janjune-15.csv',\n",
       " 'uber-raw-data-aug14.csv',\n",
       " 'other-American_B01362.csv',\n",
       " 'other-Firstclass_B01536.csv',\n",
       " 'other-FHV-services_jan-aug-2015.csv']"
      ]
     },
     "execution_count": 3,
     "metadata": {},
     "output_type": "execute_result"
    }
   ],
   "source": [
    "files = os.listdir(\"\")[-7:]\n",
    "files"
   ]
  },
  {
   "cell_type": "code",
   "execution_count": 4,
   "metadata": {},
   "outputs": [],
   "source": [
    "files.remove(\"uber-raw-data-janjune-15.csv\")"
   ]
  },
  {
   "cell_type": "code",
   "execution_count": 5,
   "metadata": {},
   "outputs": [
    {
     "data": {
      "text/plain": [
       "['uber-raw-data-may14.csv',\n",
       " 'other-Federal_02216.csv',\n",
       " 'uber-raw-data-aug14.csv',\n",
       " 'other-American_B01362.csv',\n",
       " 'other-Firstclass_B01536.csv',\n",
       " 'other-FHV-services_jan-aug-2015.csv']"
      ]
     },
     "execution_count": 5,
     "metadata": {},
     "output_type": "execute_result"
    }
   ],
   "source": [
    "files"
   ]
  },
  {
   "cell_type": "code",
   "execution_count": 6,
   "metadata": {},
   "outputs": [],
   "source": [
    "path = \"\"\n",
    "\n",
    "final = pd.DataFrame()\n",
    "\n",
    "for file in files:\n",
    "    df = pd.read_csv(path+\"/\"+file,encoding='unicode_escape')\n",
    "    final = pd.concat([df, final])"
   ]
  },
  {
   "cell_type": "code",
   "execution_count": 7,
   "metadata": {},
   "outputs": [
    {
     "data": {
      "text/plain": [
       "(1766648, 22)"
      ]
     },
     "execution_count": 7,
     "metadata": {},
     "output_type": "execute_result"
    }
   ],
   "source": [
    "final.shape"
   ]
  },
  {
   "cell_type": "code",
   "execution_count": 8,
   "metadata": {},
   "outputs": [],
   "source": [
    "df = final.copy()\n"
   ]
  },
  {
   "cell_type": "code",
   "execution_count": 9,
   "metadata": {},
   "outputs": [
    {
     "data": {
      "text/html": [
       "<div>\n",
       "<style scoped>\n",
       "    .dataframe tbody tr th:only-of-type {\n",
       "        vertical-align: middle;\n",
       "    }\n",
       "\n",
       "    .dataframe tbody tr th {\n",
       "        vertical-align: top;\n",
       "    }\n",
       "\n",
       "    .dataframe thead th {\n",
       "        text-align: right;\n",
       "    }\n",
       "</style>\n",
       "<table border=\"1\" class=\"dataframe\">\n",
       "  <thead>\n",
       "    <tr style=\"text-align: right;\">\n",
       "      <th></th>\n",
       "      <th>Base Number</th>\n",
       "      <th>Base Name</th>\n",
       "      <th>Pick Up Date</th>\n",
       "      <th>Number of Trips</th>\n",
       "      <th>Number of Vehicles</th>\n",
       "      <th>DATE</th>\n",
       "      <th>TIME</th>\n",
       "      <th>PICK UP ADDRESS</th>\n",
       "      <th>Unnamed: 3</th>\n",
       "      <th>Unnamed: 4</th>\n",
       "      <th>...</th>\n",
       "      <th>Lat</th>\n",
       "      <th>Lon</th>\n",
       "      <th>Base</th>\n",
       "      <th>Date</th>\n",
       "      <th>Time</th>\n",
       "      <th>PU_Address</th>\n",
       "      <th>DO_Address</th>\n",
       "      <th>Routing Details</th>\n",
       "      <th>PU_Address.1</th>\n",
       "      <th>Status</th>\n",
       "    </tr>\n",
       "  </thead>\n",
       "  <tbody>\n",
       "    <tr>\n",
       "      <th>0</th>\n",
       "      <td>B00013</td>\n",
       "      <td>LOVE CORP CAR INC</td>\n",
       "      <td>01/01/2015</td>\n",
       "      <td>26</td>\n",
       "      <td>17</td>\n",
       "      <td>NaN</td>\n",
       "      <td>NaN</td>\n",
       "      <td>NaN</td>\n",
       "      <td>NaN</td>\n",
       "      <td>NaN</td>\n",
       "      <td>...</td>\n",
       "      <td>NaN</td>\n",
       "      <td>NaN</td>\n",
       "      <td>NaN</td>\n",
       "      <td>NaN</td>\n",
       "      <td>NaN</td>\n",
       "      <td>NaN</td>\n",
       "      <td>NaN</td>\n",
       "      <td>NaN</td>\n",
       "      <td>NaN</td>\n",
       "      <td>NaN</td>\n",
       "    </tr>\n",
       "    <tr>\n",
       "      <th>1</th>\n",
       "      <td>B00014</td>\n",
       "      <td>NY ONE CORP CAR INC</td>\n",
       "      <td>01/01/2015</td>\n",
       "      <td>45</td>\n",
       "      <td>24</td>\n",
       "      <td>NaN</td>\n",
       "      <td>NaN</td>\n",
       "      <td>NaN</td>\n",
       "      <td>NaN</td>\n",
       "      <td>NaN</td>\n",
       "      <td>...</td>\n",
       "      <td>NaN</td>\n",
       "      <td>NaN</td>\n",
       "      <td>NaN</td>\n",
       "      <td>NaN</td>\n",
       "      <td>NaN</td>\n",
       "      <td>NaN</td>\n",
       "      <td>NaN</td>\n",
       "      <td>NaN</td>\n",
       "      <td>NaN</td>\n",
       "      <td>NaN</td>\n",
       "    </tr>\n",
       "    <tr>\n",
       "      <th>2</th>\n",
       "      <td>B00029</td>\n",
       "      <td>COMMUNITY CAR SVC CORP</td>\n",
       "      <td>01/01/2015</td>\n",
       "      <td>731</td>\n",
       "      <td>36</td>\n",
       "      <td>NaN</td>\n",
       "      <td>NaN</td>\n",
       "      <td>NaN</td>\n",
       "      <td>NaN</td>\n",
       "      <td>NaN</td>\n",
       "      <td>...</td>\n",
       "      <td>NaN</td>\n",
       "      <td>NaN</td>\n",
       "      <td>NaN</td>\n",
       "      <td>NaN</td>\n",
       "      <td>NaN</td>\n",
       "      <td>NaN</td>\n",
       "      <td>NaN</td>\n",
       "      <td>NaN</td>\n",
       "      <td>NaN</td>\n",
       "      <td>NaN</td>\n",
       "    </tr>\n",
       "    <tr>\n",
       "      <th>3</th>\n",
       "      <td>B00053</td>\n",
       "      <td>CHARGE AND RIDE INC</td>\n",
       "      <td>01/01/2015</td>\n",
       "      <td>10</td>\n",
       "      <td>9</td>\n",
       "      <td>NaN</td>\n",
       "      <td>NaN</td>\n",
       "      <td>NaN</td>\n",
       "      <td>NaN</td>\n",
       "      <td>NaN</td>\n",
       "      <td>...</td>\n",
       "      <td>NaN</td>\n",
       "      <td>NaN</td>\n",
       "      <td>NaN</td>\n",
       "      <td>NaN</td>\n",
       "      <td>NaN</td>\n",
       "      <td>NaN</td>\n",
       "      <td>NaN</td>\n",
       "      <td>NaN</td>\n",
       "      <td>NaN</td>\n",
       "      <td>NaN</td>\n",
       "    </tr>\n",
       "    <tr>\n",
       "      <th>4</th>\n",
       "      <td>B00095</td>\n",
       "      <td>LIBERTY CAR SERVICE INC.</td>\n",
       "      <td>01/01/2015</td>\n",
       "      <td>814</td>\n",
       "      <td>62</td>\n",
       "      <td>NaN</td>\n",
       "      <td>NaN</td>\n",
       "      <td>NaN</td>\n",
       "      <td>NaN</td>\n",
       "      <td>NaN</td>\n",
       "      <td>...</td>\n",
       "      <td>NaN</td>\n",
       "      <td>NaN</td>\n",
       "      <td>NaN</td>\n",
       "      <td>NaN</td>\n",
       "      <td>NaN</td>\n",
       "      <td>NaN</td>\n",
       "      <td>NaN</td>\n",
       "      <td>NaN</td>\n",
       "      <td>NaN</td>\n",
       "      <td>NaN</td>\n",
       "    </tr>\n",
       "  </tbody>\n",
       "</table>\n",
       "<p>5 rows × 22 columns</p>\n",
       "</div>"
      ],
      "text/plain": [
       "  Base Number                 Base Name Pick Up Date Number of Trips  \\\n",
       "0      B00013         LOVE CORP CAR INC   01/01/2015             26    \n",
       "1      B00014       NY ONE CORP CAR INC   01/01/2015             45    \n",
       "2      B00029    COMMUNITY CAR SVC CORP   01/01/2015            731    \n",
       "3      B00053       CHARGE AND RIDE INC   01/01/2015             10    \n",
       "4      B00095  LIBERTY CAR SERVICE INC.   01/01/2015            814    \n",
       "\n",
       "  Number of Vehicles DATE TIME PICK UP ADDRESS  Unnamed: 3  Unnamed: 4  ...  \\\n",
       "0                17   NaN  NaN             NaN         NaN         NaN  ...   \n",
       "1                24   NaN  NaN             NaN         NaN         NaN  ...   \n",
       "2                36   NaN  NaN             NaN         NaN         NaN  ...   \n",
       "3                 9   NaN  NaN             NaN         NaN         NaN  ...   \n",
       "4                62   NaN  NaN             NaN         NaN         NaN  ...   \n",
       "\n",
       "   Lat Lon  Base  Date Time PU_Address DO_Address Routing Details  \\\n",
       "0  NaN NaN   NaN   NaN  NaN        NaN        NaN             NaN   \n",
       "1  NaN NaN   NaN   NaN  NaN        NaN        NaN             NaN   \n",
       "2  NaN NaN   NaN   NaN  NaN        NaN        NaN             NaN   \n",
       "3  NaN NaN   NaN   NaN  NaN        NaN        NaN             NaN   \n",
       "4  NaN NaN   NaN   NaN  NaN        NaN        NaN             NaN   \n",
       "\n",
       "  PU_Address.1 Status  \n",
       "0          NaN    NaN  \n",
       "1          NaN    NaN  \n",
       "2          NaN    NaN  \n",
       "3          NaN    NaN  \n",
       "4          NaN    NaN  \n",
       "\n",
       "[5 rows x 22 columns]"
      ]
     },
     "execution_count": 9,
     "metadata": {},
     "output_type": "execute_result"
    }
   ],
   "source": [
    "df.head()"
   ]
  },
  {
   "cell_type": "code",
   "execution_count": null,
   "metadata": {},
   "outputs": [],
   "source": []
  }
 ],
 "metadata": {
  "interpreter": {
   "hash": "31f2aee4e71d21fbe5cf8b01ff0e069b9275f58929596ceb00d14d90e3e16cd6"
  },
  "kernelspec": {
   "display_name": "Python 3.9.2 64-bit",
   "name": "python3"
  },
  "language_info": {
   "codemirror_mode": {
    "name": "ipython",
    "version": 3
   },
   "file_extension": ".py",
   "mimetype": "text/x-python",
   "name": "python",
   "nbconvert_exporter": "python",
   "pygments_lexer": "ipython3",
   "version": "3.9.2"
  },
  "orig_nbformat": 4
 },
 "nbformat": 4,
 "nbformat_minor": 2
}