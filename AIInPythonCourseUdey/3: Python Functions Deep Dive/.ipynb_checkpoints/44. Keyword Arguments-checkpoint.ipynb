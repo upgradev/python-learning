{
 "cells": [
  {
   "cell_type": "code",
   "execution_count": 1,
   "id": "660a6549",
   "metadata": {},
   "outputs": [],
   "source": [
    "def marks(m,s,e):\n",
    "    return m+s+e"
   ]
  },
  {
   "cell_type": "code",
   "execution_count": 2,
   "id": "554f6447",
   "metadata": {},
   "outputs": [
    {
     "data": {
      "text/plain": [
       "188"
      ]
     },
     "execution_count": 2,
     "metadata": {},
     "output_type": "execute_result"
    }
   ],
   "source": [
    "marks(50,78,60)"
   ]
  },
  {
   "cell_type": "code",
   "execution_count": 3,
   "id": "9551fe03",
   "metadata": {},
   "outputs": [
    {
     "data": {
      "text/plain": [
       "188"
      ]
     },
     "execution_count": 3,
     "metadata": {},
     "output_type": "execute_result"
    }
   ],
   "source": [
    "marks(m=50,s=78,e=60)"
   ]
  },
  {
   "cell_type": "code",
   "execution_count": 4,
   "id": "cad96e5c",
   "metadata": {},
   "outputs": [
    {
     "data": {
      "text/plain": [
       "188"
      ]
     },
     "execution_count": 4,
     "metadata": {},
     "output_type": "execute_result"
    }
   ],
   "source": [
    "marks(s=78,e=60,m=50)"
   ]
  },
  {
   "cell_type": "code",
   "execution_count": 5,
   "id": "09b9bc27",
   "metadata": {},
   "outputs": [
    {
     "ename": "SyntaxError",
     "evalue": "positional argument follows keyword argument (<ipython-input-5-897e005c5445>, line 1)",
     "output_type": "error",
     "traceback": [
      "\u001b[0;36m  File \u001b[0;32m\"<ipython-input-5-897e005c5445>\"\u001b[0;36m, line \u001b[0;32m1\u001b[0m\n\u001b[0;31m    marks(s=78,60,50)\u001b[0m\n\u001b[0m               ^\u001b[0m\n\u001b[0;31mSyntaxError\u001b[0m\u001b[0;31m:\u001b[0m positional argument follows keyword argument\n"
     ]
    }
   ],
   "source": [
    "marks(s=78,60,50)"
   ]
  },
  {
   "cell_type": "code",
   "execution_count": 6,
   "id": "235d9104",
   "metadata": {},
   "outputs": [],
   "source": [
    "def marks(**score):\n",
    "    print(\"marks is science \" + score[\"science\"])"
   ]
  },
  {
   "cell_type": "code",
   "execution_count": 7,
   "id": "023dc6e0",
   "metadata": {},
   "outputs": [
    {
     "name": "stdout",
     "output_type": "stream",
     "text": [
      "marks is science 67\n"
     ]
    }
   ],
   "source": [
    "marks(science=\"67\", english=\"89\", maths=\"78\")"
   ]
  },
  {
   "cell_type": "code",
   "execution_count": null,
   "id": "7da58e20",
   "metadata": {},
   "outputs": [],
   "source": []
  }
 ],
 "metadata": {
  "kernelspec": {
   "display_name": "Python 3",
   "language": "python",
   "name": "python3"
  },
  "language_info": {
   "codemirror_mode": {
    "name": "ipython",
    "version": 3
   },
   "file_extension": ".py",
   "mimetype": "text/x-python",
   "name": "python",
   "nbconvert_exporter": "python",
   "pygments_lexer": "ipython3",
   "version": "3.8.5"
  }
 },
 "nbformat": 4,
 "nbformat_minor": 5
}
