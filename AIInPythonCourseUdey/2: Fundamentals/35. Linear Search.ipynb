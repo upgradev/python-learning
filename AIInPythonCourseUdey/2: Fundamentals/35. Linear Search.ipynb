{
 "cells": [
  {
   "cell_type": "code",
   "execution_count": 1,
   "id": "a3915336",
   "metadata": {},
   "outputs": [
    {
     "name": "stdout",
     "output_type": "stream",
     "text": [
      "Element not found\n",
      "Element not found\n",
      "Element not found\n",
      "Element not found\n",
      "Element not found\n",
      "5\n",
      "Element not found\n"
     ]
    }
   ],
   "source": [
    "my_list = [2,3,5,4,7,8,9]\n",
    "for i in range(len(my_list)):\n",
    "    if my_list[i] == 8:\n",
    "        print(i)\n",
    "    else:\n",
    "        print(\"Element not found\")"
   ]
  },
  {
   "cell_type": "code",
   "execution_count": null,
   "id": "64c2ef6b",
   "metadata": {},
   "outputs": [],
   "source": []
  }
 ],
 "metadata": {
  "kernelspec": {
   "display_name": "Python 3",
   "language": "python",
   "name": "python3"
  },
  "language_info": {
   "codemirror_mode": {
    "name": "ipython",
    "version": 3
   },
   "file_extension": ".py",
   "mimetype": "text/x-python",
   "name": "python",
   "nbconvert_exporter": "python",
   "pygments_lexer": "ipython3",
   "version": "3.8.5"
  }
 },
 "nbformat": 4,
 "nbformat_minor": 5
}
