{
 "cells": [
  {
   "cell_type": "code",
   "execution_count": 1,
   "id": "e1d4f05e",
   "metadata": {},
   "outputs": [
    {
     "name": "stdout",
     "output_type": "stream",
     "text": [
      "x is greater than 0\n"
     ]
    }
   ],
   "source": [
    "x = 3\n",
    "if(x > 0):\n",
    "    print(\"x is greater than 0\")"
   ]
  },
  {
   "cell_type": "code",
   "execution_count": 2,
   "id": "ad03bdc3",
   "metadata": {},
   "outputs": [
    {
     "name": "stdout",
     "output_type": "stream",
     "text": [
      "x is not divisible by 2\n"
     ]
    }
   ],
   "source": [
    "x = 5\n",
    "if(x % 2 == 0):\n",
    "    print(\"x is divisible by 2\")\n",
    "else:\n",
    "    print(\"x is not divisible by 2\")"
   ]
  },
  {
   "cell_type": "code",
   "execution_count": 3,
   "id": "517f9410",
   "metadata": {},
   "outputs": [
    {
     "name": "stdout",
     "output_type": "stream",
     "text": [
      "y is greater than 30\n"
     ]
    }
   ],
   "source": [
    "y = 34\n",
    "if(y < 10):\n",
    "    print(\"y is less than 10\")\n",
    "elif(y > 10 and y < 30):\n",
    "    print(\"y is between 10 and 30\")\n",
    "else:\n",
    "    print(\"y is greater than 30\")"
   ]
  },
  {
   "cell_type": "code",
   "execution_count": null,
   "id": "1f12cbc8",
   "metadata": {},
   "outputs": [],
   "source": []
  }
 ],
 "metadata": {
  "kernelspec": {
   "display_name": "Python 3",
   "language": "python",
   "name": "python3"
  },
  "language_info": {
   "codemirror_mode": {
    "name": "ipython",
    "version": 3
   },
   "file_extension": ".py",
   "mimetype": "text/x-python",
   "name": "python",
   "nbconvert_exporter": "python",
   "pygments_lexer": "ipython3",
   "version": "3.8.5"
  }
 },
 "nbformat": 4,
 "nbformat_minor": 5
}
