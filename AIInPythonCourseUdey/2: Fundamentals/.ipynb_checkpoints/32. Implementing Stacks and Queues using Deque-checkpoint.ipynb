{
 "cells": [
  {
   "cell_type": "markdown",
   "id": "76111878",
   "metadata": {},
   "source": [
    "# Implementing stacks using deque"
   ]
  },
  {
   "cell_type": "code",
   "execution_count": 1,
   "id": "c6f153a4",
   "metadata": {},
   "outputs": [],
   "source": [
    "#import deque\n",
    "from collections import deque"
   ]
  },
  {
   "cell_type": "code",
   "execution_count": 2,
   "id": "d4b4714d",
   "metadata": {},
   "outputs": [],
   "source": [
    "#initialising\n",
    "numbers=deque()"
   ]
  },
  {
   "cell_type": "code",
   "execution_count": 4,
   "id": "bfeaae2f",
   "metadata": {},
   "outputs": [
    {
     "data": {
      "text/plain": [
       "deque([23, 45, 12, 54])"
      ]
     },
     "execution_count": 4,
     "metadata": {},
     "output_type": "execute_result"
    }
   ],
   "source": [
    "#adding items\n",
    "#push\n",
    "numbers.append(23)\n",
    "numbers.append(45)\n",
    "numbers.append(12)\n",
    "numbers.append(54)\n",
    "numbers"
   ]
  },
  {
   "cell_type": "code",
   "execution_count": 5,
   "id": "fef16733",
   "metadata": {},
   "outputs": [
    {
     "data": {
      "text/plain": [
       "54"
      ]
     },
     "execution_count": 5,
     "metadata": {},
     "output_type": "execute_result"
    }
   ],
   "source": [
    "numbers.pop()"
   ]
  },
  {
   "cell_type": "code",
   "execution_count": 6,
   "id": "3cdb5171",
   "metadata": {},
   "outputs": [
    {
     "data": {
      "text/plain": [
       "12"
      ]
     },
     "execution_count": 6,
     "metadata": {},
     "output_type": "execute_result"
    }
   ],
   "source": [
    "numbers.pop()"
   ]
  },
  {
   "cell_type": "markdown",
   "id": "e65ae301",
   "metadata": {},
   "source": [
    "# implementing queues using deque"
   ]
  },
  {
   "cell_type": "code",
   "execution_count": 7,
   "id": "5eed1291",
   "metadata": {},
   "outputs": [],
   "source": [
    "from collections import deque"
   ]
  },
  {
   "cell_type": "code",
   "execution_count": 8,
   "id": "53d7aa00",
   "metadata": {},
   "outputs": [],
   "source": [
    "names = deque()"
   ]
  },
  {
   "cell_type": "code",
   "execution_count": 9,
   "id": "c30d9214",
   "metadata": {},
   "outputs": [
    {
     "data": {
      "text/plain": [
       "deque(['Radhika', 'Shyam', 'Ravi', 'Shivani'])"
      ]
     },
     "execution_count": 9,
     "metadata": {},
     "output_type": "execute_result"
    }
   ],
   "source": [
    "names.append(\"Radhika\")\n",
    "names.append(\"Shyam\")\n",
    "names.append(\"Ravi\")\n",
    "names.append(\"Shivani\")\n",
    "names"
   ]
  },
  {
   "cell_type": "code",
   "execution_count": 10,
   "id": "1bc641a0",
   "metadata": {},
   "outputs": [
    {
     "data": {
      "text/plain": [
       "'Radhika'"
      ]
     },
     "execution_count": 10,
     "metadata": {},
     "output_type": "execute_result"
    }
   ],
   "source": [
    "names.popleft()"
   ]
  },
  {
   "cell_type": "code",
   "execution_count": 11,
   "id": "2d369dee",
   "metadata": {},
   "outputs": [
    {
     "data": {
      "text/plain": [
       "deque(['Shyam', 'Ravi', 'Shivani'])"
      ]
     },
     "execution_count": 11,
     "metadata": {},
     "output_type": "execute_result"
    }
   ],
   "source": [
    "names"
   ]
  },
  {
   "cell_type": "code",
   "execution_count": null,
   "id": "24df380c",
   "metadata": {},
   "outputs": [],
   "source": []
  }
 ],
 "metadata": {
  "kernelspec": {
   "display_name": "Python 3",
   "language": "python",
   "name": "python3"
  },
  "language_info": {
   "codemirror_mode": {
    "name": "ipython",
    "version": 3
   },
   "file_extension": ".py",
   "mimetype": "text/x-python",
   "name": "python",
   "nbconvert_exporter": "python",
   "pygments_lexer": "ipython3",
   "version": "3.8.5"
  }
 },
 "nbformat": 4,
 "nbformat_minor": 5
}
