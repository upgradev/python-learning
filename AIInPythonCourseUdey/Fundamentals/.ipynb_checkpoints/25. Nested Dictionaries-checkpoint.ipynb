{
 "cells": [
  {
   "cell_type": "code",
   "execution_count": 1,
   "id": "43ace9ec",
   "metadata": {},
   "outputs": [
    {
     "data": {
      "text/plain": [
       "{'Raiam': {'Maths': 75, 'Science': 80, 'English': 78},\n",
       " 'Shyam': {'Maths': 60, 'Science': 65, 'English': 70},\n",
       " 'Mohan': {'Maths': 80, 'Science': 50, 'English': 68}}"
      ]
     },
     "execution_count": 1,
     "metadata": {},
     "output_type": "execute_result"
    }
   ],
   "source": [
    "#nested_dict is a dictionary inside a dictiuonary\n",
    "students_marks = {\"Raiam\": {\"Maths\": 75, \"Science\": 80, \"English\": 78},\n",
    "                 \"Shyam\": {\"Maths\": 60, \"Science\": 65, \"English\": 70},\n",
    "                 \"Mohan\": {\"Maths\": 80, \"Science\": 50, \"English\": 68}}\n",
    "students_marks"
   ]
  },
  {
   "cell_type": "code",
   "execution_count": 2,
   "id": "ce4ca7ab",
   "metadata": {},
   "outputs": [
    {
     "data": {
      "text/plain": [
       "{'Maths': 80, 'Science': 50, 'English': 68}"
      ]
     },
     "execution_count": 2,
     "metadata": {},
     "output_type": "execute_result"
    }
   ],
   "source": [
    "#accessing values ina nested dictionary\n",
    "students_marks[\"Mohan\"]"
   ]
  },
  {
   "cell_type": "code",
   "execution_count": 3,
   "id": "fedd4e9d",
   "metadata": {},
   "outputs": [
    {
     "data": {
      "text/plain": [
       "80"
      ]
     },
     "execution_count": 3,
     "metadata": {},
     "output_type": "execute_result"
    }
   ],
   "source": [
    "students_marks[\"Mohan\"][\"Maths\"]"
   ]
  },
  {
   "cell_type": "code",
   "execution_count": 4,
   "id": "99e4a075",
   "metadata": {},
   "outputs": [
    {
     "data": {
      "text/plain": [
       "{'Maths': 79, 'Sciense': 80, 'English': 90}"
      ]
     },
     "execution_count": 4,
     "metadata": {},
     "output_type": "execute_result"
    }
   ],
   "source": [
    "students_marks[\"Rohan\"]= {}\n",
    "students_marks[\"Rohan\"][\"Maths\"] = 79\n",
    "students_marks[\"Rohan\"][\"Sciense\"] = 80\n",
    "students_marks[\"Rohan\"][\"English\"] = 90\n",
    "\n",
    "students_marks[\"Rohan\"]"
   ]
  },
  {
   "cell_type": "code",
   "execution_count": 5,
   "id": "be9f4763",
   "metadata": {},
   "outputs": [
    {
     "data": {
      "text/plain": [
       "{'Maths': 60, 'Science': 65, 'English': 70}"
      ]
     },
     "execution_count": 5,
     "metadata": {},
     "output_type": "execute_result"
    }
   ],
   "source": [
    "#removing item ffrom a nested dictionary\n",
    "students_marks.pop(\"Shyam\")"
   ]
  },
  {
   "cell_type": "code",
   "execution_count": 6,
   "id": "9825d353",
   "metadata": {},
   "outputs": [
    {
     "data": {
      "text/plain": [
       "{'Raiam': {'Maths': 75, 'Science': 80, 'English': 78},\n",
       " 'Mohan': {'Maths': 80, 'Science': 50, 'English': 68},\n",
       " 'Rohan': {'Maths': 79, 'Sciense': 80, 'English': 90}}"
      ]
     },
     "execution_count": 6,
     "metadata": {},
     "output_type": "execute_result"
    }
   ],
   "source": [
    "students_marks"
   ]
  },
  {
   "cell_type": "code",
   "execution_count": null,
   "id": "1ad1db5d",
   "metadata": {},
   "outputs": [],
   "source": [
    "#iterating through a nested dictionary\n",
    "for name, subjects in students_marks.items():\n",
    "    print(\"Name of students: \", name)\n",
    "    for marks in subjects:\n",
    "        print(marks, \":\", subjects[marks])"
   ]
  }
 ],
 "metadata": {
  "kernelspec": {
   "display_name": "Python 3",
   "language": "python",
   "name": "python3"
  },
  "language_info": {
   "codemirror_mode": {
    "name": "ipython",
    "version": 3
   },
   "file_extension": ".py",
   "mimetype": "text/x-python",
   "name": "python",
   "nbconvert_exporter": "python",
   "pygments_lexer": "ipython3",
   "version": "3.8.5"
  }
 },
 "nbformat": 4,
 "nbformat_minor": 5
}
