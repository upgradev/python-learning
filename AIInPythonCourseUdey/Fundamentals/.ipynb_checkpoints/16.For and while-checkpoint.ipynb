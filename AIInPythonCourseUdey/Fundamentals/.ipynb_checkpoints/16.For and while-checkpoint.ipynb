{
 "cells": [
  {
   "cell_type": "code",
   "execution_count": 1,
   "id": "0098626b",
   "metadata": {},
   "outputs": [
    {
     "name": "stdout",
     "output_type": "stream",
     "text": [
      "Delhi\n",
      "Mumbai\n",
      "Kolkata\n",
      "Bangalore\n",
      "Chennai\n"
     ]
    }
   ],
   "source": [
    "a = [\"Delhi\", \"Mumbai\", \"Kolkata\", \"Bangalore\", \"Chennai\"]\n",
    "#using for loop\n",
    "for city in a:\n",
    "    print(city)"
   ]
  },
  {
   "cell_type": "code",
   "execution_count": 2,
   "id": "e746dbe4",
   "metadata": {},
   "outputs": [],
   "source": [
    "#defining a list\n",
    "s = [2,6,5,8,3]"
   ]
  },
  {
   "cell_type": "code",
   "execution_count": 3,
   "id": "6486a919",
   "metadata": {},
   "outputs": [
    {
     "name": "stdout",
     "output_type": "stream",
     "text": [
      "5 not divisible by 2\n",
      "3 not divisible by 2\n"
     ]
    }
   ],
   "source": [
    "for i in s:\n",
    "    if(i%2 != 0):\n",
    "        print(i, \"not divisible by 2\")"
   ]
  },
  {
   "cell_type": "code",
   "execution_count": 6,
   "id": "2e23c17d",
   "metadata": {},
   "outputs": [
    {
     "name": "stdout",
     "output_type": "stream",
     "text": [
      "1\n",
      "2\n",
      "3\n",
      "4\n",
      "5\n"
     ]
    }
   ],
   "source": [
    "#using while loop\n",
    "i = 1\n",
    "while i <= 5:\n",
    "    print(i)\n",
    "    i += 1"
   ]
  },
  {
   "cell_type": "code",
   "execution_count": 7,
   "id": "1a311ea2",
   "metadata": {},
   "outputs": [
    {
     "name": "stdout",
     "output_type": "stream",
     "text": [
      "1\n",
      "2\n",
      "3\n",
      "4\n",
      "5\n",
      "i is no longer less than 6\n"
     ]
    }
   ],
   "source": [
    "i = 1\n",
    "while i <= 5:\n",
    "    print(i)\n",
    "    i += 1\n",
    "else:\n",
    "    print(\"i is no longer less than 6\")"
   ]
  },
  {
   "cell_type": "markdown",
   "id": "90d156d6",
   "metadata": {},
   "source": [
    "# Ninja Tip"
   ]
  },
  {
   "cell_type": "code",
   "execution_count": 8,
   "id": "596cf344",
   "metadata": {},
   "outputs": [],
   "source": [
    "for i in range(2,8):\n",
    "    pass"
   ]
  },
  {
   "cell_type": "code",
   "execution_count": null,
   "id": "22e9bbc6",
   "metadata": {},
   "outputs": [],
   "source": []
  }
 ],
 "metadata": {
  "kernelspec": {
   "display_name": "Python 3",
   "language": "python",
   "name": "python3"
  },
  "language_info": {
   "codemirror_mode": {
    "name": "ipython",
    "version": 3
   },
   "file_extension": ".py",
   "mimetype": "text/x-python",
   "name": "python",
   "nbconvert_exporter": "python",
   "pygments_lexer": "ipython3",
   "version": "3.8.5"
  }
 },
 "nbformat": 4,
 "nbformat_minor": 5
}
