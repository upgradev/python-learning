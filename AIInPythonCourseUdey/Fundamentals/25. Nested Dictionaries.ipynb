{
 "cells": [
  {
   "cell_type": "code",
   "execution_count": 1,
   "id": "55ebc3c4",
   "metadata": {},
   "outputs": [
    {
     "data": {
      "text/plain": [
       "{'Raiam': {'Maths': 75, 'Science': 80, 'English': 78},\n",
       " 'Shyam': {'Maths': 60, 'Science': 65, 'English': 70},\n",
       " 'Mohan': {'Maths': 80, 'Science': 50, 'English': 68}}"
      ]
     },
     "execution_count": 1,
     "metadata": {},
     "output_type": "execute_result"
    }
   ],
   "source": [
    "#nested_dict is a dictionary inside a dictiuonary\n",
    "students_marks = {\"Raiam\": {\"Maths\": 75, \"Science\": 80, \"English\": 78},\n",
    "                 \"Shyam\": {\"Maths\": 60, \"Science\": 65, \"English\": 70},\n",
    "                 \"Mohan\": {\"Maths\": 80, \"Science\": 50, \"English\": 68}}\n",
    "students_marks"
   ]
  },
  {
   "cell_type": "code",
   "execution_count": 2,
   "id": "3e6737da",
   "metadata": {},
   "outputs": [
    {
     "data": {
      "text/plain": [
       "{'Maths': 80, 'Science': 50, 'English': 68}"
      ]
     },
     "execution_count": 2,
     "metadata": {},
     "output_type": "execute_result"
    }
   ],
   "source": [
    "#accessing values ina nested dictionary\n",
    "students_marks[\"Mohan\"]"
   ]
  },
  {
   "cell_type": "code",
   "execution_count": 3,
   "id": "4f38e1bb",
   "metadata": {},
   "outputs": [
    {
     "data": {
      "text/plain": [
       "80"
      ]
     },
     "execution_count": 3,
     "metadata": {},
     "output_type": "execute_result"
    }
   ],
   "source": [
    "students_marks[\"Mohan\"][\"Maths\"]"
   ]
  },
  {
   "cell_type": "code",
   "execution_count": 4,
   "id": "6b936eb1",
   "metadata": {},
   "outputs": [
    {
     "data": {
      "text/plain": [
       "{'Maths': 79, 'Sciense': 80, 'English': 90}"
      ]
     },
     "execution_count": 4,
     "metadata": {},
     "output_type": "execute_result"
    }
   ],
   "source": [
    "students_marks[\"Rohan\"]= {}\n",
    "students_marks[\"Rohan\"][\"Maths\"] = 79\n",
    "students_marks[\"Rohan\"][\"Sciense\"] = 80\n",
    "students_marks[\"Rohan\"][\"English\"] = 90\n",
    "\n",
    "students_marks[\"Rohan\"]"
   ]
  },
  {
   "cell_type": "code",
   "execution_count": 5,
   "id": "98abe441",
   "metadata": {},
   "outputs": [
    {
     "data": {
      "text/plain": [
       "{'Maths': 60, 'Science': 65, 'English': 70}"
      ]
     },
     "execution_count": 5,
     "metadata": {},
     "output_type": "execute_result"
    }
   ],
   "source": [
    "#removing item ffrom a nested dictionary\n",
    "students_marks.pop(\"Shyam\")"
   ]
  },
  {
   "cell_type": "code",
   "execution_count": 6,
   "id": "0cb782c8",
   "metadata": {},
   "outputs": [
    {
     "data": {
      "text/plain": [
       "{'Raiam': {'Maths': 75, 'Science': 80, 'English': 78},\n",
       " 'Mohan': {'Maths': 80, 'Science': 50, 'English': 68},\n",
       " 'Rohan': {'Maths': 79, 'Sciense': 80, 'English': 90}}"
      ]
     },
     "execution_count": 6,
     "metadata": {},
     "output_type": "execute_result"
    }
   ],
   "source": [
    "students_marks"
   ]
  },
  {
   "cell_type": "code",
   "execution_count": 7,
   "id": "c9cfff71",
   "metadata": {},
   "outputs": [
    {
     "name": "stdout",
     "output_type": "stream",
     "text": [
      "Name of students:  Raiam\n",
      "Maths : 75\n",
      "Science : 80\n",
      "English : 78\n",
      "Name of students:  Mohan\n",
      "Maths : 80\n",
      "Science : 50\n",
      "English : 68\n",
      "Name of students:  Rohan\n",
      "Maths : 79\n",
      "Sciense : 80\n",
      "English : 90\n"
     ]
    }
   ],
   "source": [
    "#iterating through a nested dictionary\n",
    "for name, subjects in students_marks.items():\n",
    "    print(\"Name of students: \", name)\n",
    "    for marks in subjects:\n",
    "        print(marks, \":\", subjects[marks])"
   ]
  },
  {
   "cell_type": "code",
   "execution_count": null,
   "id": "7ce81d2a",
   "metadata": {},
   "outputs": [],
   "source": []
  }
 ],
 "metadata": {
  "kernelspec": {
   "display_name": "Python 3",
   "language": "python",
   "name": "python3"
  },
  "language_info": {
   "codemirror_mode": {
    "name": "ipython",
    "version": 3
   },
   "file_extension": ".py",
   "mimetype": "text/x-python",
   "name": "python",
   "nbconvert_exporter": "python",
   "pygments_lexer": "ipython3",
   "version": "3.8.5"
  }
 },
 "nbformat": 4,
 "nbformat_minor": 5
}
