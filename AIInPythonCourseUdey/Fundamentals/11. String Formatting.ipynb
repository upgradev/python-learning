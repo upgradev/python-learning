{
 "cells": [
  {
   "cell_type": "markdown",
   "id": "cc5bc42b",
   "metadata": {},
   "source": [
    "#String using single quotes\n",
    "s1 = 'this is a string'\n",
    "\n",
    "#String using double quotes\n",
    "s2 = \"this is a string\"\n"
   ]
  },
  {
   "cell_type": "markdown",
   "id": "133e742e",
   "metadata": {},
   "source": [
    "# String Formatting\n"
   ]
  },
  {
   "cell_type": "code",
   "execution_count": 2,
   "id": "2b1e1fe4",
   "metadata": {},
   "outputs": [],
   "source": [
    "#declaring two variables\n",
    "first_name = 'Rose'\n",
    "last_name = 'Mary'"
   ]
  },
  {
   "cell_type": "code",
   "execution_count": 3,
   "id": "f9d1a2d6",
   "metadata": {},
   "outputs": [
    {
     "name": "stdout",
     "output_type": "stream",
     "text": [
      "Hello! I am Rose Mary\n"
     ]
    }
   ],
   "source": [
    "#using format() function\n",
    "print('Hello! I am {} {}'.format(first_name, last_name))"
   ]
  },
  {
   "cell_type": "code",
   "execution_count": 4,
   "id": "ac0e514c",
   "metadata": {},
   "outputs": [
    {
     "name": "stdout",
     "output_type": "stream",
     "text": [
      "Hello! I am Rose Mary\n"
     ]
    }
   ],
   "source": [
    "#using format() function\n",
    "print('Hello! I am {0} {1}'.format(first_name, last_name))"
   ]
  },
  {
   "cell_type": "code",
   "execution_count": 5,
   "id": "80fe6bc7",
   "metadata": {},
   "outputs": [
    {
     "name": "stdout",
     "output_type": "stream",
     "text": [
      "Hello! I am Rose Mary. Mary is my surname\n"
     ]
    }
   ],
   "source": [
    "#using format() function\n",
    "print('Hello! I am {0} {1}. {1} is my surname'.format(first_name, last_name))"
   ]
  },
  {
   "cell_type": "markdown",
   "id": "a6f9dcda",
   "metadata": {},
   "source": [
    "# Ninja Tip\n"
   ]
  },
  {
   "cell_type": "code",
   "execution_count": 6,
   "id": "1a5d243f",
   "metadata": {},
   "outputs": [],
   "source": [
    "#declaring two variablkes \n",
    "f_name= 'Karan'\n",
    "age=40"
   ]
  },
  {
   "cell_type": "code",
   "execution_count": 7,
   "id": "769d5654",
   "metadata": {},
   "outputs": [
    {
     "name": "stdout",
     "output_type": "stream",
     "text": [
      "My name is Karan. I am 40 years old\n"
     ]
    }
   ],
   "source": [
    "#using f-string for formatting\n",
    "print(f'My name is {f_name}. I am {age} years old')"
   ]
  },
  {
   "cell_type": "code",
   "execution_count": null,
   "id": "aec5eab2",
   "metadata": {},
   "outputs": [],
   "source": []
  }
 ],
 "metadata": {
  "kernelspec": {
   "display_name": "Python 3",
   "language": "python",
   "name": "python3"
  },
  "language_info": {
   "codemirror_mode": {
    "name": "ipython",
    "version": 3
   },
   "file_extension": ".py",
   "mimetype": "text/x-python",
   "name": "python",
   "nbconvert_exporter": "python",
   "pygments_lexer": "ipython3",
   "version": "3.8.5"
  }
 },
 "nbformat": 4,
 "nbformat_minor": 5
}
