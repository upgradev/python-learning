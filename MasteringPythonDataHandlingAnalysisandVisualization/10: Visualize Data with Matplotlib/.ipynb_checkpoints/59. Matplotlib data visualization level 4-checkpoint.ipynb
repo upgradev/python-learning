{
 "cells": [
  {
   "cell_type": "code",
   "execution_count": 1,
   "id": "270961a1",
   "metadata": {},
   "outputs": [],
   "source": [
    "import matplotlib.pyplot as plt\n",
    "import numpy as np"
   ]
  },
  {
   "cell_type": "code",
   "execution_count": 2,
   "id": "068fbe0f",
   "metadata": {},
   "outputs": [],
   "source": [
    "data1 = np.arange(2,7, 0.3)"
   ]
  },
  {
   "cell_type": "code",
   "execution_count": 3,
   "id": "f3f082b3",
   "metadata": {},
   "outputs": [
    {
     "data": {
      "text/plain": [
       "[<matplotlib.lines.Line2D at 0x7ff7514568b0>,\n",
       " <matplotlib.lines.Line2D at 0x7ff751456760>,\n",
       " <matplotlib.lines.Line2D at 0x7ff7514569a0>]"
      ]
     },
     "execution_count": 3,
     "metadata": {},
     "output_type": "execute_result"
    },
    {
     "data": {
      "image/png": "[encoded data removed]",
      "text/plain": [
       "<Figure size 432x288 with 1 Axes>"
      ]
     },
     "metadata": {
      "needs_background": "light"
     },
     "output_type": "display_data"
    }
   ],
   "source": [
    "plt.plot(data1, data1, \"r--\", data1, data1**2,\"bs\",data1, data1**3, \"g^\")"
   ]
  },
  {
   "cell_type": "code",
   "execution_count": 4,
   "id": "140d8224",
   "metadata": {},
   "outputs": [
    {
     "data": {
      "text/plain": [
       "<Figure size 432x288 with 0 Axes>"
      ]
     },
     "metadata": {},
     "output_type": "display_data"
    }
   ],
   "source": [
    "plt.savefig(\"newvisualize.png\")"
   ]
  },
  {
   "cell_type": "code",
   "execution_count": null,
   "id": "e4358463",
   "metadata": {},
   "outputs": [],
   "source": []
  }
 ],
 "metadata": {
  "kernelspec": {
   "display_name": "Python 3",
   "language": "python",
   "name": "python3"
  },
  "language_info": {
   "codemirror_mode": {
    "name": "ipython",
    "version": 3
   },
   "file_extension": ".py",
   "mimetype": "text/x-python",
   "name": "python",
   "nbconvert_exporter": "python",
   "pygments_lexer": "ipython3",
   "version": "3.8.5"
  }
 },
 "nbformat": 4,
 "nbformat_minor": 5
}
