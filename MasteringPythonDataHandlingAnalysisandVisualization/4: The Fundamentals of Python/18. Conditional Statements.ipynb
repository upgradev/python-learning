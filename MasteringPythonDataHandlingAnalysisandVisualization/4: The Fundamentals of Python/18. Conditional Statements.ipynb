{
 "metadata": {
  "language_info": {
   "codemirror_mode": {
    "name": "ipython",
    "version": 3
   },
   "file_extension": ".py",
   "mimetype": "text/x-python",
   "name": "python",
   "nbconvert_exporter": "python",
   "pygments_lexer": "ipython3",
   "version": "3.8.5"
  },
  "orig_nbformat": 4,
  "kernelspec": {
   "name": "python3",
   "display_name": "Python 3.8.5 64-bit"
  },
  "interpreter": {
   "hash": "31f2aee4e71d21fbe5cf8b01ff0e069b9275f58929596ceb00d14d90e3e16cd6"
  }
 },
 "nbformat": 4,
 "nbformat_minor": 2,
 "cells": [
  {
   "cell_type": "code",
   "execution_count": 1,
   "metadata": {},
   "outputs": [
    {
     "output_type": "stream",
     "name": "stdout",
     "text": [
      "This is true\n"
     ]
    }
   ],
   "source": [
    "if True:\n",
    "    print(\"This is true\")"
   ]
  },
  {
   "cell_type": "code",
   "execution_count": 2,
   "metadata": {},
   "outputs": [
    {
     "output_type": "stream",
     "name": "stdout",
     "text": [
      "10 is equal to 5 multiplied by 2\n"
     ]
    }
   ],
   "source": [
    "if 10 == 5 * 2:\n",
    "    print(\"10 is equal to 5 multiplied by 2\")"
   ]
  },
  {
   "cell_type": "code",
   "execution_count": 3,
   "metadata": {},
   "outputs": [],
   "source": [
    "if 10 == 3 *2:\n",
    "    print(\"This is not executed\")"
   ]
  },
  {
   "cell_type": "code",
   "execution_count": 5,
   "metadata": {},
   "outputs": [
    {
     "output_type": "stream",
     "name": "stdout",
     "text": [
      "The string will executed\nThanks for finishing the process\n"
     ]
    }
   ],
   "source": [
    "x = 15\n",
    "if x >= 10:\n",
    "    print(\"The string will executed\")\n",
    "print(\"Thanks for finishing the process\")"
   ]
  },
  {
   "cell_type": "code",
   "execution_count": 6,
   "metadata": {},
   "outputs": [
    {
     "output_type": "stream",
     "name": "stdout",
     "text": [
      "sorry you failed\nThanks for joining us\n"
     ]
    }
   ],
   "source": [
    "x = 20\n",
    "if x >= 30:\n",
    "    print(\"you are succeeded\")\n",
    "if x < 30:\n",
    "    print(\"sorry you failed\")\n",
    "print(\"Thanks for joining us\")"
   ]
  },
  {
   "cell_type": "code",
   "execution_count": 8,
   "metadata": {},
   "outputs": [
    {
     "output_type": "stream",
     "name": "stdout",
     "text": [
      "sorry you failed\nThanks for joining us\n"
     ]
    }
   ],
   "source": [
    "x = 20\n",
    "if x >= 30:\n",
    "    print(\"you are succeeded\")\n",
    "else:\n",
    "    print(\"sorry you failed\")\n",
    "print(\"Thanks for joining us\")"
   ]
  },
  {
   "cell_type": "code",
   "execution_count": 11,
   "metadata": {},
   "outputs": [
    {
     "output_type": "stream",
     "name": "stdout",
     "text": [
      "you are in the middle\nThanks for joining us\n"
     ]
    }
   ],
   "source": [
    "x = 30\n",
    "if x > 30:\n",
    "    print(\"you are succeeded\")\n",
    "elif x == 30:\n",
    "    print(\"you are in the middle\")\n",
    "else:\n",
    "    print(\"sorry you failed\")\n",
    "print(\"Thanks for joining us\")"
   ]
  },
  {
   "cell_type": "code",
   "execution_count": null,
   "metadata": {},
   "outputs": [],
   "source": []
  }
 ]
}