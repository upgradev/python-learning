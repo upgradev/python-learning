{
 "metadata": {
  "language_info": {
   "codemirror_mode": {
    "name": "ipython",
    "version": 3
   },
   "file_extension": ".py",
   "mimetype": "text/x-python",
   "name": "python",
   "nbconvert_exporter": "python",
   "pygments_lexer": "ipython3",
   "version": "3.8.5"
  },
  "orig_nbformat": 4,
  "kernelspec": {
   "name": "python3",
   "display_name": "Python 3.8.5 64-bit"
  },
  "interpreter": {
   "hash": "31f2aee4e71d21fbe5cf8b01ff0e069b9275f58929596ceb00d14d90e3e16cd6"
  }
 },
 "nbformat": 4,
 "nbformat_minor": 2,
 "cells": [
  {
   "cell_type": "code",
   "execution_count": 5,
   "metadata": {},
   "outputs": [],
   "source": [
    "import numpy as np"
   ]
  },
  {
   "cell_type": "code",
   "execution_count": 6,
   "metadata": {},
   "outputs": [
    {
     "output_type": "stream",
     "name": "stdout",
     "text": [
      "[[1 2 3]\n [4 6 7]]\n"
     ]
    }
   ],
   "source": [
    "Nump_Array = np.array([[1,2,3], [4,6,7]])\n",
    "print(Nump_Array)"
   ]
  },
  {
   "cell_type": "code",
   "execution_count": 7,
   "metadata": {},
   "outputs": [],
   "source": [
    "NP1 = np.array([[1,3], [4,5]])\n",
    "NP2 = np.array([[3,4], [5,7]])"
   ]
  },
  {
   "cell_type": "code",
   "execution_count": 14,
   "metadata": {},
   "outputs": [
    {
     "output_type": "stream",
     "name": "stdout",
     "text": [
      "[[18 25]\n [37 51]]\n\n[[18 25]\n [37 51]]\n"
     ]
    }
   ],
   "source": [
    "MNP = NP1@NP2\n",
    "print(MNP)\n",
    "print()\n",
    "MNP3 = np.dot(NP1, NP2)\n",
    "print(MNP3)"
   ]
  },
  {
   "cell_type": "code",
   "execution_count": 15,
   "metadata": {},
   "outputs": [
    {
     "output_type": "stream",
     "name": "stdout",
     "text": [
      "[[ 3 12]\n [20 35]]\n\n[[ 3 12]\n [20 35]]\n"
     ]
    }
   ],
   "source": [
    "MNP2 = NP1*NP2\n",
    "print(MNP2)\n",
    "print()\n",
    "MNP4 = np.multiply(NP1, NP2)\n",
    "print(MNP4)"
   ]
  }
 ]
}