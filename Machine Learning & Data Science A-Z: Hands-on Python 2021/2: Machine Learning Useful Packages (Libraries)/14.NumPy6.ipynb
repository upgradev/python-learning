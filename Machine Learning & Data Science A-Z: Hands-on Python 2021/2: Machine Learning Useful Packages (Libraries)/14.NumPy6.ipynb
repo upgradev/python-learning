{
 "metadata": {
  "language_info": {
   "codemirror_mode": {
    "name": "ipython",
    "version": 3
   },
   "file_extension": ".py",
   "mimetype": "text/x-python",
   "name": "python",
   "nbconvert_exporter": "python",
   "pygments_lexer": "ipython3",
   "version": "3.8.5"
  },
  "orig_nbformat": 4,
  "kernelspec": {
   "name": "python3",
   "display_name": "Python 3.8.5 64-bit"
  },
  "interpreter": {
   "hash": "31f2aee4e71d21fbe5cf8b01ff0e069b9275f58929596ceb00d14d90e3e16cd6"
  }
 },
 "nbformat": 4,
 "nbformat_minor": 2,
 "cells": [
  {
   "cell_type": "code",
   "execution_count": 1,
   "metadata": {},
   "outputs": [],
   "source": [
    "import numpy as np"
   ]
  },
  {
   "cell_type": "code",
   "execution_count": 2,
   "metadata": {},
   "outputs": [
    {
     "output_type": "stream",
     "name": "stdout",
     "text": [
      "[[1 2 3]\n [4 6 7]]\n"
     ]
    }
   ],
   "source": [
    "Nump_Array = np.array([[1,2,3], [4,6,7]])\n",
    "print(Nump_Array)"
   ]
  },
  {
   "cell_type": "code",
   "execution_count": 3,
   "metadata": {},
   "outputs": [],
   "source": [
    "NP1 = np.array([[1,3], [4,5]])\n",
    "NP2 = np.array([[3,4], [5,7]])"
   ]
  },
  {
   "cell_type": "code",
   "execution_count": 4,
   "metadata": {},
   "outputs": [
    {
     "output_type": "stream",
     "name": "stdout",
     "text": [
      "[[18 25]\n [37 51]]\n\n[[18 25]\n [37 51]]\n"
     ]
    }
   ],
   "source": [
    "MNP = NP1@NP2\n",
    "print(MNP)\n",
    "print()\n",
    "MNP3 = np.dot(NP1, NP2)\n",
    "print(MNP3)"
   ]
  },
  {
   "cell_type": "code",
   "execution_count": 5,
   "metadata": {},
   "outputs": [
    {
     "output_type": "stream",
     "name": "stdout",
     "text": [
      "[[ 3 12]\n",
      " [20 35]]\n",
      "\n",
      "[[ 3 12]\n",
      " [20 35]]\n"
     ]
    }
   ],
   "source": [
    "MNP2 = NP1*NP2\n",
    "print(MNP2)\n",
    "print()\n",
    "MNP4 = np.multiply(NP1, NP2)\n",
    "print(MNP4)"
   ]
  },
  {
   "cell_type": "code",
   "execution_count": 6,
   "metadata": {},
   "outputs": [],
   "source": [
    "Sum1 = NP1+NP2"
   ]
  },
  {
   "cell_type": "code",
   "execution_count": 7,
   "metadata": {},
   "outputs": [],
   "source": [
    "Sub = NP1-NP2"
   ]
  },
  {
   "cell_type": "code",
   "execution_count": 8,
   "metadata": {},
   "outputs": [],
   "source": [
    "Sub2 =np.subtract(NP1, NP2)"
   ]
  },
  {
   "cell_type": "code",
   "execution_count": 9,
   "metadata": {},
   "outputs": [
    {
     "output_type": "stream",
     "name": "stdout",
     "text": [
      "13\n"
     ]
    }
   ],
   "source": [
    "El_Sum = np.sum(NP1)\n",
    "print(El_Sum)"
   ]
  },
  {
   "cell_type": "code",
   "execution_count": 10,
   "metadata": {},
   "outputs": [
    {
     "output_type": "stream",
     "name": "stdout",
     "text": [
      "[[4 6]\n [7 8]]\n"
     ]
    }
   ],
   "source": [
    "Broad_Nump = NP1+3\n",
    "print(Broad_Nump)"
   ]
  },
  {
   "cell_type": "code",
   "execution_count": 11,
   "metadata": {},
   "outputs": [
    {
     "output_type": "execute_result",
     "data": {
      "text/plain": [
       "array([[4, 7],\n",
       "       [7, 9]])"
      ]
     },
     "metadata": {},
     "execution_count": 11
    }
   ],
   "source": [
    "NP3 = np.array([[3,4]])\n",
    "NP1+NP3"
   ]
  },
  {
   "cell_type": "code",
   "execution_count": 12,
   "metadata": {},
   "outputs": [
    {
     "output_type": "stream",
     "name": "stdout",
     "text": [
      "[2.4 2.8 3.2]\n"
     ]
    }
   ],
   "source": [
    "D = np.divide([12,14,16], 5)\n",
    "print(D)"
   ]
  },
  {
   "cell_type": "code",
   "execution_count": 13,
   "metadata": {},
   "outputs": [
    {
     "output_type": "stream",
     "name": "stdout",
     "text": [
      "[2 2 3]\n"
     ]
    }
   ],
   "source": [
    "D = np.floor_divide([12,14,16], 5)\n",
    "print(D)"
   ]
  },
  {
   "cell_type": "code",
   "execution_count": 14,
   "metadata": {},
   "outputs": [
    {
     "output_type": "stream",
     "name": "stdout",
     "text": [
      "3.1622776601683795\n"
     ]
    }
   ],
   "source": [
    "Sq = np.math.sqrt(10)\n",
    "print(Sq)"
   ]
  },
  {
   "cell_type": "code",
   "execution_count": 15,
   "metadata": {},
   "outputs": [
    {
     "output_type": "stream",
     "name": "stdout",
     "text": [
      "[[-1.07346927  0.37955431  0.33795974 -1.01116296]\n [-0.15213423  0.17659051 -0.89971183  0.82202589]\n [-0.95501002 -0.68044761  2.3191681  -1.23254955]]\n"
     ]
    }
   ],
   "source": [
    "Normal_Distr = np.random.standard_normal((3,4))\n",
    "print(Normal_Distr)"
   ]
  },
  {
   "cell_type": "code",
   "execution_count": 16,
   "metadata": {},
   "outputs": [
    {
     "output_type": "stream",
     "name": "stdout",
     "text": [
      "[[ 5.35343757  6.50114098 10.38365592  8.36960503]\n [ 7.81099115  3.79929974  3.89380913  8.61410798]\n [ 8.37897674  5.76523359  2.7524831   6.58387978]]\n"
     ]
    }
   ],
   "source": [
    "Uniform_Dist = np.random.uniform(1,12,(3,4))\n",
    "print(Uniform_Dist)"
   ]
  },
  {
   "cell_type": "code",
   "execution_count": 17,
   "metadata": {},
   "outputs": [
    {
     "output_type": "execute_result",
     "data": {
      "text/plain": [
       "0.010344681852308857"
      ]
     },
     "metadata": {},
     "execution_count": 17
    }
   ],
   "source": [
    "# generate float number\n",
    "np.random.rand()"
   ]
  },
  {
   "cell_type": "code",
   "execution_count": 18,
   "metadata": {},
   "outputs": [
    {
     "output_type": "stream",
     "name": "stdout",
     "text": [
      "[[46 24 11 28 12]\n [26 29 44  4  8]]\n"
     ]
    }
   ],
   "source": [
    "# generate integer number\n",
    "Random_ar =np.random.randint(1, 50, (2,5))\n",
    "print(Random_ar)"
   ]
  },
  {
   "cell_type": "code",
   "execution_count": 19,
   "metadata": {},
   "outputs": [
    {
     "output_type": "stream",
     "name": "stdout",
     "text": [
      "[[0. 0. 0. 0.]\n [0. 0. 0. 0.]\n [0. 0. 0. 0.]]\n"
     ]
    }
   ],
   "source": [
    "Zero = np.zeros((3,4))\n",
    "print(Zero)"
   ]
  },
  {
   "cell_type": "code",
   "execution_count": 20,
   "metadata": {},
   "outputs": [
    {
     "output_type": "stream",
     "name": "stdout",
     "text": [
      "[[1. 1. 1. 1.]\n [1. 1. 1. 1.]\n [1. 1. 1. 1.]]\n"
     ]
    }
   ],
   "source": [
    "Ones = np.ones((3,4))\n",
    "print(Ones)"
   ]
  },
  {
   "cell_type": "code",
   "execution_count": 21,
   "metadata": {},
   "outputs": [
    {
     "output_type": "stream",
     "name": "stdout",
     "text": [
      "[[ True False False False False]\n [False False  True False False]]\n"
     ]
    }
   ],
   "source": [
    "Filter_Ar = np.logical_and(Random_ar > 30, Random_ar<50)\n",
    "print(Filter_Ar)"
   ]
  },
  {
   "cell_type": "code",
   "execution_count": 22,
   "metadata": {},
   "outputs": [
    {
     "output_type": "stream",
     "name": "stdout",
     "text": [
      "[46 44]\n"
     ]
    }
   ],
   "source": [
    "F_Random_Ar = Random_ar[Filter_Ar]\n",
    "print(F_Random_Ar)"
   ]
  },
  {
   "cell_type": "code",
   "execution_count": 23,
   "metadata": {},
   "outputs": [
    {
     "output_type": "stream",
     "name": "stdout",
     "text": [
      "[1 3 4 5 7 9]\n"
     ]
    }
   ],
   "source": [
    "Data_N = np.array([1,3,4,5,7,9])\n",
    "print(Data_N)"
   ]
  },
  {
   "cell_type": "code",
   "execution_count": 24,
   "metadata": {},
   "outputs": [
    {
     "output_type": "stream",
     "name": "stdout",
     "text": [
      "4.833333333333333\n"
     ]
    }
   ],
   "source": [
    "Mean_N = np.mean(Data_N)\n",
    "print(Mean_N)"
   ]
  },
  {
   "cell_type": "code",
   "execution_count": 25,
   "metadata": {},
   "outputs": [
    {
     "output_type": "stream",
     "name": "stdout",
     "text": [
      "4.5\n"
     ]
    }
   ],
   "source": [
    "Median_N = np.median(Data_N)\n",
    "print(Median_N)"
   ]
  },
  {
   "cell_type": "code",
   "execution_count": 26,
   "metadata": {},
   "outputs": [
    {
     "output_type": "stream",
     "name": "stdout",
     "text": [
      "6.805555555555556\n"
     ]
    }
   ],
   "source": [
    "Var_N = np.var(Data_N)\n",
    "print(Var_N)"
   ]
  },
  {
   "cell_type": "code",
   "execution_count": 27,
   "metadata": {},
   "outputs": [
    {
     "output_type": "stream",
     "name": "stdout",
     "text": [
      "2.608745973749755\n"
     ]
    }
   ],
   "source": [
    "SD_N = np.std(Data_N)\n",
    "print(SD_N)"
   ]
  },
  {
   "cell_type": "code",
   "execution_count": 28,
   "metadata": {},
   "outputs": [
    {
     "output_type": "stream",
     "name": "stdout",
     "text": [
      "[[1 2 3]\n [4 6 7]]\n"
     ]
    }
   ],
   "source": [
    "Nump_Array = np.array([[1,2,3], [4,6,7]])\n",
    "print(Nump_Array)"
   ]
  },
  {
   "cell_type": "code",
   "execution_count": 29,
   "metadata": {},
   "outputs": [
    {
     "output_type": "stream",
     "name": "stdout",
     "text": [
      "[0.66666667 1.55555556]\n"
     ]
    }
   ],
   "source": [
    "Var_Nump = np.var(Nump_Array, axis=1)\n",
    "print(Var_Nump)"
   ]
  },
  {
   "cell_type": "code",
   "execution_count": 30,
   "metadata": {},
   "outputs": [
    {
     "output_type": "stream",
     "name": "stdout",
     "text": [
      "[2.25 4.   4.  ]\n"
     ]
    }
   ],
   "source": [
    "var_Nump2 = np.var(Nump_Array, axis=0)\n",
    "print(var_Nump2)"
   ]
  },
  {
   "cell_type": "code",
   "execution_count": null,
   "metadata": {},
   "outputs": [],
   "source": []
  }
 ]
}