{
 "metadata": {
  "language_info": {
   "codemirror_mode": {
    "name": "ipython",
    "version": 3
   },
   "file_extension": ".py",
   "mimetype": "text/x-python",
   "name": "python",
   "nbconvert_exporter": "python",
   "pygments_lexer": "ipython3",
   "version": "3.8.5"
  },
  "orig_nbformat": 4,
  "kernelspec": {
   "name": "python3",
   "display_name": "Python 3.8.5 64-bit"
  },
  "interpreter": {
   "hash": "31f2aee4e71d21fbe5cf8b01ff0e069b9275f58929596ceb00d14d90e3e16cd6"
  }
 },
 "nbformat": 4,
 "nbformat_minor": 2,
 "cells": [
  {
   "cell_type": "code",
   "execution_count": 1,
   "metadata": {},
   "outputs": [],
   "source": [
    "# Pandas "
   ]
  },
  {
   "cell_type": "code",
   "execution_count": 2,
   "metadata": {},
   "outputs": [],
   "source": [
    "import pandas as pd"
   ]
  },
  {
   "cell_type": "code",
   "execution_count": 3,
   "metadata": {},
   "outputs": [],
   "source": [
    "# series"
   ]
  },
  {
   "cell_type": "code",
   "execution_count": 4,
   "metadata": {},
   "outputs": [
    {
     "output_type": "execute_result",
     "data": {
      "text/plain": [
       "age1    10\n",
       "age2    20\n",
       "age3    30\n",
       "age4    40\n",
       "dtype: int64"
      ]
     },
     "metadata": {},
     "execution_count": 4
    }
   ],
   "source": [
    "Age = pd.Series([10, 20, 30, 40], index=[\"age1\", \"age2\", \"age3\", \"age4\"])\n",
    "Age"
   ]
  },
  {
   "cell_type": "code",
   "execution_count": 5,
   "metadata": {},
   "outputs": [
    {
     "output_type": "execute_result",
     "data": {
      "text/plain": [
       "30"
      ]
     },
     "metadata": {},
     "execution_count": 5
    }
   ],
   "source": [
    "Age.age3"
   ]
  },
  {
   "cell_type": "code",
   "execution_count": 6,
   "metadata": {},
   "outputs": [
    {
     "output_type": "stream",
     "name": "stdout",
     "text": [
      "age3    30\nage4    40\ndtype: int64\n"
     ]
    }
   ],
   "source": [
    "Filtered_Age = Age[Age>20]\n",
    "print(Filtered_Age)"
   ]
  },
  {
   "cell_type": "code",
   "execution_count": 7,
   "metadata": {},
   "outputs": [
    {
     "output_type": "execute_result",
     "data": {
      "text/plain": [
       "array([10, 20, 30, 40])"
      ]
     },
     "metadata": {},
     "execution_count": 7
    }
   ],
   "source": [
    "# calling values of the series\n",
    "Age.values"
   ]
  },
  {
   "cell_type": "code",
   "execution_count": 8,
   "metadata": {},
   "outputs": [
    {
     "output_type": "execute_result",
     "data": {
      "text/plain": [
       "Index(['age1', 'age2', 'age3', 'age4'], dtype='object')"
      ]
     },
     "metadata": {},
     "execution_count": 8
    }
   ],
   "source": [
    "# calling indices of the series\n",
    "Age.index"
   ]
  },
  {
   "cell_type": "code",
   "execution_count": 9,
   "metadata": {},
   "outputs": [],
   "source": [
    "Age.index = [\"A1\", \"A2\", \"A3\", \"A4\"]"
   ]
  },
  {
   "cell_type": "code",
   "execution_count": 10,
   "metadata": {},
   "outputs": [
    {
     "output_type": "execute_result",
     "data": {
      "text/plain": [
       "Index(['A1', 'A2', 'A3', 'A4'], dtype='object')"
      ]
     },
     "metadata": {},
     "execution_count": 10
    }
   ],
   "source": [
    "Age.index"
   ]
  },
  {
   "cell_type": "code",
   "execution_count": 11,
   "metadata": {},
   "outputs": [
    {
     "output_type": "execute_result",
     "data": {
      "text/plain": [
       "A1    10\n",
       "A2    20\n",
       "A3    30\n",
       "A4    40\n",
       "dtype: int64"
      ]
     },
     "metadata": {},
     "execution_count": 11
    }
   ],
   "source": [
    "Age"
   ]
  },
  {
   "cell_type": "code",
   "execution_count": 12,
   "metadata": {},
   "outputs": [],
   "source": [
    "import numpy as np"
   ]
  },
  {
   "cell_type": "code",
   "execution_count": 13,
   "metadata": {},
   "outputs": [],
   "source": [
    "DF = np.array([[20, 10,8], [25, 8, 10], [27, 5, 3], [30, 9, 7]])"
   ]
  },
  {
   "cell_type": "code",
   "execution_count": 14,
   "metadata": {},
   "outputs": [
    {
     "output_type": "stream",
     "name": "stdout",
     "text": [
      "    0   1   2\n0  20  10   8\n1  25   8  10\n2  27   5   3\n3  30   9   7\n"
     ]
    }
   ],
   "source": [
    "Data_Set = pd.DataFrame(DF)\n",
    "print(Data_Set)"
   ]
  },
  {
   "cell_type": "code",
   "execution_count": 15,
   "metadata": {},
   "outputs": [
    {
     "output_type": "stream",
     "name": "stdout",
     "text": [
      "     0   1   2\nS1  20  10   8\nS2  25   8  10\nS3  27   5   3\nS4  30   9   7\n"
     ]
    }
   ],
   "source": [
    "Data_Set = pd.DataFrame(DF, index = [\"S1\", \"S2\", \"S3\", \"S4\"])\n",
    "print(Data_Set)"
   ]
  },
  {
   "cell_type": "code",
   "execution_count": 16,
   "metadata": {},
   "outputs": [
    {
     "output_type": "stream",
     "name": "stdout",
     "text": [
      "    Age  Grade1  Grade2\nS1   20      10       8\nS2   25       8      10\nS3   27       5       3\nS4   30       9       7\n"
     ]
    }
   ],
   "source": [
    "Data_Set = pd.DataFrame(DF, index = [\"S1\", \"S2\", \"S3\", \"S4\"], columns=[\"Age\", \"Grade1\", \"Grade2\"])\n",
    "print(Data_Set)"
   ]
  },
  {
   "cell_type": "code",
   "execution_count": 17,
   "metadata": {},
   "outputs": [],
   "source": [
    "Data_Set[\"Grade3\"] = [9,6,7,10]"
   ]
  },
  {
   "cell_type": "code",
   "execution_count": 18,
   "metadata": {},
   "outputs": [
    {
     "output_type": "stream",
     "name": "stdout",
     "text": [
      "    Age  Grade1  Grade2  Grade3\nS1   20      10       8       9\nS2   25       8      10       6\nS3   27       5       3       7\nS4   30       9       7      10\n"
     ]
    }
   ],
   "source": [
    "print(Data_Set)"
   ]
  },
  {
   "cell_type": "code",
   "execution_count": 19,
   "metadata": {},
   "outputs": [
    {
     "output_type": "execute_result",
     "data": {
      "text/plain": [
       "Age       25\n",
       "Grade1     8\n",
       "Grade2    10\n",
       "Grade3     6\n",
       "Name: S2, dtype: int64"
      ]
     },
     "metadata": {},
     "execution_count": 19
    }
   ],
   "source": [
    "# access for label\n",
    "Data_Set.loc[\"S2\"]"
   ]
  },
  {
   "cell_type": "code",
   "execution_count": 20,
   "metadata": {},
   "outputs": [
    {
     "output_type": "execute_result",
     "data": {
      "text/plain": [
       "6"
      ]
     },
     "metadata": {},
     "execution_count": 20
    }
   ],
   "source": [
    "# position\n",
    "Data_Set.iloc[1][3]"
   ]
  },
  {
   "cell_type": "code",
   "execution_count": 21,
   "metadata": {},
   "outputs": [
    {
     "output_type": "execute_result",
     "data": {
      "text/plain": [
       "6"
      ]
     },
     "metadata": {},
     "execution_count": 21
    }
   ],
   "source": [
    "Data_Set.iloc[1,3]"
   ]
  },
  {
   "cell_type": "code",
   "execution_count": 22,
   "metadata": {},
   "outputs": [
    {
     "output_type": "execute_result",
     "data": {
      "text/plain": [
       "S1    20\n",
       "S2    25\n",
       "S3    27\n",
       "S4    30\n",
       "Name: Age, dtype: int64"
      ]
     },
     "metadata": {},
     "execution_count": 22
    }
   ],
   "source": [
    "Data_Set.iloc[:,0]"
   ]
  },
  {
   "cell_type": "code",
   "execution_count": 23,
   "metadata": {},
   "outputs": [
    {
     "output_type": "execute_result",
     "data": {
      "text/plain": [
       "    Age  Grade1  Grade2  Grade3\n",
       "S1   20      10       8       9\n",
       "S2   25       8      10       6\n",
       "S3   27       5       3       7\n",
       "S4   30       9       7      10"
      ],
      "text/html": "<div>\n<style scoped>\n    .dataframe tbody tr th:only-of-type {\n        vertical-align: middle;\n    }\n\n    .dataframe tbody tr th {\n        vertical-align: top;\n    }\n\n    .dataframe thead th {\n        text-align: right;\n    }\n</style>\n<table border=\"1\" class=\"dataframe\">\n  <thead>\n    <tr style=\"text-align: right;\">\n      <th></th>\n      <th>Age</th>\n      <th>Grade1</th>\n      <th>Grade2</th>\n      <th>Grade3</th>\n    </tr>\n  </thead>\n  <tbody>\n    <tr>\n      <th>S1</th>\n      <td>20</td>\n      <td>10</td>\n      <td>8</td>\n      <td>9</td>\n    </tr>\n    <tr>\n      <th>S2</th>\n      <td>25</td>\n      <td>8</td>\n      <td>10</td>\n      <td>6</td>\n    </tr>\n    <tr>\n      <th>S3</th>\n      <td>27</td>\n      <td>5</td>\n      <td>3</td>\n      <td>7</td>\n    </tr>\n    <tr>\n      <th>S4</th>\n      <td>30</td>\n      <td>9</td>\n      <td>7</td>\n      <td>10</td>\n    </tr>\n  </tbody>\n</table>\n</div>"
     },
     "metadata": {},
     "execution_count": 23
    }
   ],
   "source": [
    "Data_Set.iloc[:]"
   ]
  },
  {
   "cell_type": "code",
   "execution_count": 24,
   "metadata": {},
   "outputs": [
    {
     "output_type": "execute_result",
     "data": {
      "text/plain": [
       "S1     9\n",
       "S2     6\n",
       "S3     7\n",
       "S4    10\n",
       "Name: Grade3, dtype: int64"
      ]
     },
     "metadata": {},
     "execution_count": 24
    }
   ],
   "source": [
    "Data_Set.iloc[:,3]"
   ]
  },
  {
   "cell_type": "code",
   "execution_count": 25,
   "metadata": {},
   "outputs": [],
   "source": [
    "Filtered_Data = Data_Set.iloc[:,1:3]"
   ]
  },
  {
   "cell_type": "code",
   "execution_count": 26,
   "metadata": {},
   "outputs": [
    {
     "output_type": "execute_result",
     "data": {
      "text/plain": [
       "    Grade1  Grade2\n",
       "S1      10       8\n",
       "S2       8      10\n",
       "S3       5       3\n",
       "S4       9       7"
      ],
      "text/html": "<div>\n<style scoped>\n    .dataframe tbody tr th:only-of-type {\n        vertical-align: middle;\n    }\n\n    .dataframe tbody tr th {\n        vertical-align: top;\n    }\n\n    .dataframe thead th {\n        text-align: right;\n    }\n</style>\n<table border=\"1\" class=\"dataframe\">\n  <thead>\n    <tr style=\"text-align: right;\">\n      <th></th>\n      <th>Grade1</th>\n      <th>Grade2</th>\n    </tr>\n  </thead>\n  <tbody>\n    <tr>\n      <th>S1</th>\n      <td>10</td>\n      <td>8</td>\n    </tr>\n    <tr>\n      <th>S2</th>\n      <td>8</td>\n      <td>10</td>\n    </tr>\n    <tr>\n      <th>S3</th>\n      <td>5</td>\n      <td>3</td>\n    </tr>\n    <tr>\n      <th>S4</th>\n      <td>9</td>\n      <td>7</td>\n    </tr>\n  </tbody>\n</table>\n</div>"
     },
     "metadata": {},
     "execution_count": 26
    }
   ],
   "source": [
    "Filtered_Data"
   ]
  },
  {
   "cell_type": "code",
   "execution_count": 27,
   "metadata": {},
   "outputs": [
    {
     "output_type": "execute_result",
     "data": {
      "text/plain": [
       "    Age  Grade2  Grade3\n",
       "S1   20       8       9\n",
       "S2   25      10       6\n",
       "S3   27       3       7\n",
       "S4   30       7      10"
      ],
      "text/html": "<div>\n<style scoped>\n    .dataframe tbody tr th:only-of-type {\n        vertical-align: middle;\n    }\n\n    .dataframe tbody tr th {\n        vertical-align: top;\n    }\n\n    .dataframe thead th {\n        text-align: right;\n    }\n</style>\n<table border=\"1\" class=\"dataframe\">\n  <thead>\n    <tr style=\"text-align: right;\">\n      <th></th>\n      <th>Age</th>\n      <th>Grade2</th>\n      <th>Grade3</th>\n    </tr>\n  </thead>\n  <tbody>\n    <tr>\n      <th>S1</th>\n      <td>20</td>\n      <td>8</td>\n      <td>9</td>\n    </tr>\n    <tr>\n      <th>S2</th>\n      <td>25</td>\n      <td>10</td>\n      <td>6</td>\n    </tr>\n    <tr>\n      <th>S3</th>\n      <td>27</td>\n      <td>3</td>\n      <td>7</td>\n    </tr>\n    <tr>\n      <th>S4</th>\n      <td>30</td>\n      <td>7</td>\n      <td>10</td>\n    </tr>\n  </tbody>\n</table>\n</div>"
     },
     "metadata": {},
     "execution_count": 27
    }
   ],
   "source": [
    "Data_Set.drop(\"Grade1\", axis=1)"
   ]
  },
  {
   "cell_type": "code",
   "execution_count": 28,
   "metadata": {},
   "outputs": [],
   "source": [
    "Data_Set = Data_Set.replace(10, 12)"
   ]
  },
  {
   "cell_type": "code",
   "execution_count": 29,
   "metadata": {},
   "outputs": [
    {
     "output_type": "execute_result",
     "data": {
      "text/plain": [
       "    Age  Grade1  Grade2  Grade3\n",
       "S1   20      12       8       9\n",
       "S2   25       8      12       6\n",
       "S3   27       5       3       7\n",
       "S4   30       9       7      12"
      ],
      "text/html": "<div>\n<style scoped>\n    .dataframe tbody tr th:only-of-type {\n        vertical-align: middle;\n    }\n\n    .dataframe tbody tr th {\n        vertical-align: top;\n    }\n\n    .dataframe thead th {\n        text-align: right;\n    }\n</style>\n<table border=\"1\" class=\"dataframe\">\n  <thead>\n    <tr style=\"text-align: right;\">\n      <th></th>\n      <th>Age</th>\n      <th>Grade1</th>\n      <th>Grade2</th>\n      <th>Grade3</th>\n    </tr>\n  </thead>\n  <tbody>\n    <tr>\n      <th>S1</th>\n      <td>20</td>\n      <td>12</td>\n      <td>8</td>\n      <td>9</td>\n    </tr>\n    <tr>\n      <th>S2</th>\n      <td>25</td>\n      <td>8</td>\n      <td>12</td>\n      <td>6</td>\n    </tr>\n    <tr>\n      <th>S3</th>\n      <td>27</td>\n      <td>5</td>\n      <td>3</td>\n      <td>7</td>\n    </tr>\n    <tr>\n      <th>S4</th>\n      <td>30</td>\n      <td>9</td>\n      <td>7</td>\n      <td>12</td>\n    </tr>\n  </tbody>\n</table>\n</div>"
     },
     "metadata": {},
     "execution_count": 29
    }
   ],
   "source": [
    "Data_Set"
   ]
  },
  {
   "cell_type": "code",
   "execution_count": 30,
   "metadata": {},
   "outputs": [
    {
     "output_type": "execute_result",
     "data": {
      "text/plain": [
       "    Age  Grade1  Grade2  Grade3\n",
       "S1   20      10       8      30\n",
       "S2   25       8      10       6\n",
       "S3   27       5       3       7\n",
       "S4   30      30       7      10"
      ],
      "text/html": "<div>\n<style scoped>\n    .dataframe tbody tr th:only-of-type {\n        vertical-align: middle;\n    }\n\n    .dataframe tbody tr th {\n        vertical-align: top;\n    }\n\n    .dataframe thead th {\n        text-align: right;\n    }\n</style>\n<table border=\"1\" class=\"dataframe\">\n  <thead>\n    <tr style=\"text-align: right;\">\n      <th></th>\n      <th>Age</th>\n      <th>Grade1</th>\n      <th>Grade2</th>\n      <th>Grade3</th>\n    </tr>\n  </thead>\n  <tbody>\n    <tr>\n      <th>S1</th>\n      <td>20</td>\n      <td>10</td>\n      <td>8</td>\n      <td>30</td>\n    </tr>\n    <tr>\n      <th>S2</th>\n      <td>25</td>\n      <td>8</td>\n      <td>10</td>\n      <td>6</td>\n    </tr>\n    <tr>\n      <th>S3</th>\n      <td>27</td>\n      <td>5</td>\n      <td>3</td>\n      <td>7</td>\n    </tr>\n    <tr>\n      <th>S4</th>\n      <td>30</td>\n      <td>30</td>\n      <td>7</td>\n      <td>10</td>\n    </tr>\n  </tbody>\n</table>\n</div>"
     },
     "metadata": {},
     "execution_count": 30
    }
   ],
   "source": [
    "Data_Set = Data_Set.replace({12:10, 9:30})\n",
    "Data_Set"
   ]
  },
  {
   "cell_type": "code",
   "execution_count": 31,
   "metadata": {},
   "outputs": [
    {
     "output_type": "execute_result",
     "data": {
      "text/plain": [
       "    Age  Grade1  Grade2  Grade3\n",
       "S1   20      10       8      30\n",
       "S2   25       8      10       6\n",
       "S3   27       5       3       7"
      ],
      "text/html": "<div>\n<style scoped>\n    .dataframe tbody tr th:only-of-type {\n        vertical-align: middle;\n    }\n\n    .dataframe tbody tr th {\n        vertical-align: top;\n    }\n\n    .dataframe thead th {\n        text-align: right;\n    }\n</style>\n<table border=\"1\" class=\"dataframe\">\n  <thead>\n    <tr style=\"text-align: right;\">\n      <th></th>\n      <th>Age</th>\n      <th>Grade1</th>\n      <th>Grade2</th>\n      <th>Grade3</th>\n    </tr>\n  </thead>\n  <tbody>\n    <tr>\n      <th>S1</th>\n      <td>20</td>\n      <td>10</td>\n      <td>8</td>\n      <td>30</td>\n    </tr>\n    <tr>\n      <th>S2</th>\n      <td>25</td>\n      <td>8</td>\n      <td>10</td>\n      <td>6</td>\n    </tr>\n    <tr>\n      <th>S3</th>\n      <td>27</td>\n      <td>5</td>\n      <td>3</td>\n      <td>7</td>\n    </tr>\n  </tbody>\n</table>\n</div>"
     },
     "metadata": {},
     "execution_count": 31
    }
   ],
   "source": [
    "Data_Set.head(3)"
   ]
  },
  {
   "cell_type": "code",
   "execution_count": 32,
   "metadata": {},
   "outputs": [
    {
     "output_type": "execute_result",
     "data": {
      "text/plain": [
       "    Age  Grade1  Grade2  Grade3\n",
       "S3   27       5       3       7\n",
       "S4   30      30       7      10"
      ],
      "text/html": "<div>\n<style scoped>\n    .dataframe tbody tr th:only-of-type {\n        vertical-align: middle;\n    }\n\n    .dataframe tbody tr th {\n        vertical-align: top;\n    }\n\n    .dataframe thead th {\n        text-align: right;\n    }\n</style>\n<table border=\"1\" class=\"dataframe\">\n  <thead>\n    <tr style=\"text-align: right;\">\n      <th></th>\n      <th>Age</th>\n      <th>Grade1</th>\n      <th>Grade2</th>\n      <th>Grade3</th>\n    </tr>\n  </thead>\n  <tbody>\n    <tr>\n      <th>S3</th>\n      <td>27</td>\n      <td>5</td>\n      <td>3</td>\n      <td>7</td>\n    </tr>\n    <tr>\n      <th>S4</th>\n      <td>30</td>\n      <td>30</td>\n      <td>7</td>\n      <td>10</td>\n    </tr>\n  </tbody>\n</table>\n</div>"
     },
     "metadata": {},
     "execution_count": 32
    }
   ],
   "source": [
    "Data_Set.tail(2)"
   ]
  },
  {
   "cell_type": "code",
   "execution_count": 39,
   "metadata": {},
   "outputs": [
    {
     "output_type": "execute_result",
     "data": {
      "text/plain": [
       "    Age  Grade1  Grade2  Grade3\n",
       "S3   27       5       3       7\n",
       "S2   25       8      10       6\n",
       "S1   20      10       8      30\n",
       "S4   30      30       7      10"
      ],
      "text/html": "<div>\n<style scoped>\n    .dataframe tbody tr th:only-of-type {\n        vertical-align: middle;\n    }\n\n    .dataframe tbody tr th {\n        vertical-align: top;\n    }\n\n    .dataframe thead th {\n        text-align: right;\n    }\n</style>\n<table border=\"1\" class=\"dataframe\">\n  <thead>\n    <tr style=\"text-align: right;\">\n      <th></th>\n      <th>Age</th>\n      <th>Grade1</th>\n      <th>Grade2</th>\n      <th>Grade3</th>\n    </tr>\n  </thead>\n  <tbody>\n    <tr>\n      <th>S3</th>\n      <td>27</td>\n      <td>5</td>\n      <td>3</td>\n      <td>7</td>\n    </tr>\n    <tr>\n      <th>S2</th>\n      <td>25</td>\n      <td>8</td>\n      <td>10</td>\n      <td>6</td>\n    </tr>\n    <tr>\n      <th>S1</th>\n      <td>20</td>\n      <td>10</td>\n      <td>8</td>\n      <td>30</td>\n    </tr>\n    <tr>\n      <th>S4</th>\n      <td>30</td>\n      <td>30</td>\n      <td>7</td>\n      <td>10</td>\n    </tr>\n  </tbody>\n</table>\n</div>"
     },
     "metadata": {},
     "execution_count": 39
    }
   ],
   "source": [
    "Data_Set.sort_values(\"Grade1\", ascending=True)"
   ]
  },
  {
   "cell_type": "code",
   "execution_count": 41,
   "metadata": {},
   "outputs": [
    {
     "output_type": "execute_result",
     "data": {
      "text/plain": [
       "    Age  Grade1  Grade2  Grade3\n",
       "S1   20      10       8      30\n",
       "S2   25       8      10       6\n",
       "S3   27       5       3       7\n",
       "S4   30      30       7      10"
      ],
      "text/html": "<div>\n<style scoped>\n    .dataframe tbody tr th:only-of-type {\n        vertical-align: middle;\n    }\n\n    .dataframe tbody tr th {\n        vertical-align: top;\n    }\n\n    .dataframe thead th {\n        text-align: right;\n    }\n</style>\n<table border=\"1\" class=\"dataframe\">\n  <thead>\n    <tr style=\"text-align: right;\">\n      <th></th>\n      <th>Age</th>\n      <th>Grade1</th>\n      <th>Grade2</th>\n      <th>Grade3</th>\n    </tr>\n  </thead>\n  <tbody>\n    <tr>\n      <th>S1</th>\n      <td>20</td>\n      <td>10</td>\n      <td>8</td>\n      <td>30</td>\n    </tr>\n    <tr>\n      <th>S2</th>\n      <td>25</td>\n      <td>8</td>\n      <td>10</td>\n      <td>6</td>\n    </tr>\n    <tr>\n      <th>S3</th>\n      <td>27</td>\n      <td>5</td>\n      <td>3</td>\n      <td>7</td>\n    </tr>\n    <tr>\n      <th>S4</th>\n      <td>30</td>\n      <td>30</td>\n      <td>7</td>\n      <td>10</td>\n    </tr>\n  </tbody>\n</table>\n</div>"
     },
     "metadata": {},
     "execution_count": 41
    }
   ],
   "source": [
    "Data_Set.sort_index(axis=0, ascending=True)"
   ]
  },
  {
   "cell_type": "code",
   "execution_count": 42,
   "metadata": {},
   "outputs": [],
   "source": [
    "Data = pd.read_csv(\"Data_Set.csv\")"
   ]
  },
  {
   "cell_type": "code",
   "execution_count": 43,
   "metadata": {},
   "outputs": [
    {
     "output_type": "execute_result",
     "data": {
      "text/plain": [
       "   Name of the data = Home Consumption Unnamed: 1 Unnamed: 2 Unnamed: 3  \\\n",
       "0                   Unit = kW and $/kW        NaN        NaN        NaN   \n",
       "1                                 Time     E_Plug     E_Heat      Price   \n",
       "2                                    1         24         28         10   \n",
       "3                                    2         17         32         12   \n",
       "4                                    3         16         34         11   \n",
       "5                                    3         16         34         11   \n",
       "6                                    4         16         33         12   \n",
       "7                                    5         16         30         10   \n",
       "8                                    6         16         31         10   \n",
       "9                                    7         19         28         14   \n",
       "10                                   8         22         29         12   \n",
       "11                                   9         25         26         12   \n",
       "12                                  10         26         24         14   \n",
       "13                                  11         27         20         14   \n",
       "14                                  12         30         19         16   \n",
       "15                                  13         30         19         16   \n",
       "16                                  14        NaN         13         17   \n",
       "17                                  15         27         14         17   \n",
       "18                                  16         27         16         17   \n",
       "19                                  17         28         -4         18   \n",
       "20                                  18         33         26         20   \n",
       "21                                  19         42         32         21   \n",
       "22                                  20        120         33         21   \n",
       "23                                  21         47         32         21   \n",
       "24                                  22         44         30         22   \n",
       "25                                  23         36         35          !   \n",
       "26                                  24         37         36         18   \n",
       "\n",
       "     Unnamed: 4     Unnamed: 5  \n",
       "0           NaN            NaN  \n",
       "1   Temperature  No. Occupants  \n",
       "2           -15             12  \n",
       "3           -17             12  \n",
       "4           -19             12  \n",
       "5           -19             12  \n",
       "6           -18             12  \n",
       "7           -14             12  \n",
       "8           -16             12  \n",
       "9           -14             12  \n",
       "10          -15              9  \n",
       "11          -12              8  \n",
       "12           -8              8  \n",
       "13           -4              8  \n",
       "14            0              5  \n",
       "15            0              4  \n",
       "16            2              4  \n",
       "17            3              4  \n",
       "18            2              6  \n",
       "19            0              8  \n",
       "20           -6              9  \n",
       "21           -8             10  \n",
       "22          -12             12  \n",
       "23          -16             12  \n",
       "24          -18             12  \n",
       "25          -19             12  \n",
       "26          -22             12  "
      ],
      "text/html": "<div>\n<style scoped>\n    .dataframe tbody tr th:only-of-type {\n        vertical-align: middle;\n    }\n\n    .dataframe tbody tr th {\n        vertical-align: top;\n    }\n\n    .dataframe thead th {\n        text-align: right;\n    }\n</style>\n<table border=\"1\" class=\"dataframe\">\n  <thead>\n    <tr style=\"text-align: right;\">\n      <th></th>\n      <th>Name of the data = Home Consumption</th>\n      <th>Unnamed: 1</th>\n      <th>Unnamed: 2</th>\n      <th>Unnamed: 3</th>\n      <th>Unnamed: 4</th>\n      <th>Unnamed: 5</th>\n    </tr>\n  </thead>\n  <tbody>\n    <tr>\n      <th>0</th>\n      <td>Unit = kW and $/kW</td>\n      <td>NaN</td>\n      <td>NaN</td>\n      <td>NaN</td>\n      <td>NaN</td>\n      <td>NaN</td>\n    </tr>\n    <tr>\n      <th>1</th>\n      <td>Time</td>\n      <td>E_Plug</td>\n      <td>E_Heat</td>\n      <td>Price</td>\n      <td>Temperature</td>\n      <td>No. Occupants</td>\n    </tr>\n    <tr>\n      <th>2</th>\n      <td>1</td>\n      <td>24</td>\n      <td>28</td>\n      <td>10</td>\n      <td>-15</td>\n      <td>12</td>\n    </tr>\n    <tr>\n      <th>3</th>\n      <td>2</td>\n      <td>17</td>\n      <td>32</td>\n      <td>12</td>\n      <td>-17</td>\n      <td>12</td>\n    </tr>\n    <tr>\n      <th>4</th>\n      <td>3</td>\n      <td>16</td>\n      <td>34</td>\n      <td>11</td>\n      <td>-19</td>\n      <td>12</td>\n    </tr>\n    <tr>\n      <th>5</th>\n      <td>3</td>\n      <td>16</td>\n      <td>34</td>\n      <td>11</td>\n      <td>-19</td>\n      <td>12</td>\n    </tr>\n    <tr>\n      <th>6</th>\n      <td>4</td>\n      <td>16</td>\n      <td>33</td>\n      <td>12</td>\n      <td>-18</td>\n      <td>12</td>\n    </tr>\n    <tr>\n      <th>7</th>\n      <td>5</td>\n      <td>16</td>\n      <td>30</td>\n      <td>10</td>\n      <td>-14</td>\n      <td>12</td>\n    </tr>\n    <tr>\n      <th>8</th>\n      <td>6</td>\n      <td>16</td>\n      <td>31</td>\n      <td>10</td>\n      <td>-16</td>\n      <td>12</td>\n    </tr>\n    <tr>\n      <th>9</th>\n      <td>7</td>\n      <td>19</td>\n      <td>28</td>\n      <td>14</td>\n      <td>-14</td>\n      <td>12</td>\n    </tr>\n    <tr>\n      <th>10</th>\n      <td>8</td>\n      <td>22</td>\n      <td>29</td>\n      <td>12</td>\n      <td>-15</td>\n      <td>9</td>\n    </tr>\n    <tr>\n      <th>11</th>\n      <td>9</td>\n      <td>25</td>\n      <td>26</td>\n      <td>12</td>\n      <td>-12</td>\n      <td>8</td>\n    </tr>\n    <tr>\n      <th>12</th>\n      <td>10</td>\n      <td>26</td>\n      <td>24</td>\n      <td>14</td>\n      <td>-8</td>\n      <td>8</td>\n    </tr>\n    <tr>\n      <th>13</th>\n      <td>11</td>\n      <td>27</td>\n      <td>20</td>\n      <td>14</td>\n      <td>-4</td>\n      <td>8</td>\n    </tr>\n    <tr>\n      <th>14</th>\n      <td>12</td>\n      <td>30</td>\n      <td>19</td>\n      <td>16</td>\n      <td>0</td>\n      <td>5</td>\n    </tr>\n    <tr>\n      <th>15</th>\n      <td>13</td>\n      <td>30</td>\n      <td>19</td>\n      <td>16</td>\n      <td>0</td>\n      <td>4</td>\n    </tr>\n    <tr>\n      <th>16</th>\n      <td>14</td>\n      <td>NaN</td>\n      <td>13</td>\n      <td>17</td>\n      <td>2</td>\n      <td>4</td>\n    </tr>\n    <tr>\n      <th>17</th>\n      <td>15</td>\n      <td>27</td>\n      <td>14</td>\n      <td>17</td>\n      <td>3</td>\n      <td>4</td>\n    </tr>\n    <tr>\n      <th>18</th>\n      <td>16</td>\n      <td>27</td>\n      <td>16</td>\n      <td>17</td>\n      <td>2</td>\n      <td>6</td>\n    </tr>\n    <tr>\n      <th>19</th>\n      <td>17</td>\n      <td>28</td>\n      <td>-4</td>\n      <td>18</td>\n      <td>0</td>\n      <td>8</td>\n    </tr>\n    <tr>\n      <th>20</th>\n      <td>18</td>\n      <td>33</td>\n      <td>26</td>\n      <td>20</td>\n      <td>-6</td>\n      <td>9</td>\n    </tr>\n    <tr>\n      <th>21</th>\n      <td>19</td>\n      <td>42</td>\n      <td>32</td>\n      <td>21</td>\n      <td>-8</td>\n      <td>10</td>\n    </tr>\n    <tr>\n      <th>22</th>\n      <td>20</td>\n      <td>120</td>\n      <td>33</td>\n      <td>21</td>\n      <td>-12</td>\n      <td>12</td>\n    </tr>\n    <tr>\n      <th>23</th>\n      <td>21</td>\n      <td>47</td>\n      <td>32</td>\n      <td>21</td>\n      <td>-16</td>\n      <td>12</td>\n    </tr>\n    <tr>\n      <th>24</th>\n      <td>22</td>\n      <td>44</td>\n      <td>30</td>\n      <td>22</td>\n      <td>-18</td>\n      <td>12</td>\n    </tr>\n    <tr>\n      <th>25</th>\n      <td>23</td>\n      <td>36</td>\n      <td>35</td>\n      <td>!</td>\n      <td>-19</td>\n      <td>12</td>\n    </tr>\n    <tr>\n      <th>26</th>\n      <td>24</td>\n      <td>37</td>\n      <td>36</td>\n      <td>18</td>\n      <td>-22</td>\n      <td>12</td>\n    </tr>\n  </tbody>\n</table>\n</div>"
     },
     "metadata": {},
     "execution_count": 43
    }
   ],
   "source": [
    "Data"
   ]
  },
  {
   "cell_type": "code",
   "execution_count": null,
   "metadata": {},
   "outputs": [],
   "source": []
  }
 ]
}