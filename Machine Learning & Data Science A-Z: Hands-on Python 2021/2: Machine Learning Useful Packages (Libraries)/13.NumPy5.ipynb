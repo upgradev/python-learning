{
 "metadata": {
  "language_info": {
   "codemirror_mode": {
    "name": "ipython",
    "version": 3
   },
   "file_extension": ".py",
   "mimetype": "text/x-python",
   "name": "python",
   "nbconvert_exporter": "python",
   "pygments_lexer": "ipython3",
   "version": "3.8.5"
  },
  "orig_nbformat": 4,
  "kernelspec": {
   "name": "python3",
   "display_name": "Python 3.8.5 64-bit"
  },
  "interpreter": {
   "hash": "31f2aee4e71d21fbe5cf8b01ff0e069b9275f58929596ceb00d14d90e3e16cd6"
  }
 },
 "nbformat": 4,
 "nbformat_minor": 2,
 "cells": [
  {
   "cell_type": "code",
   "execution_count": 2,
   "metadata": {},
   "outputs": [],
   "source": [
    "import numpy as np"
   ]
  },
  {
   "cell_type": "code",
   "execution_count": 3,
   "metadata": {},
   "outputs": [
    {
     "output_type": "stream",
     "name": "stdout",
     "text": [
      "[[1 2 3]\n [4 6 7]]\n"
     ]
    }
   ],
   "source": [
    "Nump_Array = np.array([[1,2,3], [4,6,7]])\n",
    "print(Nump_Array)"
   ]
  },
  {
   "cell_type": "code",
   "execution_count": 4,
   "metadata": {},
   "outputs": [],
   "source": [
    "NP1 = np.array([[1,3], [4,5]])\n",
    "NP2 = np.array([[3,4], [5,7]])"
   ]
  },
  {
   "cell_type": "code",
   "execution_count": 5,
   "metadata": {},
   "outputs": [
    {
     "output_type": "stream",
     "name": "stdout",
     "text": [
      "[[18 25]\n [37 51]]\n\n[[18 25]\n [37 51]]\n"
     ]
    }
   ],
   "source": [
    "MNP = NP1@NP2\n",
    "print(MNP)\n",
    "print()\n",
    "MNP3 = np.dot(NP1, NP2)\n",
    "print(MNP3)"
   ]
  },
  {
   "cell_type": "code",
   "execution_count": 6,
   "metadata": {},
   "outputs": [
    {
     "output_type": "stream",
     "name": "stdout",
     "text": [
      "[[ 3 12]\n [20 35]]\n\n[[ 3 12]\n [20 35]]\n"
     ]
    }
   ],
   "source": [
    "MNP2 = NP1*NP2\n",
    "print(MNP2)\n",
    "print()\n",
    "MNP4 = np.multiply(NP1, NP2)\n",
    "print(MNP4)"
   ]
  },
  {
   "cell_type": "code",
   "execution_count": 7,
   "metadata": {},
   "outputs": [],
   "source": [
    "Sum1 = NP1+NP2"
   ]
  },
  {
   "cell_type": "code",
   "execution_count": 8,
   "metadata": {},
   "outputs": [],
   "source": [
    "Sub = NP1-NP2"
   ]
  },
  {
   "cell_type": "code",
   "execution_count": 9,
   "metadata": {},
   "outputs": [],
   "source": [
    "Sub2 =np.subtract(NP1, NP2)"
   ]
  },
  {
   "cell_type": "code",
   "execution_count": 10,
   "metadata": {},
   "outputs": [
    {
     "output_type": "stream",
     "name": "stdout",
     "text": [
      "13\n"
     ]
    }
   ],
   "source": [
    "El_Sum = np.sum(NP1)\n",
    "print(El_Sum)"
   ]
  },
  {
   "cell_type": "code",
   "execution_count": 11,
   "metadata": {},
   "outputs": [
    {
     "output_type": "stream",
     "name": "stdout",
     "text": [
      "[[4 6]\n [7 8]]\n"
     ]
    }
   ],
   "source": [
    "Broad_Nump = NP1+3\n",
    "print(Broad_Nump)"
   ]
  },
  {
   "cell_type": "code",
   "execution_count": 12,
   "metadata": {},
   "outputs": [
    {
     "output_type": "execute_result",
     "data": {
      "text/plain": [
       "array([[4, 7],\n",
       "       [7, 9]])"
      ]
     },
     "metadata": {},
     "execution_count": 12
    }
   ],
   "source": [
    "NP3 = np.array([[3,4]])\n",
    "NP1+NP3"
   ]
  },
  {
   "cell_type": "code",
   "execution_count": 13,
   "metadata": {},
   "outputs": [
    {
     "output_type": "stream",
     "name": "stdout",
     "text": [
      "[2.4 2.8 3.2]\n"
     ]
    }
   ],
   "source": [
    "D = np.divide([12,14,16], 5)\n",
    "print(D)"
   ]
  },
  {
   "cell_type": "code",
   "execution_count": 14,
   "metadata": {},
   "outputs": [
    {
     "output_type": "stream",
     "name": "stdout",
     "text": [
      "[2 2 3]\n"
     ]
    }
   ],
   "source": [
    "D = np.floor_divide([12,14,16], 5)\n",
    "print(D)"
   ]
  },
  {
   "cell_type": "code",
   "execution_count": 15,
   "metadata": {},
   "outputs": [
    {
     "output_type": "stream",
     "name": "stdout",
     "text": [
      "3.1622776601683795\n"
     ]
    }
   ],
   "source": [
    "Sq = np.math.sqrt(10)\n",
    "print(Sq)"
   ]
  },
  {
   "cell_type": "code",
   "execution_count": 16,
   "metadata": {},
   "outputs": [
    {
     "output_type": "stream",
     "name": "stdout",
     "text": [
      "[[ 1.42275768 -0.1492938  -0.49096271  0.55155289]\n [ 1.63201899 -0.07213112 -0.44940205 -0.34792838]\n [-0.0774922   0.6874255   1.50472481 -1.30524132]]\n"
     ]
    }
   ],
   "source": [
    "Normal_Distr = np.random.standard_normal((3,4))\n",
    "print(Normal_Distr)"
   ]
  },
  {
   "cell_type": "code",
   "execution_count": 17,
   "metadata": {},
   "outputs": [
    {
     "output_type": "stream",
     "name": "stdout",
     "text": [
      "[[5.61855506 1.04420993 1.37810034 1.62707527]\n [9.42695995 8.06902085 8.08429933 5.37126078]\n [7.60514341 6.37092383 9.23329951 2.21450772]]\n"
     ]
    }
   ],
   "source": [
    "Uniform_Dist = np.random.uniform(1,12,(3,4))\n",
    "print(Uniform_Dist)"
   ]
  },
  {
   "cell_type": "code",
   "execution_count": 18,
   "metadata": {},
   "outputs": [
    {
     "output_type": "execute_result",
     "data": {
      "text/plain": [
       "0.6798967564499482"
      ]
     },
     "metadata": {},
     "execution_count": 18
    }
   ],
   "source": [
    "# generate float number\n",
    "np.random.rand()"
   ]
  },
  {
   "cell_type": "code",
   "execution_count": 19,
   "metadata": {},
   "outputs": [
    {
     "output_type": "stream",
     "name": "stdout",
     "text": [
      "[[23 16  8 20 25]\n [12 49 32 14 10]]\n"
     ]
    }
   ],
   "source": [
    "# generate integer number\n",
    "Random_ar =np.random.randint(1, 50, (2,5))\n",
    "print(Random_ar)"
   ]
  },
  {
   "cell_type": "code",
   "execution_count": 20,
   "metadata": {},
   "outputs": [
    {
     "output_type": "stream",
     "name": "stdout",
     "text": [
      "[[0. 0. 0. 0.]\n [0. 0. 0. 0.]\n [0. 0. 0. 0.]]\n"
     ]
    }
   ],
   "source": [
    "Zero = np.zeros((3,4))\n",
    "print(Zero)"
   ]
  },
  {
   "cell_type": "code",
   "execution_count": 21,
   "metadata": {},
   "outputs": [
    {
     "output_type": "stream",
     "name": "stdout",
     "text": [
      "[[1. 1. 1. 1.]\n [1. 1. 1. 1.]\n [1. 1. 1. 1.]]\n"
     ]
    }
   ],
   "source": [
    "Ones = np.ones((3,4))\n",
    "print(Ones)"
   ]
  },
  {
   "cell_type": "code",
   "execution_count": 22,
   "metadata": {},
   "outputs": [
    {
     "output_type": "stream",
     "name": "stdout",
     "text": [
      "[[False False False False False]\n [False  True  True False False]]\n"
     ]
    }
   ],
   "source": [
    "Filter_Ar = np.logical_and(Random_ar > 30, Random_ar<50)\n",
    "print(Filter_Ar)"
   ]
  },
  {
   "cell_type": "code",
   "execution_count": 24,
   "metadata": {},
   "outputs": [
    {
     "output_type": "stream",
     "name": "stdout",
     "text": [
      "[49 32]\n"
     ]
    }
   ],
   "source": [
    "F_Random_Ar = Random_ar[Filter_Ar]\n",
    "print(F_Random_Ar)\n"
   ]
  },
  {
   "cell_type": "code",
   "execution_count": null,
   "metadata": {},
   "outputs": [],
   "source": []
  }
 ]
}