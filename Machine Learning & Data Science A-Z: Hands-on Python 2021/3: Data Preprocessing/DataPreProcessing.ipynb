{
 "cells": [
  {
   "cell_type": "code",
   "execution_count": 1,
   "metadata": {},
   "outputs": [],
   "source": [
    "import pandas as pd"
   ]
  },
  {
   "cell_type": "code",
   "execution_count": 2,
   "metadata": {},
   "outputs": [],
   "source": [
    "Data_Set1 = pd.read_csv(\"./Data_Set.csv\")\n"
   ]
  },
  {
   "cell_type": "code",
   "execution_count": 3,
   "metadata": {},
   "outputs": [],
   "source": [
    "Data_Set2 = pd.read_csv(\"./Data_Set.csv\", header=2) #especific head\n"
   ]
  },
  {
   "cell_type": "code",
   "execution_count": 4,
   "metadata": {},
   "outputs": [],
   "source": [
    "Data_Set3 = Data_Set2.rename(columns={\"Temperature\": \"Temp\"}) #change name columns"
   ]
  },
  {
   "cell_type": "code",
   "execution_count": 5,
   "metadata": {},
   "outputs": [],
   "source": [
    "Data_Set4 = Data_Set3.drop(\"No. Occupants\", axis=1) #delete column"
   ]
  },
  {
   "cell_type": "code",
   "execution_count": 6,
   "metadata": {},
   "outputs": [],
   "source": [
    "Data_Set3.drop(\"No. Occupants\", axis=1, inplace=True)"
   ]
  },
  {
   "cell_type": "code",
   "execution_count": 7,
   "metadata": {},
   "outputs": [],
   "source": [
    "Data_Set5 = Data_Set4.drop(2, axis=0) #remove row not column"
   ]
  },
  {
   "cell_type": "code",
   "execution_count": 12,
   "metadata": {},
   "outputs": [
    {
     "name": "stdout",
     "output_type": "stream",
     "text": [
      "    Time  E_Plug  E_Heat Price  Temp\n",
      "0      1    24.0      28    10   -15\n",
      "1      2    17.0      32    12   -17\n",
      "2      3    16.0      34    11   -19\n",
      "3      4    16.0      33    12   -18\n",
      "4      5    16.0      30    10   -14\n",
      "5      6    16.0      31    10   -16\n",
      "6      7    19.0      28    14   -14\n",
      "7      8    22.0      29    12   -15\n",
      "8      9    25.0      26    12   -12\n",
      "9     10    26.0      24    14    -8\n",
      "10    11    27.0      20    14    -4\n",
      "11    12    30.0      19    16     0\n",
      "12    13    30.0      19    16     0\n",
      "13    14     NaN      13    17     2\n",
      "14    15    27.0      14    17     3\n",
      "15    16    27.0      16    17     2\n",
      "16    17    28.0      -4    18     0\n",
      "17    18    33.0      26    20    -6\n",
      "18    19    42.0      32    21    -8\n",
      "19    20   120.0      33    21   -12\n",
      "20    21    47.0      32    21   -16\n",
      "21    22    44.0      30    22   -18\n",
      "22    23    36.0      35     !   -19\n",
      "23    24    37.0      36    18   -22\n"
     ]
    }
   ],
   "source": [
    "Data_Set6 = Data_Set5.reset_index(drop=True) #restore index sort\n",
    "print(Data_Set6)"
   ]
  },
  {
   "cell_type": "code",
   "execution_count": 11,
   "metadata": {},
   "outputs": [
    {
     "data": {
      "text/html": [
       "<div>\n",
       "<style scoped>\n",
       "    .dataframe tbody tr th:only-of-type {\n",
       "        vertical-align: middle;\n",
       "    }\n",
       "\n",
       "    .dataframe tbody tr th {\n",
       "        vertical-align: top;\n",
       "    }\n",
       "\n",
       "    .dataframe thead th {\n",
       "        text-align: right;\n",
       "    }\n",
       "</style>\n",
       "<table border=\"1\" class=\"dataframe\">\n",
       "  <thead>\n",
       "    <tr style=\"text-align: right;\">\n",
       "      <th></th>\n",
       "      <th>Time</th>\n",
       "      <th>E_Plug</th>\n",
       "      <th>E_Heat</th>\n",
       "      <th>Temp</th>\n",
       "    </tr>\n",
       "  </thead>\n",
       "  <tbody>\n",
       "    <tr>\n",
       "      <th>count</th>\n",
       "      <td>24.000000</td>\n",
       "      <td>23.000000</td>\n",
       "      <td>24.000000</td>\n",
       "      <td>24.000000</td>\n",
       "    </tr>\n",
       "    <tr>\n",
       "      <th>mean</th>\n",
       "      <td>12.500000</td>\n",
       "      <td>31.521739</td>\n",
       "      <td>25.666667</td>\n",
       "      <td>-10.250000</td>\n",
       "    </tr>\n",
       "    <tr>\n",
       "      <th>std</th>\n",
       "      <td>7.071068</td>\n",
       "      <td>21.336843</td>\n",
       "      <td>9.262672</td>\n",
       "      <td>7.968689</td>\n",
       "    </tr>\n",
       "    <tr>\n",
       "      <th>min</th>\n",
       "      <td>1.000000</td>\n",
       "      <td>16.000000</td>\n",
       "      <td>-4.000000</td>\n",
       "      <td>-22.000000</td>\n",
       "    </tr>\n",
       "    <tr>\n",
       "      <th>25%</th>\n",
       "      <td>6.750000</td>\n",
       "      <td>20.500000</td>\n",
       "      <td>19.750000</td>\n",
       "      <td>-16.250000</td>\n",
       "    </tr>\n",
       "    <tr>\n",
       "      <th>50%</th>\n",
       "      <td>12.500000</td>\n",
       "      <td>27.000000</td>\n",
       "      <td>28.500000</td>\n",
       "      <td>-13.000000</td>\n",
       "    </tr>\n",
       "    <tr>\n",
       "      <th>75%</th>\n",
       "      <td>18.250000</td>\n",
       "      <td>34.500000</td>\n",
       "      <td>32.000000</td>\n",
       "      <td>-3.000000</td>\n",
       "    </tr>\n",
       "    <tr>\n",
       "      <th>max</th>\n",
       "      <td>24.000000</td>\n",
       "      <td>120.000000</td>\n",
       "      <td>36.000000</td>\n",
       "      <td>3.000000</td>\n",
       "    </tr>\n",
       "  </tbody>\n",
       "</table>\n",
       "</div>"
      ],
      "text/plain": [
       "            Time      E_Plug     E_Heat       Temp\n",
       "count  24.000000   23.000000  24.000000  24.000000\n",
       "mean   12.500000   31.521739  25.666667 -10.250000\n",
       "std     7.071068   21.336843   9.262672   7.968689\n",
       "min     1.000000   16.000000  -4.000000 -22.000000\n",
       "25%     6.750000   20.500000  19.750000 -16.250000\n",
       "50%    12.500000   27.000000  28.500000 -13.000000\n",
       "75%    18.250000   34.500000  32.000000  -3.000000\n",
       "max    24.000000  120.000000  36.000000   3.000000"
      ]
     },
     "execution_count": 11,
     "metadata": {},
     "output_type": "execute_result"
    }
   ],
   "source": [
    "Data_Set6.describe()"
   ]
  },
  {
   "cell_type": "code",
   "execution_count": 15,
   "metadata": {},
   "outputs": [
    {
     "name": "stdout",
     "output_type": "stream",
     "text": [
      "-4\n"
     ]
    }
   ],
   "source": [
    "Min_item = Data_Set6[\"E_Heat\"].min()\n",
    "print(Min_item)"
   ]
  },
  {
   "cell_type": "code",
   "execution_count": 14,
   "metadata": {},
   "outputs": [
    {
     "data": {
      "text/plain": [
       "16   -4\n",
       "Name: E_Heat, dtype: int64"
      ]
     },
     "execution_count": 14,
     "metadata": {},
     "output_type": "execute_result"
    }
   ],
   "source": [
    "Data_Set6[\"E_Heat\"][Data_Set6[\"E_Heat\"] == Min_item]"
   ]
  },
  {
   "cell_type": "code",
   "execution_count": 17,
   "metadata": {},
   "outputs": [],
   "source": [
    "Data_Set6[\"E_Heat\"].replace(-4, 21, inplace=True)"
   ]
  },
  {
   "cell_type": "markdown",
   "metadata": {},
   "source": [
    "# Covariance: show the relation between to variables (features)"
   ]
  },
  {
   "cell_type": "code",
   "execution_count": 19,
   "metadata": {},
   "outputs": [
    {
     "data": {
      "text/html": [
       "<div>\n",
       "<style scoped>\n",
       "    .dataframe tbody tr th:only-of-type {\n",
       "        vertical-align: middle;\n",
       "    }\n",
       "\n",
       "    .dataframe tbody tr th {\n",
       "        vertical-align: top;\n",
       "    }\n",
       "\n",
       "    .dataframe thead th {\n",
       "        text-align: right;\n",
       "    }\n",
       "</style>\n",
       "<table border=\"1\" class=\"dataframe\">\n",
       "  <thead>\n",
       "    <tr style=\"text-align: right;\">\n",
       "      <th></th>\n",
       "      <th>Time</th>\n",
       "      <th>E_Plug</th>\n",
       "      <th>E_Heat</th>\n",
       "      <th>Temp</th>\n",
       "    </tr>\n",
       "  </thead>\n",
       "  <tbody>\n",
       "    <tr>\n",
       "      <th>Time</th>\n",
       "      <td>50.000000</td>\n",
       "      <td>88.535573</td>\n",
       "      <td>-0.500000</td>\n",
       "      <td>8.217391</td>\n",
       "    </tr>\n",
       "    <tr>\n",
       "      <th>E_Plug</th>\n",
       "      <td>88.535573</td>\n",
       "      <td>455.260870</td>\n",
       "      <td>25.833992</td>\n",
       "      <td>0.154150</td>\n",
       "    </tr>\n",
       "    <tr>\n",
       "      <th>E_Heat</th>\n",
       "      <td>-0.500000</td>\n",
       "      <td>25.833992</td>\n",
       "      <td>47.346014</td>\n",
       "      <td>-51.206522</td>\n",
       "    </tr>\n",
       "    <tr>\n",
       "      <th>Temp</th>\n",
       "      <td>8.217391</td>\n",
       "      <td>0.154150</td>\n",
       "      <td>-51.206522</td>\n",
       "      <td>63.500000</td>\n",
       "    </tr>\n",
       "  </tbody>\n",
       "</table>\n",
       "</div>"
      ],
      "text/plain": [
       "             Time      E_Plug     E_Heat       Temp\n",
       "Time    50.000000   88.535573  -0.500000   8.217391\n",
       "E_Plug  88.535573  455.260870  25.833992   0.154150\n",
       "E_Heat  -0.500000   25.833992  47.346014 -51.206522\n",
       "Temp     8.217391    0.154150 -51.206522  63.500000"
      ]
     },
     "execution_count": 19,
     "metadata": {},
     "output_type": "execute_result"
    }
   ],
   "source": [
    "Data_Set6.cov()"
   ]
  },
  {
   "cell_type": "code",
   "execution_count": 20,
   "metadata": {},
   "outputs": [],
   "source": [
    "import seaborn as sn"
   ]
  },
  {
   "cell_type": "code",
   "execution_count": 21,
   "metadata": {},
   "outputs": [
    {
     "data": {
      "text/plain": [
       "<AxesSubplot:>"
      ]
     },
     "execution_count": 21,
     "metadata": {},
     "output_type": "execute_result"
    },
    {
     "data": {
      "image/png": "[encoded data removed]",
      "text/plain": [
       "<Figure size 432x288 with 2 Axes>"
      ]
     },
     "metadata": {
      "needs_background": "light"
     },
     "output_type": "display_data"
    }
   ],
   "source": [
    "sn.heatmap(Data_Set6.corr())"
   ]
  },
  {
   "cell_type": "markdown",
   "metadata": {},
   "source": [
    "# Missing value: NaN and Null values"
   ]
  },
  {
   "cell_type": "code",
   "execution_count": 24,
   "metadata": {},
   "outputs": [
    {
     "name": "stdout",
     "output_type": "stream",
     "text": [
      "<class 'pandas.core.frame.DataFrame'>\n",
      "RangeIndex: 24 entries, 0 to 23\n",
      "Data columns (total 5 columns):\n",
      " #   Column  Non-Null Count  Dtype  \n",
      "---  ------  --------------  -----  \n",
      " 0   Time    24 non-null     int64  \n",
      " 1   E_Plug  23 non-null     float64\n",
      " 2   E_Heat  24 non-null     int64  \n",
      " 3   Price   24 non-null     object \n",
      " 4   Temp    24 non-null     int64  \n",
      "dtypes: float64(1), int64(3), object(1)\n",
      "memory usage: 1.1+ KB\n"
     ]
    }
   ],
   "source": [
    "Data_Set6.info()"
   ]
  },
  {
   "cell_type": "code",
   "execution_count": 25,
   "metadata": {},
   "outputs": [],
   "source": [
    "import numpy as np"
   ]
  },
  {
   "cell_type": "code",
   "execution_count": 26,
   "metadata": {},
   "outputs": [],
   "source": [
    "Data_Set7 = Data_Set6.replace(\"!\", np.NaN)"
   ]
  },
  {
   "cell_type": "code",
   "execution_count": 27,
   "metadata": {},
   "outputs": [
    {
     "name": "stdout",
     "output_type": "stream",
     "text": [
      "<class 'pandas.core.frame.DataFrame'>\n",
      "RangeIndex: 24 entries, 0 to 23\n",
      "Data columns (total 5 columns):\n",
      " #   Column  Non-Null Count  Dtype  \n",
      "---  ------  --------------  -----  \n",
      " 0   Time    24 non-null     int64  \n",
      " 1   E_Plug  23 non-null     float64\n",
      " 2   E_Heat  24 non-null     int64  \n",
      " 3   Price   23 non-null     object \n",
      " 4   Temp    24 non-null     int64  \n",
      "dtypes: float64(1), int64(3), object(1)\n",
      "memory usage: 1.1+ KB\n"
     ]
    }
   ],
   "source": [
    "Data_Set7.info()"
   ]
  },
  {
   "cell_type": "code",
   "execution_count": 28,
   "metadata": {},
   "outputs": [],
   "source": [
    "Data_Set7 = Data_Set7.apply(pd.to_numeric)"
   ]
  },
  {
   "cell_type": "code",
   "execution_count": null,
   "metadata": {},
   "outputs": [],
   "source": []
  }
 ],
 "metadata": {
  "interpreter": {
   "hash": "31f2aee4e71d21fbe5cf8b01ff0e069b9275f58929596ceb00d14d90e3e16cd6"
  },
  "kernelspec": {
   "display_name": "Python 3.8.10 64-bit",
   "name": "python3"
  },
  "language_info": {
   "codemirror_mode": {
    "name": "ipython",
    "version": 3
   },
   "file_extension": ".py",
   "mimetype": "text/x-python",
   "name": "python",
   "nbconvert_exporter": "python",
   "pygments_lexer": "ipython3",
   "version": "3.8.10"
  },
  "orig_nbformat": 4
 },
 "nbformat": 4,
 "nbformat_minor": 2
}