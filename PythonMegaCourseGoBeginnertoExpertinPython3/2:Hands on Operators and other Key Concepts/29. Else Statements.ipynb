{
 "metadata": {
  "language_info": {
   "codemirror_mode": {
    "name": "ipython",
    "version": 3
   },
   "file_extension": ".py",
   "mimetype": "text/x-python",
   "name": "python",
   "nbconvert_exporter": "python",
   "pygments_lexer": "ipython3",
   "version": "3.8.5"
  },
  "orig_nbformat": 4,
  "kernelspec": {
   "name": "python3",
   "display_name": "Python 3.8.5 64-bit"
  },
  "interpreter": {
   "hash": "31f2aee4e71d21fbe5cf8b01ff0e069b9275f58929596ceb00d14d90e3e16cd6"
  }
 },
 "nbformat": 4,
 "nbformat_minor": 2,
 "cells": [
  {
   "cell_type": "code",
   "execution_count": 3,
   "metadata": {},
   "outputs": [
    {
     "output_type": "stream",
     "name": "stdout",
     "text": [
      "B is greater than A\n"
     ]
    }
   ],
   "source": [
    "a = 10\n",
    "b = 15\n",
    "if b > a:\n",
    "    print(\"B is greater than A\")\n",
    "else:\n",
    "    print(\"A is greater than B\")"
   ]
  },
  {
   "cell_type": "code",
   "execution_count": 7,
   "metadata": {},
   "outputs": [
    {
     "output_type": "stream",
     "name": "stdout",
     "text": [
      "5% discount \namount payable:  28.5\n"
     ]
    }
   ],
   "source": [
    "price =2\n",
    "qty = 15\n",
    "amount = price * qty\n",
    "if amount > 100:\n",
    "    print(\"Amount: \", amount)\n",
    "    print(\"15% of discount on that\")\n",
    "    discount = amount*15/100\n",
    "    amount =amount-discount\n",
    "    print(\"amount payble: \", amount)\n",
    "else:\n",
    "    print(\"5% discount \")\n",
    "    discount=amount*5/100\n",
    "    amount=amount-discount\n",
    "    print(\"amount payable: \", amount)\n"
   ]
  }
 ]
}