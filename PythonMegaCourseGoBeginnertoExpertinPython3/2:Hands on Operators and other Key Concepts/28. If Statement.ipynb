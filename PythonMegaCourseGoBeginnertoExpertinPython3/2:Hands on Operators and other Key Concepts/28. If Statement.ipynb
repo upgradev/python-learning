{
 "metadata": {
  "language_info": {
   "codemirror_mode": {
    "name": "ipython",
    "version": 3
   },
   "file_extension": ".py",
   "mimetype": "text/x-python",
   "name": "python",
   "nbconvert_exporter": "python",
   "pygments_lexer": "ipython3",
   "version": "3.8.5"
  },
  "orig_nbformat": 4,
  "kernelspec": {
   "name": "python3",
   "display_name": "Python 3.8.5 64-bit"
  },
  "interpreter": {
   "hash": "31f2aee4e71d21fbe5cf8b01ff0e069b9275f58929596ceb00d14d90e3e16cd6"
  }
 },
 "nbformat": 4,
 "nbformat_minor": 2,
 "cells": [
  {
   "cell_type": "code",
   "execution_count": 3,
   "metadata": {},
   "outputs": [
    {
     "output_type": "stream",
     "name": "stdout",
     "text": [
      "You are not able to registor an account\n"
     ]
    }
   ],
   "source": [
    "age = 14\n",
    "if age < 16:\n",
    "    print(\"You are not able to registor an account\")\n"
   ]
  },
  {
   "cell_type": "code",
   "execution_count": 6,
   "metadata": {},
   "outputs": [
    {
     "output_type": "stream",
     "name": "stdout",
     "text": [
      "Amount:  300\n15% of discount on that\namount payble:  255.0\n"
     ]
    }
   ],
   "source": [
    "price =20\n",
    "qty = 15\n",
    "amount = price * qty\n",
    "if amount > 100:\n",
    "    print(\"Amount: \", amount)\n",
    "    print(\"15% of discount on that\")\n",
    "    discount = amount*15/100\n",
    "    amount =amount-discount\n",
    "    print(\"amount payble: \", amount)"
   ]
  },
  {
   "cell_type": "code",
   "execution_count": 7,
   "metadata": {},
   "outputs": [
    {
     "output_type": "stream",
     "name": "stdout",
     "text": [
      "Hi python\n"
     ]
    }
   ],
   "source": [
    "var1=None\n",
    "if True:\n",
    "    var1=\"Hi python\"\n",
    "print(var1)\n"
   ]
  }
 ]
}