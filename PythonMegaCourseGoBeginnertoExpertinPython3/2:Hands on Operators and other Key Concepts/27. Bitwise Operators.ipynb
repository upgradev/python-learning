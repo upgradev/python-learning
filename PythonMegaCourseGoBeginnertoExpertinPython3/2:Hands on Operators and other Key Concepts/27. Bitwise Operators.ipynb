{
 "metadata": {
  "language_info": {
   "codemirror_mode": {
    "name": "ipython",
    "version": 3
   },
   "file_extension": ".py",
   "mimetype": "text/x-python",
   "name": "python",
   "nbconvert_exporter": "python",
   "pygments_lexer": "ipython3",
   "version": "3.8.5"
  },
  "orig_nbformat": 4,
  "kernelspec": {
   "name": "python3",
   "display_name": "Python 3.8.5 64-bit"
  },
  "interpreter": {
   "hash": "31f2aee4e71d21fbe5cf8b01ff0e069b9275f58929596ceb00d14d90e3e16cd6"
  }
 },
 "nbformat": 4,
 "nbformat_minor": 2,
 "cells": [
  {
   "cell_type": "code",
   "execution_count": 6,
   "metadata": {},
   "outputs": [
    {
     "output_type": "stream",
     "name": "stdout",
     "text": [
      "4\n5\n-5\n2\n"
     ]
    }
   ],
   "source": [
    "print(4&5)\n",
    "print(4|5)\n",
    "print(~4)\n",
    "print(4^6)\n"
   ]
  },
  {
   "cell_type": "code",
   "execution_count": 11,
   "metadata": {},
   "outputs": [
    {
     "output_type": "stream",
     "name": "stdout",
     "text": [
      "This and bitwise operator  8\nThis is Or bitwise operator  11\n40\n2\n"
     ]
    }
   ],
   "source": [
    "a = 10\n",
    "b = 9\n",
    "c=0\n",
    "c=a&b\n",
    "print(\"This and bitwise operator \", c)\n",
    "c=a|b\n",
    "print(\"This is Or bitwise operator \", c)\n",
    "c=a<<2\n",
    "print(c)\n",
    "c=a>>2\n",
    "print(c)\n"
   ]
  },
  {
   "cell_type": "code",
   "execution_count": 12,
   "metadata": {},
   "outputs": [
    {
     "output_type": "stream",
     "name": "stdout",
     "text": [
      "True\nFalse\nTrue\nFalse\nTrue\nTrue\n"
     ]
    }
   ],
   "source": []
  }
 ]
}