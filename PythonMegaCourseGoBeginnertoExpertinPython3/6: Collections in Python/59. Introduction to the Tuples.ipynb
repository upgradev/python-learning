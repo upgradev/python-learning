{
 "cells": [
  {
   "cell_type": "code",
   "execution_count": 2,
   "metadata": {},
   "outputs": [
    {
     "name": "stdout",
     "output_type": "stream",
     "text": [
      "()\n",
      "(1, 2, 3, 4, 5, 6)\n",
      "('python', 'java', 'php')\n",
      "(10, 20, 'python', 'java', 'php')\n"
     ]
    }
   ],
   "source": [
    "tuple=()\n",
    "tuple2=(1,2,3,4,5,6)\n",
    "tuple3=(\"python\", \"java\", \"php\")\n",
    "tuple4=(10, 20,\"python\", \"java\", \"php\")\n",
    "print(tuple)\n",
    "print(tuple2)\n",
    "print(tuple3)\n",
    "print(tuple4)"
   ]
  }
 ],
 "metadata": {
  "interpreter": {
   "hash": "31f2aee4e71d21fbe5cf8b01ff0e069b9275f58929596ceb00d14d90e3e16cd6"
  },
  "kernelspec": {
   "display_name": "Python 3.9.2 64-bit",
   "name": "python3"
  },
  "language_info": {
   "codemirror_mode": {
    "name": "ipython",
    "version": 3
   },
   "file_extension": ".py",
   "mimetype": "text/x-python",
   "name": "python",
   "nbconvert_exporter": "python",
   "pygments_lexer": "ipython3",
   "version": "3.9.2"
  },
  "orig_nbformat": 4
 },
 "nbformat": 4,
 "nbformat_minor": 2
}