{
 "cells": [
  {
   "cell_type": "code",
   "execution_count": 4,
   "metadata": {},
   "outputs": [
    {
     "name": "stdout",
     "output_type": "stream",
     "text": [
      "bmw : 2012 \n",
      "ford : 2019 \n",
      "honda : 2015 \n",
      "toyota : 2018 \n",
      "_________________________\n",
      "bmw 2012\n",
      "honda 2015\n",
      "toyota 2018\n",
      "ford 2019\n"
     ]
    }
   ],
   "source": [
    "dict ={\n",
    "    \"bmw\": \"2020\", \n",
    "    \"ford\": \"2019\",\n",
    "    \"toyota\": \"2018\",\n",
    "    \"bmw\": \"2012\",\n",
    "    \"honda\": \"2015\",\n",
    "}\n",
    "\n",
    "for key in sorted(dict):\n",
    "    print(\"%s : %s \" %(key, dict[key]))\n",
    "print(\"_________________________\")\n",
    "for key1 in sorted(dict, key=dict.get):\n",
    "    print(key1, dict[key1])\n"
   ]
  }
 ],
 "metadata": {
  "interpreter": {
   "hash": "31f2aee4e71d21fbe5cf8b01ff0e069b9275f58929596ceb00d14d90e3e16cd6"
  },
  "kernelspec": {
   "display_name": "Python 3.9.2 64-bit",
   "name": "python3"
  },
  "language_info": {
   "codemirror_mode": {
    "name": "ipython",
    "version": 3
   },
   "file_extension": ".py",
   "mimetype": "text/x-python",
   "name": "python",
   "nbconvert_exporter": "python",
   "pygments_lexer": "ipython3",
   "version": "3.9.2"
  },
  "orig_nbformat": 4
 },
 "nbformat": 4,
 "nbformat_minor": 2
}