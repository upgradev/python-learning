{
 "cells": [
  {
   "cell_type": "code",
   "execution_count": 3,
   "metadata": {},
   "outputs": [
    {
     "name": "stdout",
     "output_type": "stream",
     "text": [
      "['php', 'C']\n",
      "['python']\n",
      "['java', 'C++', 'ruby']\n"
     ]
    }
   ],
   "source": [
    "listTest = [[\"php\", \"C\"], [\"python\"], [\"java\", \"C++\",\"ruby\"]]\n",
    "for a in listTest:\n",
    "    print(a)"
   ]
  },
  {
   "cell_type": "code",
   "execution_count": 4,
   "metadata": {},
   "outputs": [
    {
     "name": "stdout",
     "output_type": "stream",
     "text": [
      "__________\n",
      "php\n",
      "C\n",
      "__________\n",
      "python\n",
      "__________\n",
      "java\n",
      "C++\n",
      "ruby\n"
     ]
    }
   ],
   "source": [
    "for b in listTest:\n",
    "    print(\"__________\")\n",
    "    for a in b:\n",
    "        print(a)"
   ]
  }
 ],
 "metadata": {
  "interpreter": {
   "hash": "31f2aee4e71d21fbe5cf8b01ff0e069b9275f58929596ceb00d14d90e3e16cd6"
  },
  "kernelspec": {
   "display_name": "Python 3.9.2 64-bit",
   "name": "python3"
  },
  "language_info": {
   "codemirror_mode": {
    "name": "ipython",
    "version": 3
   },
   "file_extension": ".py",
   "mimetype": "text/x-python",
   "name": "python",
   "nbconvert_exporter": "python",
   "pygments_lexer": "ipython3",
   "version": "3.9.2"
  },
  "orig_nbformat": 4
 },
 "nbformat": 4,
 "nbformat_minor": 2
}