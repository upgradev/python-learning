{
 "cells": [
  {
   "cell_type": "code",
   "execution_count": 18,
   "metadata": {},
   "outputs": [],
   "source": [
    "from binarytree import Node\n",
    "from binarytree import build"
   ]
  },
  {
   "cell_type": "code",
   "execution_count": 19,
   "metadata": {},
   "outputs": [
    {
     "name": "stdout",
     "output_type": "stream",
     "text": [
      "Binary three:  \n",
      "  3\n",
      " / \\\n",
      "5   4\n",
      "\n"
     ]
    }
   ],
   "source": [
    "root = Node(3)\n",
    "root.left=Node(5)\n",
    "root.right = Node(9)\n",
    "root.right = Node(4)\n",
    "\n",
    "\n",
    "print('Binary three: ', root)"
   ]
  },
  {
   "cell_type": "code",
   "execution_count": 20,
   "metadata": {},
   "outputs": [
    {
     "name": "stdout",
     "output_type": "stream",
     "text": [
      "list:  [Node(3), Node(5), Node(4)]\n"
     ]
    }
   ],
   "source": [
    "print(\"list: \", list(root))"
   ]
  },
  {
   "cell_type": "code",
   "execution_count": 21,
   "metadata": {},
   "outputs": [
    {
     "name": "stdout",
     "output_type": "stream",
     "text": [
      "inorder of nodes:  [Node(5), Node(3), Node(4)]\n"
     ]
    }
   ],
   "source": [
    "print(\"inorder of nodes: \", root.inorder)"
   ]
  },
  {
   "cell_type": "code",
   "execution_count": 22,
   "metadata": {},
   "outputs": [
    {
     "name": "stdout",
     "output_type": "stream",
     "text": [
      "size of three:  3\n"
     ]
    }
   ],
   "source": [
    "print(\"size of three: \", root.size)"
   ]
  },
  {
   "cell_type": "code",
   "execution_count": 23,
   "metadata": {},
   "outputs": [
    {
     "name": "stdout",
     "output_type": "stream",
     "text": [
      "height of three:  1\n"
     ]
    }
   ],
   "source": [
    "print(\"height of three: \", root.height)"
   ]
  },
  {
   "cell_type": "code",
   "execution_count": 24,
   "metadata": {},
   "outputs": [
    {
     "name": "stdout",
     "output_type": "stream",
     "text": [
      "binary tree:  \n",
      "       __1__\n",
      "      /     \\\n",
      "     2       4\n",
      "    / \\     / \\\n",
      "  _5   6   8   9\n",
      " /\n",
      "77\n",
      "\n"
     ]
    }
   ],
   "source": [
    "nodes = {1,2,4,5,6,8,9,77}\n",
    "binary =build(nodes)\n",
    "print(\"binary tree: \", binary)"
   ]
  },
  {
   "cell_type": "code",
   "execution_count": 25,
   "metadata": {},
   "outputs": [
    {
     "name": "stdout",
     "output_type": "stream",
     "text": [
      "\n",
      " list of binary tree:  [1, 2, 4, 5, 6, 8, 9, 77]\n"
     ]
    }
   ],
   "source": [
    "print(\"\\n list of binary tree: \", binary.values)"
   ]
  },
  {
   "cell_type": "code",
   "execution_count": 27,
   "metadata": {},
   "outputs": [
    {
     "name": "stdout",
     "output_type": "stream",
     "text": [
      "lis  [Node(1), Node(2), Node(4), Node(5), Node(6), Node(8), Node(9), Node(77)]\n",
      "inorder  [Node(77), Node(5), Node(2), Node(6), Node(1), Node(8), Node(4), Node(9)]\n",
      "size  8\n",
      "height  3\n"
     ]
    }
   ],
   "source": [
    "print(\"lis \", list(binary))\n",
    "print(\"inorder \", binary.inorder)\n",
    "print(\"size \", binary.size)\n",
    "print(\"height \", binary.height)"
   ]
  }
 ],
 "metadata": {
  "interpreter": {
   "hash": "31f2aee4e71d21fbe5cf8b01ff0e069b9275f58929596ceb00d14d90e3e16cd6"
  },
  "kernelspec": {
   "display_name": "Python 3.9.2 64-bit",
   "name": "python3"
  },
  "language_info": {
   "codemirror_mode": {
    "name": "ipython",
    "version": 3
   },
   "file_extension": ".py",
   "mimetype": "text/x-python",
   "name": "python",
   "nbconvert_exporter": "python",
   "pygments_lexer": "ipython3",
   "version": "3.9.2"
  },
  "orig_nbformat": 4
 },
 "nbformat": 4,
 "nbformat_minor": 2
}