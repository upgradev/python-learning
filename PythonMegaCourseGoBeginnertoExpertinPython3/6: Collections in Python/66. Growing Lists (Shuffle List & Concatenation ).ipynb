{
 "cells": [
  {
   "cell_type": "code",
   "execution_count": 5,
   "metadata": {},
   "outputs": [
    {
     "name": "stdout",
     "output_type": "stream",
     "text": [
      "['python', 'php', ' java', 'c++']\n",
      "['php', 'python', 'c++', ' java']\n"
     ]
    },
    {
     "name": "stderr",
     "output_type": "stream",
     "text": [
      "/tmp/ipykernel_4827/2254375401.py:4: DeprecationWarning: The *random* parameter to shuffle() has been deprecated\n",
      "since Python 3.9 and will be removed in a subsequent version.\n",
      "  random.shuffle(listTest, random.random)\n"
     ]
    }
   ],
   "source": [
    "import random\n",
    "listTest=[\"python\",\"php\",\" java\", \"c++\"]\n",
    "print(listTest)\n",
    "random.shuffle(listTest, random.random)\n",
    "print(listTest)"
   ]
  },
  {
   "cell_type": "code",
   "execution_count": 7,
   "metadata": {},
   "outputs": [
    {
     "name": "stdout",
     "output_type": "stream",
     "text": [
      "['canada', 'USA', 'UK', 'China', 'Brazil', 'Germany']\n"
     ]
    }
   ],
   "source": [
    "list2=[\"canada\", \"USA\", \"UK\", \"China\"]\n",
    "list3=[\"Brazil\", \"Germany\"]\n",
    "list4=list2+list3\n",
    "mergedlist = []\n",
    "mergedlist.extend(list2)\n",
    "mergedlist.extend(list3)\n",
    "print(mergedlist)"
   ]
  }
 ],
 "metadata": {
  "interpreter": {
   "hash": "31f2aee4e71d21fbe5cf8b01ff0e069b9275f58929596ceb00d14d90e3e16cd6"
  },
  "kernelspec": {
   "display_name": "Python 3.9.2 64-bit",
   "name": "python3"
  },
  "language_info": {
   "codemirror_mode": {
    "name": "ipython",
    "version": 3
   },
   "file_extension": ".py",
   "mimetype": "text/x-python",
   "name": "python",
   "nbconvert_exporter": "python",
   "pygments_lexer": "ipython3",
   "version": "3.9.2"
  },
  "orig_nbformat": 4
 },
 "nbformat": 4,
 "nbformat_minor": 2
}