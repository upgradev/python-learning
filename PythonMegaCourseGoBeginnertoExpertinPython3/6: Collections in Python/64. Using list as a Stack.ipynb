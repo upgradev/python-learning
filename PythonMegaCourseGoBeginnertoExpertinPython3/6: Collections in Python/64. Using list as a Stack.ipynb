{
 "cells": [
  {
   "cell_type": "code",
   "execution_count": 8,
   "metadata": {},
   "outputs": [
    {
     "name": "stdout",
     "output_type": "stream",
     "text": [
      "['python', 'php', 'java', 'ruby', 'c++']\n",
      "c++\n",
      "['python', 'php', 'java', 'ruby']\n",
      "ruby\n",
      "['python', 'php', 'java']\n"
     ]
    }
   ],
   "source": [
    "stack=[\"python\", \"php\", \"java\"]\n",
    "stack.append(\"ruby\")\n",
    "stack.append(\"c++\")\n",
    "print(stack)\n",
    "print(stack.pop())\n",
    "print(stack)\n",
    "print(stack.pop())\n",
    "print(stack)"
   ]
  }
 ],
 "metadata": {
  "interpreter": {
   "hash": "31f2aee4e71d21fbe5cf8b01ff0e069b9275f58929596ceb00d14d90e3e16cd6"
  },
  "kernelspec": {
   "display_name": "Python 3.9.2 64-bit",
   "name": "python3"
  },
  "language_info": {
   "codemirror_mode": {
    "name": "ipython",
    "version": 3
   },
   "file_extension": ".py",
   "mimetype": "text/x-python",
   "name": "python",
   "nbconvert_exporter": "python",
   "pygments_lexer": "ipython3",
   "version": "3.9.2"
  },
  "orig_nbformat": 4
 },
 "nbformat": 4,
 "nbformat_minor": 2
}