{
 "cells": [
  {
   "cell_type": "code",
   "execution_count": 3,
   "metadata": {},
   "outputs": [
    {
     "name": "stdout",
     "output_type": "stream",
     "text": [
      "Books\n",
      "Author\n",
      "Students\n",
      "Staff\n"
     ]
    }
   ],
   "source": [
    "def LMS():\n",
    "    print(\"Books\")\n",
    "    print(\"Author\")\n",
    "    print(\"Students\")\n",
    "    print(\"Staff\")\n",
    "\n",
    "LMS()"
   ]
  },
  {
   "cell_type": "code",
   "execution_count": 5,
   "metadata": {},
   "outputs": [
    {
     "name": "stdout",
     "output_type": "stream",
     "text": [
      "Avarage of  3  and  5  is  4.0\n"
     ]
    }
   ],
   "source": [
    "def avg():\n",
    "    x = 3\n",
    "    y = 5\n",
    "    print(\"Avarage of \", x, \" and \", y , \" is \", (x + y)/2)\n",
    "\n",
    "avg()"
   ]
  }
 ],
 "metadata": {
  "interpreter": {
   "hash": "31f2aee4e71d21fbe5cf8b01ff0e069b9275f58929596ceb00d14d90e3e16cd6"
  },
  "kernelspec": {
   "display_name": "Python 3.8.10 64-bit",
   "name": "python3"
  },
  "language_info": {
   "codemirror_mode": {
    "name": "ipython",
    "version": 3
   },
   "file_extension": ".py",
   "mimetype": "text/x-python",
   "name": "python",
   "nbconvert_exporter": "python",
   "pygments_lexer": "ipython3",
   "version": "3.8.10"
  },
  "orig_nbformat": 4
 },
 "nbformat": 4,
 "nbformat_minor": 2
}