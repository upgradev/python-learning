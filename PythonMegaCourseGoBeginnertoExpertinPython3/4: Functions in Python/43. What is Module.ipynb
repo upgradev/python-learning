{
 "cells": [
  {
   "cell_type": "code",
   "execution_count": 1,
   "metadata": {},
   "outputs": [],
   "source": [
    "import math\n"
   ]
  },
  {
   "cell_type": "code",
   "execution_count": 4,
   "metadata": {},
   "outputs": [
    {
     "name": "stdout",
     "output_type": "stream",
     "text": [
      "the value of tangent is:  -0.1425465430742778\n"
     ]
    }
   ],
   "source": [
    "print(\"the value of tangent is: \", math.tan(3))"
   ]
  },
  {
   "cell_type": "code",
   "execution_count": 5,
   "metadata": {},
   "outputs": [
    {
     "name": "stdout",
     "output_type": "stream",
     "text": [
      "Printing current and previous number sum in a range(2)\n",
      "Current Number 0 Previous Number  0  Sum:  0\n",
      "Current Number 1 Previous Number  0  Sum:  1\n",
      "Current Number 2 Previous Number  1  Sum:  3\n",
      "Current Number 3 Previous Number  2  Sum:  5\n",
      "Current Number 4 Previous Number  3  Sum:  7\n",
      "Current Number 5 Previous Number  4  Sum:  9\n",
      "Current Number 6 Previous Number  5  Sum:  11\n",
      "Current Number 7 Previous Number  6  Sum:  13\n",
      "Current Number 8 Previous Number  7  Sum:  15\n",
      "Current Number 9 Previous Number  8  Sum:  17\n",
      "Current Number 10 Previous Number  9  Sum:  19\n",
      "Current Number 11 Previous Number  10  Sum:  21\n",
      "Current Number 12 Previous Number  11  Sum:  23\n",
      "Current Number 13 Previous Number  12  Sum:  25\n",
      "Current Number 14 Previous Number  13  Sum:  27\n",
      "Current Number 15 Previous Number  14  Sum:  29\n",
      "Current Number 16 Previous Number  15  Sum:  31\n",
      "Current Number 17 Previous Number  16  Sum:  33\n",
      "Current Number 18 Previous Number  17  Sum:  35\n",
      "Current Number 19 Previous Number  18  Sum:  37\n"
     ]
    }
   ],
   "source": [
    "def sumNum(num):\n",
    "    previousNum = 0\n",
    "    for i in range(num):\n",
    "        sum = previousNum + i\n",
    "        print(\"Current Number\", i, \"Previous Number \", previousNum,\" Sum: \", sum)\n",
    "        previousNum = i\n",
    "\n",
    "print(\"Printing current and previous number sum in a range(2)\")\n",
    "sumNum(20)"
   ]
  },
  {
   "cell_type": "code",
   "execution_count": 10,
   "metadata": {},
   "outputs": [
    {
     "name": "stdout",
     "output_type": "stream",
     "text": [
      "Employee bob salary is: 50\n",
      "Employee ana salary is: 2000\n"
     ]
    }
   ],
   "source": [
    "def showEmployee(name, salary=2000):\n",
    "    print(\"Employee\", name, \"salary is:\", salary)\n",
    "showEmployee(\"bob\", 50)\n",
    "showEmployee(\"ana\")"
   ]
  }
 ],
 "metadata": {
  "interpreter": {
   "hash": "31f2aee4e71d21fbe5cf8b01ff0e069b9275f58929596ceb00d14d90e3e16cd6"
  },
  "kernelspec": {
   "display_name": "Python 3.9.2 64-bit",
   "name": "python3"
  },
  "language_info": {
   "codemirror_mode": {
    "name": "ipython",
    "version": 3
   },
   "file_extension": ".py",
   "mimetype": "text/x-python",
   "name": "python",
   "nbconvert_exporter": "python",
   "pygments_lexer": "ipython3",
   "version": "3.9.2"
  },
  "orig_nbformat": 4
 },
 "nbformat": 4,
 "nbformat_minor": 2
}