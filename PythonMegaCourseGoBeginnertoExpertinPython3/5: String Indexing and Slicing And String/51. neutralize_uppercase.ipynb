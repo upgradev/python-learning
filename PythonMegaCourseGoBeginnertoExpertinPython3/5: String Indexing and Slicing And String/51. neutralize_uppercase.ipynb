{
 "cells": [
  {
   "cell_type": "code",
   "execution_count": 4,
   "metadata": {},
   "outputs": [
    {
     "name": "stdout",
     "output_type": "stream",
     "text": [
      "Python\n",
      "PYTHON\n"
     ]
    }
   ],
   "source": [
    "def upper1(str):\n",
    "    uppervar = 0\n",
    "    for i in str:\n",
    "        if i.upper() == i:\n",
    "            uppervar+=1\n",
    "    if uppervar>=2:\n",
    "        return str.upper()\n",
    "    return str\n",
    "\n",
    "print(upper1(\"Python\"))\n",
    "print(upper1(\"PyThon\"))\n"
   ]
  },
  {
   "cell_type": "code",
   "execution_count": 5,
   "metadata": {},
   "outputs": [
    {
     "name": "stdout",
     "output_type": "stream",
     "text": [
      "Python code\n"
     ]
    }
   ],
   "source": [
    "var2 = \"python code\"\n",
    "print(var2.capitalize())"
   ]
  },
  {
   "cell_type": "code",
   "execution_count": 7,
   "metadata": {},
   "outputs": [
    {
     "name": "stdout",
     "output_type": "stream",
     "text": [
      "Python\n",
      "Code\n"
     ]
    }
   ],
   "source": [
    "name=\"python\"\n",
    "name2=\"code\"\n",
    "print(name.capitalize())\n",
    "print(name2.capitalize())"
   ]
  },
  {
   "cell_type": "code",
   "execution_count": null,
   "metadata": {},
   "outputs": [],
   "source": []
  }
 ],
 "metadata": {
  "interpreter": {
   "hash": "31f2aee4e71d21fbe5cf8b01ff0e069b9275f58929596ceb00d14d90e3e16cd6"
  },
  "kernelspec": {
   "display_name": "Python 3.9.2 64-bit",
   "name": "python3"
  },
  "language_info": {
   "codemirror_mode": {
    "name": "ipython",
    "version": 3
   },
   "file_extension": ".py",
   "mimetype": "text/x-python",
   "name": "python",
   "nbconvert_exporter": "python",
   "pygments_lexer": "ipython3",
   "version": "3.9.2"
  },
  "orig_nbformat": 4
 },
 "nbformat": 4,
 "nbformat_minor": 2
}