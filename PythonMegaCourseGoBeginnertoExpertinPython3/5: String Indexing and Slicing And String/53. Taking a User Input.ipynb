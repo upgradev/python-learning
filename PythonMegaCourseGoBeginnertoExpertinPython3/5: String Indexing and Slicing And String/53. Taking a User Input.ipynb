{
 "cells": [
  {
   "cell_type": "code",
   "execution_count": 2,
   "metadata": {},
   "outputs": [
    {
     "name": "stdout",
     "output_type": "stream",
     "text": [
      "Enter your name\n",
      "hello claudia\n"
     ]
    }
   ],
   "source": [
    "print(\"Enter your name\")\n",
    "i=input()\n",
    "print(f\"hello {i}\")"
   ]
  },
  {
   "cell_type": "code",
   "execution_count": 6,
   "metadata": {},
   "outputs": [
    {
     "name": "stdout",
     "output_type": "stream",
     "text": [
      "Enter number\n",
      "2\n",
      "5\n"
     ]
    }
   ],
   "source": [
    "print(\"Enter number\") #this will be your first output result where you will add your number\n",
    "number = int(input()) #Python has an input function which lets you ask a user for some text input. You call this function to tell the program to stop and wait for the user to key in the data.\n",
    "i = 2 #we take 1=2 because you always start factorial from 2\n",
    "while i <= number: #while loop i<=number because if number is best then 2 the loop will execute if not loop terminated\n",
    "  #Checking if prime or not \n",
    "  j = 2    \n",
    "  count = 0 #the counting strat from 0\n",
    "  while j <= i: #if j=2 or > 2 so count will start like 1+1=2 2+1=3 \n",
    "    if i%j == 0:\n",
    "      count = count+1\n",
    "    j = j+1\n",
    "  #if count > 1 then it is not prime\n",
    "  #if prime and factor(number%i==0) then it is prime factor\n",
    "  if count <= 1 and number%i == 0:\n",
    "    print(i)\n",
    "  i = i+1"
   ]
  },
  {
   "cell_type": "code",
   "execution_count": 7,
   "metadata": {},
   "outputs": [
    {
     "name": "stdout",
     "output_type": "stream",
     "text": [
      "Reverse of the number is: 2\n"
     ]
    }
   ],
   "source": [
    "number=int(input(\"Enter number to reverse: \")) #taking the user input User must first enter the value and store it in a variable number.\n",
    "reverse=0 #define is initial value \n",
    "while(number>0): #use while loop no number take less then.The while loop is used and the last digit of the number is obtained by using the modulus operator.\n",
    "    dig=number%10  #The last digit is then stored at the one’s place, second last at the ten’s place and so on.\n",
    "    reverse=reverse*10+dig #The last digit is then removed by truly dividing the number with 10.\n",
    "    number=number//10# afterThis loop terminates when the value of the number is 0.\n",
    "print(\"Reverse of the number is:\",reverse) # The reverse of the number is then printed."
   ]
  }
 ],
 "metadata": {
  "interpreter": {
   "hash": "31f2aee4e71d21fbe5cf8b01ff0e069b9275f58929596ceb00d14d90e3e16cd6"
  },
  "kernelspec": {
   "display_name": "Python 3.9.2 64-bit",
   "name": "python3"
  },
  "language_info": {
   "codemirror_mode": {
    "name": "ipython",
    "version": 3
   },
   "file_extension": ".py",
   "mimetype": "text/x-python",
   "name": "python",
   "nbconvert_exporter": "python",
   "pygments_lexer": "ipython3",
   "version": "3.9.2"
  },
  "orig_nbformat": 4
 },
 "nbformat": 4,
 "nbformat_minor": 2
}