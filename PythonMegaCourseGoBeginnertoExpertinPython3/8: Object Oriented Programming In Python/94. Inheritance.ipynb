{
 "cells": [
  {
   "cell_type": "code",
   "execution_count": 1,
   "metadata": {},
   "outputs": [
    {
     "name": "stdout",
     "output_type": "stream",
     "text": [
      "Bob\n",
      "David\n"
     ]
    }
   ],
   "source": [
    "# parent class\n",
    "class parent:\n",
    "    parentname = \"\"\n",
    "    childname = \"\"\n",
    "    def show_parent(self):\n",
    "        print(self.parentname)\n",
    "\n",
    "# this is  child class which is inherites from parent\n",
    "class child(parent):\n",
    "    def show_child(self):\n",
    "        print(self.childname)\n",
    "#this object of child class\n",
    "c = child()\n",
    "c.parentname = \"Bob\"\n",
    "c.childname = \"David\"\n",
    "c.show_parent()\n",
    "c.show_child()"
   ]
  },
  {
   "cell_type": "code",
   "execution_count": 4,
   "metadata": {},
   "outputs": [
    {
     "name": "stdout",
     "output_type": "stream",
     "text": [
      "sportcar\n",
      "2015\n",
      "This is sport car\n"
     ]
    }
   ],
   "source": [
    "class car:\n",
    "    def __init__(self, name=\"ford\", model=2015) -> None:\n",
    "        self.name = name\n",
    "        self.model = model\n",
    "\n",
    "    def sport(self):\n",
    "        print(\"This is sport car\")\n",
    "\n",
    "\n",
    "class sportcar(car):\n",
    "    pass\n",
    "\n",
    "c = sportcar(\"sportcar\")\n",
    "print(c.name)\n",
    "print(c.model)\n",
    "c.sport()\n"
   ]
  },
  {
   "cell_type": "code",
   "execution_count": null,
   "metadata": {},
   "outputs": [],
   "source": []
  }
 ],
 "metadata": {
  "interpreter": {
   "hash": "31f2aee4e71d21fbe5cf8b01ff0e069b9275f58929596ceb00d14d90e3e16cd6"
  },
  "kernelspec": {
   "display_name": "Python 3.9.2 64-bit",
   "name": "python3"
  },
  "language_info": {
   "codemirror_mode": {
    "name": "ipython",
    "version": 3
   },
   "file_extension": ".py",
   "mimetype": "text/x-python",
   "name": "python",
   "nbconvert_exporter": "python",
   "pygments_lexer": "ipython3",
   "version": "3.9.2"
  },
  "orig_nbformat": 4
 },
 "nbformat": 4,
 "nbformat_minor": 2
}