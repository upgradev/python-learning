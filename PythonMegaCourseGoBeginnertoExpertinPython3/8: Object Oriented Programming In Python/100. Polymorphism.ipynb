{
 "cells": [
  {
   "cell_type": "code",
   "execution_count": 1,
   "metadata": {},
   "outputs": [
    {
     "name": "stdout",
     "output_type": "stream",
     "text": [
      "Meoow\n",
      "woof\n"
     ]
    }
   ],
   "source": [
    "class animal:\n",
    "    def noise(self):\n",
    "        raise NotImplementedError\n",
    "\n",
    "\n",
    "class cat(animal):\n",
    "    def noise(self):\n",
    "        print(\"Meoow\")\n",
    "\n",
    "\n",
    "class dog(animal):\n",
    "    def noise(self):\n",
    "        print(\"woof\")\n",
    "\n",
    "a = cat()\n",
    "a.noise()\n",
    "a = dog()\n",
    "a.noise()"
   ]
  },
  {
   "cell_type": "code",
   "execution_count": null,
   "metadata": {},
   "outputs": [],
   "source": []
  }
 ],
 "metadata": {
  "interpreter": {
   "hash": "31f2aee4e71d21fbe5cf8b01ff0e069b9275f58929596ceb00d14d90e3e16cd6"
  },
  "kernelspec": {
   "display_name": "Python 3.9.2 64-bit",
   "name": "python3"
  },
  "language_info": {
   "codemirror_mode": {
    "name": "ipython",
    "version": 3
   },
   "file_extension": ".py",
   "mimetype": "text/x-python",
   "name": "python",
   "nbconvert_exporter": "python",
   "pygments_lexer": "ipython3",
   "version": "3.9.2"
  },
  "orig_nbformat": 4
 },
 "nbformat": 4,
 "nbformat_minor": 2
}