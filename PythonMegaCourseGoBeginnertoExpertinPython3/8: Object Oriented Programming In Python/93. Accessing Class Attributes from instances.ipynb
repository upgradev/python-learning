{
 "cells": [
  {
   "cell_type": "code",
   "execution_count": 11,
   "metadata": {},
   "outputs": [
    {
     "name": "stdout",
     "output_type": "stream",
     "text": [
      "Ford\n",
      "True\n",
      "None\n",
      "2015\n",
      "white\n",
      "None\n",
      "Ford 2020 white\n"
     ]
    }
   ],
   "source": [
    "class car:\n",
    "    name = \"Ford\"\n",
    "    color = \"white\"\n",
    "    model = 2020\n",
    "\n",
    "    def display1(self):\n",
    "        print(self.name)\n",
    "        print(self.color)\n",
    "        print(self.model)\n",
    "\n",
    "\n",
    "c = car()\n",
    "print(getattr(c, \"name\"))\n",
    "print(hasattr(c, \"name\"))\n",
    "print(setattr(c, \"model\", 2015))\n",
    "print(c.model)\n",
    "print(getattr(c, \"color\"))\n",
    "print(delattr(c, \"model\"))\n",
    "print(c.name, c.model, c.color)"
   ]
  },
  {
   "cell_type": "code",
   "execution_count": null,
   "metadata": {},
   "outputs": [],
   "source": []
  }
 ],
 "metadata": {
  "interpreter": {
   "hash": "31f2aee4e71d21fbe5cf8b01ff0e069b9275f58929596ceb00d14d90e3e16cd6"
  },
  "kernelspec": {
   "display_name": "Python 3.9.2 64-bit",
   "name": "python3"
  },
  "language_info": {
   "codemirror_mode": {
    "name": "ipython",
    "version": 3
   },
   "file_extension": ".py",
   "mimetype": "text/x-python",
   "name": "python",
   "nbconvert_exporter": "python",
   "pygments_lexer": "ipython3",
   "version": "3.9.2"
  },
  "orig_nbformat": 4
 },
 "nbformat": 4,
 "nbformat_minor": 2
}