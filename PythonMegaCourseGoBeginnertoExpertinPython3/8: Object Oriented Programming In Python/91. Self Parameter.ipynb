{
 "cells": [
  {
   "cell_type": "code",
   "execution_count": 1,
   "metadata": {},
   "outputs": [
    {
     "name": "stdout",
     "output_type": "stream",
     "text": [
      "Car name  ford\n",
      "Car color:  black\n"
     ]
    }
   ],
   "source": [
    "class car:\n",
    "    def __init__(selfcar, name, color):\n",
    "        selfcar.name = name\n",
    "        selfcar.color = color\n",
    "\n",
    "    def detail_car(selfcar):\n",
    "        print(\"Car name \", selfcar.name)\n",
    "        print(\"Car color: \", selfcar.color)\n",
    "\n",
    "\n",
    "c = car(\"ford\", \"black\")\n",
    "c.detail_car()\n"
   ]
  },
  {
   "cell_type": "code",
   "execution_count": null,
   "metadata": {},
   "outputs": [],
   "source": []
  }
 ],
 "metadata": {
  "interpreter": {
   "hash": "31f2aee4e71d21fbe5cf8b01ff0e069b9275f58929596ceb00d14d90e3e16cd6"
  },
  "kernelspec": {
   "display_name": "Python 3.9.2 64-bit",
   "name": "python3"
  },
  "language_info": {
   "codemirror_mode": {
    "name": "ipython",
    "version": 3
   },
   "file_extension": ".py",
   "mimetype": "text/x-python",
   "name": "python",
   "nbconvert_exporter": "python",
   "pygments_lexer": "ipython3",
   "version": "3.9.2"
  },
  "orig_nbformat": 4
 },
 "nbformat": 4,
 "nbformat_minor": 2
}