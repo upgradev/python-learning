{
 "cells": [
  {
   "cell_type": "code",
   "execution_count": 1,
   "metadata": {},
   "outputs": [
    {
     "name": "stdout",
     "output_type": "stream",
     "text": [
      "Bob\n",
      "david\n",
      "Bob\n",
      "alexa\n"
     ]
    }
   ],
   "source": [
    "class parent:\n",
    "    parentname = \"\"\n",
    "    childname = \"\"\n",
    "\n",
    "    def showparent(self):\n",
    "        print(self.parentname)\n",
    "\n",
    "\n",
    "class son(parent):\n",
    "    def showchild(self):\n",
    "        print(self.childname)\n",
    "\n",
    "\n",
    "class daughter(parent):\n",
    "    def showchild(self):\n",
    "        print(self.childname)\n",
    "\n",
    "s = son()\n",
    "s.parentname=\"Bob\"\n",
    "s.childname=\"david\"\n",
    "s.showparent()\n",
    "s.showchild()\n",
    "\n",
    "d =daughter()\n",
    "d.childname=\"alexa\"\n",
    "d.parentname=\"Bob\"\n",
    "d.showparent()\n",
    "d.showchild()"
   ]
  },
  {
   "cell_type": "code",
   "execution_count": null,
   "metadata": {},
   "outputs": [],
   "source": []
  }
 ],
 "metadata": {
  "interpreter": {
   "hash": "31f2aee4e71d21fbe5cf8b01ff0e069b9275f58929596ceb00d14d90e3e16cd6"
  },
  "kernelspec": {
   "display_name": "Python 3.9.2 64-bit",
   "name": "python3"
  },
  "language_info": {
   "codemirror_mode": {
    "name": "ipython",
    "version": 3
   },
   "file_extension": ".py",
   "mimetype": "text/x-python",
   "name": "python",
   "nbconvert_exporter": "python",
   "pygments_lexer": "ipython3",
   "version": "3.9.2"
  },
  "orig_nbformat": 4
 },
 "nbformat": 4,
 "nbformat_minor": 2
}