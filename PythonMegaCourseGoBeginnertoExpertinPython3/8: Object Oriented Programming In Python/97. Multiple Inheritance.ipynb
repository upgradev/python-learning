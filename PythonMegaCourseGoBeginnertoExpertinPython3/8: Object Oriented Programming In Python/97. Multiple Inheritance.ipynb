{
 "cells": [
  {
   "cell_type": "code",
   "execution_count": 1,
   "metadata": {},
   "outputs": [
    {
     "name": "stdout",
     "output_type": "stream",
     "text": [
      "david\n",
      "alexa\n"
     ]
    }
   ],
   "source": [
    "class father:\n",
    "    def __init__(self, fathername, fatherage) -> None:\n",
    "        self.name = fathername\n",
    "        self.age = fatherage\n",
    "\n",
    "    def showname(self):\n",
    "        print(self.name)\n",
    "\n",
    "    def age(self):\n",
    "        print(self.age)\n",
    "\n",
    "\n",
    "class mother:\n",
    "    def __init__(self, mothername) -> None:\n",
    "        self.mothername = mothername\n",
    "\n",
    "    def showmothername(self):\n",
    "        return self.mothername\n",
    "\n",
    "\n",
    "class son(father, mother):\n",
    "    def __init__(self, fathername, fatherage, mothername) -> None:\n",
    "        # super().__init__(fathername, fatherage, mothername)\n",
    "        father.__init__(self, fathername, fatherage)\n",
    "        mother.__init__(self, mothername)\n",
    "\n",
    "s = son(\"david\", 50,\"alexa\")\n",
    "s.showname()\n",
    "print(s.showmothername())\n"
   ]
  },
  {
   "cell_type": "code",
   "execution_count": null,
   "metadata": {},
   "outputs": [],
   "source": []
  }
 ],
 "metadata": {
  "interpreter": {
   "hash": "31f2aee4e71d21fbe5cf8b01ff0e069b9275f58929596ceb00d14d90e3e16cd6"
  },
  "kernelspec": {
   "display_name": "Python 3.9.2 64-bit",
   "name": "python3"
  },
  "language_info": {
   "codemirror_mode": {
    "name": "ipython",
    "version": 3
   },
   "file_extension": ".py",
   "mimetype": "text/x-python",
   "name": "python",
   "nbconvert_exporter": "python",
   "pygments_lexer": "ipython3",
   "version": "3.9.2"
  },
  "orig_nbformat": 4
 },
 "nbformat": 4,
 "nbformat_minor": 2
}