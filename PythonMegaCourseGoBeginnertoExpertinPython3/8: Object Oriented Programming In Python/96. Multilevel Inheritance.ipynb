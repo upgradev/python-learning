{
 "cells": [
  {
   "cell_type": "code",
   "execution_count": 1,
   "metadata": {},
   "outputs": [
    {
     "name": "stdout",
     "output_type": "stream",
     "text": [
      "father name is bob\n",
      "this is family of 3 people\n",
      "son name is david\n"
     ]
    }
   ],
   "source": [
    "class family:\n",
    "    def showfamily(self):\n",
    "        print(\"this is family of 3 people\")\n",
    "\n",
    "class father(family):\n",
    "    def fathername(self):\n",
    "        print(\"father name is bob\")\n",
    "\n",
    "class son(father):\n",
    "    def sonname(self):\n",
    "        print(\"son name is david\")\n",
    "\n",
    "f = son()\n",
    "f.fathername()\n",
    "f.showfamily()\n",
    "f.sonname()"
   ]
  },
  {
   "cell_type": "code",
   "execution_count": null,
   "metadata": {},
   "outputs": [],
   "source": []
  }
 ],
 "metadata": {
  "interpreter": {
   "hash": "31f2aee4e71d21fbe5cf8b01ff0e069b9275f58929596ceb00d14d90e3e16cd6"
  },
  "kernelspec": {
   "display_name": "Python 3.9.2 64-bit",
   "name": "python3"
  },
  "language_info": {
   "codemirror_mode": {
    "name": "ipython",
    "version": 3
   },
   "file_extension": ".py",
   "mimetype": "text/x-python",
   "name": "python",
   "nbconvert_exporter": "python",
   "pygments_lexer": "ipython3",
   "version": "3.9.2"
  },
  "orig_nbformat": 4
 },
 "nbformat": 4,
 "nbformat_minor": 2
}