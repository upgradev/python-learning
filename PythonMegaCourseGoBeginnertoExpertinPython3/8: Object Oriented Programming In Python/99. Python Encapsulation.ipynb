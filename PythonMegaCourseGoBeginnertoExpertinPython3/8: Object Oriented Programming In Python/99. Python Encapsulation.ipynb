{
 "cells": [
  {
   "cell_type": "code",
   "execution_count": 6,
   "metadata": {},
   "outputs": [
    {
     "name": "stdout",
     "output_type": "stream",
     "text": [
      "Encapsulation\n",
      "teste\n"
     ]
    }
   ],
   "source": [
    "class encapsulation:\n",
    "    __name=None\n",
    "\n",
    "    def __init__(self, name) -> None:\n",
    "        self.__name=name\n",
    "    def getName(self):\n",
    "        return self.__name\n",
    "\n",
    "e = encapsulation(\"Encapsulation\")\n",
    "print(e.getName())\n"
   ]
  },
  {
   "cell_type": "code",
   "execution_count": 11,
   "metadata": {},
   "outputs": [],
   "source": [
    "class car(object):\n",
    "    def __init__(self, name=\"bmw\", year=2020, mileage=\"250\", color=\"white\") -> None:\n",
    "        self.__name = name\n",
    "        self.__year = year\n",
    "        self.__mileage = mileage\n",
    "        self.__color = color\n",
    "\n",
    "    def car_detail(self, speed):\n",
    "        print(\"your car speed is %s \" % (self.name, speed))\n",
    "\n",
    "    def speeds(self, speed):\n",
    "        print(\"meter speed is %s\" % speed)\n",
    "\n",
    "c = car()"
   ]
  },
  {
   "cell_type": "code",
   "execution_count": null,
   "metadata": {},
   "outputs": [],
   "source": []
  }
 ],
 "metadata": {
  "interpreter": {
   "hash": "31f2aee4e71d21fbe5cf8b01ff0e069b9275f58929596ceb00d14d90e3e16cd6"
  },
  "kernelspec": {
   "display_name": "Python 3.9.2 64-bit",
   "name": "python3"
  },
  "language_info": {
   "codemirror_mode": {
    "name": "ipython",
    "version": 3
   },
   "file_extension": ".py",
   "mimetype": "text/x-python",
   "name": "python",
   "nbconvert_exporter": "python",
   "pygments_lexer": "ipython3",
   "version": "3.9.2"
  },
  "orig_nbformat": 4
 },
 "nbformat": 4,
 "nbformat_minor": 2
}