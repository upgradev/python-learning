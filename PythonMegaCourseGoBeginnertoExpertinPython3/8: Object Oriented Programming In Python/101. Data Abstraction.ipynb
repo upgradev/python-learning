{
 "cells": [
  {
   "cell_type": "code",
   "execution_count": 1,
   "metadata": {},
   "outputs": [],
   "source": [
    "from abc import ABC, abstractclassmethod\n",
    "\n",
    "\n",
    "class Payment(ABC):\n",
    "    def printslip(self, amount):\n",
    "        print(\"Purchase amount is \", amount)\n",
    "\n",
    "    def payment(self, amount):\n",
    "        pass\n"
   ]
  },
  {
   "cell_type": "code",
   "execution_count": 2,
   "metadata": {},
   "outputs": [],
   "source": [
    "class cardpayment(Payment):\n",
    "    def payment(self, amount):\n",
    "        print(\"Credit car Payment of \", amount)\n"
   ]
  },
  {
   "cell_type": "code",
   "execution_count": 3,
   "metadata": {},
   "outputs": [],
   "source": [
    "class walletpayment(Payment):\n",
    "    def payment(self, amount):\n",
    "        print(\"Wallet payment of \", amount)"
   ]
  },
  {
   "cell_type": "code",
   "execution_count": 4,
   "metadata": {},
   "outputs": [
    {
     "name": "stdout",
     "output_type": "stream",
     "text": [
      "Credit car Payment of  200\n",
      "Purchase amount is  200\n",
      "True\n",
      "Wallet payment of  300\n",
      "Purchase amount is  300\n",
      "True\n"
     ]
    }
   ],
   "source": [
    "c = cardpayment()\n",
    "c.payment(200)\n",
    "c.printslip(200)\n",
    "print(isinstance(c, Payment))\n",
    "c = walletpayment()\n",
    "c.payment(300)\n",
    "c.printslip(300)\n",
    "print(isinstance(c, Payment))"
   ]
  },
  {
   "cell_type": "code",
   "execution_count": null,
   "metadata": {},
   "outputs": [],
   "source": []
  }
 ],
 "metadata": {
  "interpreter": {
   "hash": "31f2aee4e71d21fbe5cf8b01ff0e069b9275f58929596ceb00d14d90e3e16cd6"
  },
  "kernelspec": {
   "display_name": "Python 3.9.2 64-bit",
   "name": "python3"
  },
  "language_info": {
   "codemirror_mode": {
    "name": "ipython",
    "version": 3
   },
   "file_extension": ".py",
   "mimetype": "text/x-python",
   "name": "python",
   "nbconvert_exporter": "python",
   "pygments_lexer": "ipython3",
   "version": "3.9.2"
  },
  "orig_nbformat": 4
 },
 "nbformat": 4,
 "nbformat_minor": 2
}