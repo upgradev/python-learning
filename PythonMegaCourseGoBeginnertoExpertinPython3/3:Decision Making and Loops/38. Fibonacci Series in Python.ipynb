{
 "cells": [
  {
   "cell_type": "code",
   "execution_count": 1,
   "metadata": {},
   "outputs": [
    {
     "name": "stdout",
     "output_type": "stream",
     "text": [
      "0\n",
      "1\n",
      "1\n",
      "2\n",
      "3\n",
      "5\n",
      "8\n",
      "13\n",
      "21\n",
      "34\n",
      "55\n",
      "89\n"
     ]
    }
   ],
   "source": [
    "number = 12\n",
    "i = 0\n",
    "val1 = 0\n",
    "val2 = 1\n",
    "while i < number:\n",
    "    if i <= 1:\n",
    "        next=i\n",
    "    else:\n",
    "        next=val1+val2\n",
    "        val1 = val2\n",
    "        val2 = next\n",
    "    print(next)\n",
    "    i=i+1"
   ]
  },
  {
   "cell_type": "code",
   "execution_count": 2,
   "metadata": {},
   "outputs": [
    {
     "name": "stdout",
     "output_type": "stream",
     "text": [
      "[1, 1, 2, 3, 5]\n"
     ]
    },
    {
     "data": {
      "text/plain": [
       "'0'"
      ]
     },
     "execution_count": 2,
     "metadata": {},
     "output_type": "execute_result"
    }
   ],
   "source": [
    "def fibonacci():\n",
    "    num = int(input(\"How many numbers that generates?:\")) #taking user input here with input function\n",
    "    i = 1 # the value of i here is 1\n",
    "    if num == 0: #if num == 0 which means that if number will = to 0 then \n",
    "        fib = [] #this string will be printed\n",
    "    elif num == 1: #if number == 1 so that will start from 1 and so on\n",
    "        fib = [1]\n",
    "    elif num == 2:\n",
    "        fib = [1,1]\n",
    "    elif num > 2:\n",
    "        fib = [1,1]\n",
    "        while i < (num - 1):\n",
    "            fib.append(fib[i] + fib[i-1]) #fibonacci logic\n",
    "            i += 1\n",
    "    return fib\n",
    "print(fibonacci()) #printing fibonacci funtion here\n",
    "input()"
   ]
  },
  {
   "cell_type": "code",
   "execution_count": null,
   "metadata": {},
   "outputs": [],
   "source": []
  }
 ],
 "metadata": {
  "interpreter": {
   "hash": "31f2aee4e71d21fbe5cf8b01ff0e069b9275f58929596ceb00d14d90e3e16cd6"
  },
  "kernelspec": {
   "display_name": "Python 3.8.10 64-bit",
   "name": "python3"
  },
  "language_info": {
   "codemirror_mode": {
    "name": "ipython",
    "version": 3
   },
   "file_extension": ".py",
   "mimetype": "text/x-python",
   "name": "python",
   "nbconvert_exporter": "python",
   "pygments_lexer": "ipython3",
   "version": "3.8.10"
  },
  "orig_nbformat": 4
 },
 "nbformat": 4,
 "nbformat_minor": 2
}