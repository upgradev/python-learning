{
 "cells": [
  {
   "cell_type": "code",
   "execution_count": 3,
   "metadata": {},
   "outputs": [
    {
     "name": "stdout",
     "output_type": "stream",
     "text": [
      "you are no able to registor an account\n"
     ]
    }
   ],
   "source": [
    "age = 14\n",
    "if age < 16:\n",
    "    print(\"you are no able to registor an account\")"
   ]
  },
  {
   "cell_type": "code",
   "execution_count": 7,
   "metadata": {},
   "outputs": [
    {
     "name": "stdout",
     "output_type": "stream",
     "text": [
      "Amount:  300\n",
      "15% of discount oh that\n",
      "amount payable:  255.0\n"
     ]
    }
   ],
   "source": [
    "price = 20\n",
    "qty = 15\n",
    "amount = price * qty\n",
    "print(\"Amount: \", amount)\n",
    "if amount > 100:\n",
    "    print(\"15% of discount oh that\")\n",
    "    discount = amount*15/100\n",
    "    amount=amount-discount\n",
    "    print(\"amount payable: \",amount)"
   ]
  },
  {
   "cell_type": "code",
   "execution_count": null,
   "metadata": {},
   "outputs": [],
   "source": []
  }
 ],
 "metadata": {
  "interpreter": {
   "hash": "31f2aee4e71d21fbe5cf8b01ff0e069b9275f58929596ceb00d14d90e3e16cd6"
  },
  "kernelspec": {
   "display_name": "Python 3.8.10 64-bit",
   "name": "python3"
  },
  "language_info": {
   "codemirror_mode": {
    "name": "ipython",
    "version": 3
   },
   "file_extension": ".py",
   "mimetype": "text/x-python",
   "name": "python",
   "nbconvert_exporter": "python",
   "pygments_lexer": "ipython3",
   "version": "3.8.10"
  },
  "orig_nbformat": 4
 },
 "nbformat": 4,
 "nbformat_minor": 2
}