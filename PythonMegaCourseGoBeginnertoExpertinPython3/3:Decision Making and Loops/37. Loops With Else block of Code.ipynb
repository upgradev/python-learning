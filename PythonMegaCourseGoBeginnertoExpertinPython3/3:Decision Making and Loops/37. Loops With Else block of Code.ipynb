{
 "cells": [
  {
   "cell_type": "code",
   "execution_count": 7,
   "metadata": {},
   "outputs": [
    {
     "name": "stdout",
     "output_type": "stream",
     "text": [
      "0\n",
      "1\n",
      "2\n",
      "3\n",
      "4\n",
      "The loop has completed execution\n",
      "_____________________\n",
      "Value of total while loop is:  10\n",
      "You have value \n"
     ]
    }
   ],
   "source": [
    "for a in range(5):\n",
    "    print(a)\n",
    "else:\n",
    "    print(\"The loop has completed execution\")\n",
    "\n",
    "print(\"_____________________\")\n",
    "t = 0\n",
    "n = 10\n",
    "while n <= 10:\n",
    "    t = t + n\n",
    "    n = n + 1\n",
    "    print(\"Value of total while loop is: \", t)\n",
    "else:\n",
    "    print(\"You have value \")"
   ]
  },
  {
   "cell_type": "code",
   "execution_count": null,
   "metadata": {},
   "outputs": [],
   "source": []
  }
 ],
 "metadata": {
  "interpreter": {
   "hash": "31f2aee4e71d21fbe5cf8b01ff0e069b9275f58929596ceb00d14d90e3e16cd6"
  },
  "kernelspec": {
   "display_name": "Python 3.8.10 64-bit",
   "name": "python3"
  },
  "language_info": {
   "codemirror_mode": {
    "name": "ipython",
    "version": 3
   },
   "file_extension": ".py",
   "mimetype": "text/x-python",
   "name": "python",
   "nbconvert_exporter": "python",
   "pygments_lexer": "ipython3",
   "version": "3.8.10"
  },
  "orig_nbformat": 4
 },
 "nbformat": 4,
 "nbformat_minor": 2
}