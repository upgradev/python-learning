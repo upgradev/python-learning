{
 "cells": [
  {
   "cell_type": "code",
   "execution_count": 1,
   "metadata": {},
   "outputs": [
    {
     "name": "stdout",
     "output_type": "stream",
     "text": [
      "Character:  P\n",
      "Character:  y\n",
      "Character:  t\n",
      "Character:  h\n"
     ]
    }
   ],
   "source": [
    "for char in \"Python3\":\n",
    "    if char == \"o\":\n",
    "        break\n",
    "    print(\"Character: \", char)"
   ]
  },
  {
   "cell_type": "code",
   "execution_count": 2,
   "metadata": {},
   "outputs": [
    {
     "name": "stdout",
     "output_type": "stream",
     "text": [
      "Character:  P\n",
      "Character:  y\n",
      "Character:  t\n",
      "Character:  h\n",
      "Character:  n\n",
      "Character:  3\n"
     ]
    }
   ],
   "source": [
    "for char in \"Python3\":\n",
    "    if char == \"o\":\n",
    "        continue\n",
    "    print(\"Character: \", char)"
   ]
  },
  {
   "cell_type": "code",
   "execution_count": 3,
   "metadata": {},
   "outputs": [
    {
     "name": "stdout",
     "output_type": "stream",
     "text": [
      "Character:  P\n",
      "Character:  y\n",
      "Character:  t\n",
      "Character:  h\n",
      "Character:  o\n",
      "Character:  n\n",
      "Character:  3\n"
     ]
    }
   ],
   "source": [
    "for char in \"Python3\":\n",
    "    if char == \"o\":\n",
    "        pass\n",
    "    print(\"Character: \", char)"
   ]
  },
  {
   "cell_type": "code",
   "execution_count": null,
   "metadata": {},
   "outputs": [],
   "source": []
  }
 ],
 "metadata": {
  "interpreter": {
   "hash": "31f2aee4e71d21fbe5cf8b01ff0e069b9275f58929596ceb00d14d90e3e16cd6"
  },
  "kernelspec": {
   "display_name": "Python 3.8.10 64-bit",
   "name": "python3"
  },
  "language_info": {
   "codemirror_mode": {
    "name": "ipython",
    "version": 3
   },
   "file_extension": ".py",
   "mimetype": "text/x-python",
   "name": "python",
   "nbconvert_exporter": "python",
   "pygments_lexer": "ipython3",
   "version": "3.8.10"
  },
  "orig_nbformat": 4
 },
 "nbformat": 4,
 "nbformat_minor": 2
}