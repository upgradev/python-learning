{
 "cells": [
  {
   "cell_type": "code",
   "execution_count": 1,
   "metadata": {},
   "outputs": [
    {
     "name": "stdout",
     "output_type": "stream",
     "text": [
      "0 , 5\n",
      "0 , 6\n",
      "0 , 7\n",
      "0 , 8\n",
      "1 , 5\n",
      "1 , 6\n",
      "1 , 7\n",
      "1 , 8\n",
      "2 , 5\n",
      "2 , 6\n",
      "2 , 7\n",
      "2 , 8\n"
     ]
    }
   ],
   "source": [
    "for num in range(3):\n",
    "    for num1 in range(5, 9):\n",
    "        print(num,\",\",num1)"
   ]
  },
  {
   "cell_type": "code",
   "execution_count": 3,
   "metadata": {},
   "outputs": [
    {
     "name": "stdout",
     "output_type": "stream",
     "text": [
      "1 , 4\n"
     ]
    }
   ],
   "source": [
    "a = 1\n",
    "b = 4\n",
    "while a < 2:\n",
    "    while b < 5:\n",
    "        print(a,\",\",b)\n",
    "        b= b +1\n",
    "        a=a + 1"
   ]
  }
 ],
 "metadata": {
  "interpreter": {
   "hash": "31f2aee4e71d21fbe5cf8b01ff0e069b9275f58929596ceb00d14d90e3e16cd6"
  },
  "kernelspec": {
   "display_name": "Python 3.8.10 64-bit",
   "name": "python3"
  },
  "language_info": {
   "codemirror_mode": {
    "name": "ipython",
    "version": 3
   },
   "file_extension": ".py",
   "mimetype": "text/x-python",
   "name": "python",
   "nbconvert_exporter": "python",
   "pygments_lexer": "ipython3",
   "version": "3.8.10"
  },
  "orig_nbformat": 4
 },
 "nbformat": 4,
 "nbformat_minor": 2
}