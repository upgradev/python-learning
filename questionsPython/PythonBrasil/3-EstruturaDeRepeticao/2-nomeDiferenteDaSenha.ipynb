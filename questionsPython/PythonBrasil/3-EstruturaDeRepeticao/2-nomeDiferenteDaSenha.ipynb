{
    "cells": [
        {
            "cell_type": "markdown",
            "source": [
                "# Faça um programa que leia um nome de usuário e a sua senha e não aceite a senha igual ao nome do usuário, mostrando uma mensagem de erro e voltando a pedir as informações.\n"
            ],
            "metadata": {}
        },
        {
            "cell_type": "code",
            "execution_count": null,
            "source": [
                "nome = input(\"Digite o seu nome: \")\n",
                "senha = input(\"Digite sua senha\")\n",
                "\n",
                "while senha == nome:\n",
                "    print(\"Nome e senha são iguais, digite uma senha diferente do nome\")\n",
                "    nome = input(\"Digite o seu nome: \")\n",
                "    senha = input(\"Digite sua senha\")\n",
                "print(f\"Nome {nome} e senha {senha}\")\n",
                "    "
            ],
            "outputs": [],
            "metadata": {}
        }
    ],
    "metadata": {
        "orig_nbformat": 4,
        "language_info": {
            "name": "python",
            "version": "3.9.2",
            "mimetype": "text/x-python",
            "codemirror_mode": {
                "name": "ipython",
                "version": 3
            },
            "pygments_lexer": "ipython3",
            "nbconvert_exporter": "python",
            "file_extension": ".py"
        },
        "kernelspec": {
            "name": "python3",
            "display_name": "Python 3.9.2 64-bit"
        },
        "interpreter": {
            "hash": "31f2aee4e71d21fbe5cf8b01ff0e069b9275f58929596ceb00d14d90e3e16cd6"
        }
    },
    "nbformat": 4,
    "nbformat_minor": 2
}