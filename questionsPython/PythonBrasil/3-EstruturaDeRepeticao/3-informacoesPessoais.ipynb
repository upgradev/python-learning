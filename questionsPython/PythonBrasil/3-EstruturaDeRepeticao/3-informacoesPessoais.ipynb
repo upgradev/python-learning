{
    "cells": [
        {
            "cell_type": "markdown",
            "source": [
                "# Faça um programa que leia e valide as seguintes informações:\n",
                "# Nome: maior que 3 caracteres;\n",
                "# Idade: entre 0 e 150;\n",
                "# Salário: maior que zero;\n",
                "# Sexo: 'f' ou 'm';\n",
                "# Estado Civil: 's', 'c', 'v', 'd';\n"
            ],
            "metadata": {}
        },
        {
            "cell_type": "code",
            "execution_count": 1,
            "source": [
                "nome = input(\"Digite seu nome: \")\n",
                "while len(nome) <= 3:\n",
                "    nome = input(\"Digite seu nome: (maior que 3 caracteres): \")\n",
                "\n",
                "idade = int(input(\"Digite a idade (entre 0 e 50)\"))\n",
                "while idade < 0 or idade > 50:\n",
                "    idade = int(input(\"Digite a idade (entre 0 e 50)\"))\n",
                "\n",
                "salario = float(input(\"Digite um salário maior que zero: \"))\n",
                "while salario <= 0:\n",
                "    salario = float(input(\"Digite um salário maior que zero: \"))\n",
                "\n",
                "sexo = str(input(\"Digite qual genero: (f - feminino ou m - masculino): \"))\n",
                "while sexo.upper() != \"F\" and sexo.upper() != \"M\":\n",
                "    sexo = input(\"Digite qual genero: (f - feminino ou m - masculino): \")\n",
                "\n",
                "estado_civil = input(\n",
                "    \"Digite seu estado civil: (c - casado(a), s - solteiro(a), v - viuvo(a), d - divorciado(a)): \")\n",
                "while estado_civil.lower() != \"c\" and estado_civil.lower() != \"s\" and estado_civil.lower() != \"v\" and estado_civil.lower() != \"d\":\n",
                "    estado_civil = input(\n",
                "        \"Digite seu estado civil: (c - casado(a), s - solteiro(a), v - viuvo(a), d - divorciado(a)): \")\n",
                "\n",
                "print(f\"Nome: {nome}\")\n",
                "print(f\"Idade: {idade}\")\n",
                "print(f\"Salário: {salario}\")\n",
                "print(f\"Sexo: {sexo}\")\n",
                "print(f\"Estado Civil: {estado_civil}\")\n"
            ],
            "outputs": [
                {
                    "output_type": "stream",
                    "name": "stdout",
                    "text": [
                        "Nome: claudia\n",
                        "Idade: 41\n",
                        "Salário: 1254.0\n",
                        "Sexo: f\n",
                        "Estado Civil: s\n"
                    ]
                }
            ],
            "metadata": {}
        }
    ],
    "metadata": {
        "orig_nbformat": 4,
        "language_info": {
            "name": "python",
            "version": "3.9.2",
            "mimetype": "text/x-python",
            "codemirror_mode": {
                "name": "ipython",
                "version": 3
            },
            "pygments_lexer": "ipython3",
            "nbconvert_exporter": "python",
            "file_extension": ".py"
        },
        "kernelspec": {
            "name": "python3",
            "display_name": "Python 3.9.2 64-bit"
        },
        "interpreter": {
            "hash": "31f2aee4e71d21fbe5cf8b01ff0e069b9275f58929596ceb00d14d90e3e16cd6"
        }
    },
    "nbformat": 4,
    "nbformat_minor": 2
}