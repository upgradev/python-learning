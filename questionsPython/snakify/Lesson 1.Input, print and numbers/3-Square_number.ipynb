{
    "cells": [
        {
            "cell_type": "markdown",
            "source": [
                "# Write a program that takes a number and print its square.\n"
            ],
            "metadata": {}
        },
        {
            "cell_type": "code",
            "execution_count": 3,
            "source": [
                "import math\n",
                "num = int(input(\"Enter the number: \"))\n",
                "sqre = math.sqrt(num)\n",
                "\n",
                "print(f\"Square of number {num} is {sqre} \")"
            ],
            "outputs": [
                {
                    "output_type": "stream",
                    "name": "stdout",
                    "text": [
                        "Square of number 99 is 9.9498743710662 \n"
                    ]
                }
            ],
            "metadata": {}
        }
    ],
    "metadata": {
        "orig_nbformat": 4,
        "language_info": {
            "name": "python",
            "version": "3.9.2",
            "mimetype": "text/x-python",
            "codemirror_mode": {
                "name": "ipython",
                "version": 3
            },
            "pygments_lexer": "ipython3",
            "nbconvert_exporter": "python",
            "file_extension": ".py"
        },
        "kernelspec": {
            "name": "python3",
            "display_name": "Python 3.9.2 64-bit"
        },
        "interpreter": {
            "hash": "916dbcbb3f70747c44a77c7bcd40155683ae19c65e1c03b4aa3499c5328201f1"
        }
    },
    "nbformat": 4,
    "nbformat_minor": 2
}