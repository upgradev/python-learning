{
    "cells": [
        {
            "cell_type": "markdown",
            "source": [
                "# A timestamp is three numbers: a number of hours, minutes and seconds. Given two timestamps, \n",
                "# calculate how many seconds is between them. The moment of the first timestamp occurred before the moment of the second timestamp.\n"
            ],
            "metadata": {}
        },
        {
            "cell_type": "code",
            "execution_count": 9,
            "source": [
                "secound1 = int(input(\"First secound: \"))\n",
                "minute1 = int(input(\"First minute: \"))\n",
                "hour1 = int(input(\"First hour: \"))\n",
                "\n",
                "secound2 = int(input(\"second secound: \"))\n",
                "minute2 = int(input(\"second minute: \"))\n",
                "hour2 = int(input(\"second hour: \"))\n",
                "\n",
                "time1 = (hour1 * 3600) - (minute1 * 60) - secound1\n",
                "time2 = (hour2 * 3600) + (minute2 * 60) + secound2\n",
                "if time1 > time2:\n",
                "    total = time1 - time2\n",
                "    print(f\"{total}\")\n",
                "else:\n",
                "    total = time2 - time1\n",
                "    print(f\"{total}\")\n"
            ],
            "outputs": [
                {
                    "output_type": "stream",
                    "name": "stdout",
                    "text": [
                        "-71940\n"
                    ]
                }
            ],
            "metadata": {}
        }
    ],
    "metadata": {
        "orig_nbformat": 4,
        "language_info": {
            "name": "python",
            "version": "3.9.2",
            "mimetype": "text/x-python",
            "codemirror_mode": {
                "name": "ipython",
                "version": 3
            },
            "pygments_lexer": "ipython3",
            "nbconvert_exporter": "python",
            "file_extension": ".py"
        },
        "kernelspec": {
            "name": "python3",
            "display_name": "Python 3.9.2 64-bit"
        },
        "interpreter": {
            "hash": "916dbcbb3f70747c44a77c7bcd40155683ae19c65e1c03b4aa3499c5328201f1"
        }
    },
    "nbformat": 4,
    "nbformat_minor": 2
}