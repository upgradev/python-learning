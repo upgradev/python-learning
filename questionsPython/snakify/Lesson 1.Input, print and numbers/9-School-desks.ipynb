{
    "cells": [
        {
            "cell_type": "markdown",
            "source": [
                "# A school decided to replace the desks in three classrooms. Each desk sits two students. Given the number of students \n",
                "# in each class, print the smallest possible number of desks that can be purchased.\n",
                "# The program should read three integers: the number of students in each of the three classes, a, b and c respectively.\n",
                "\n",
                "# In the first test there are three groups. The first group has 20 students and thus needs 10 desks. \n",
                "# The second group has 21 students, so they can get by with no fewer than 11 desks. 11 desks is also enough \n",
                "# for the third group of 22 students. So we need 32 desks in total."
            ],
            "metadata": {}
        },
        {
            "cell_type": "code",
            "execution_count": 3,
            "source": [
                "class1 = int(input(\"Enter number students in the class 1: \"))\n",
                "num1 = class1//2\n",
                "rest1 = class1 % 2\n",
                "resul1 = num1 + rest1\n",
                "\n",
                "class2 = int(input(\"Enter number students in the class 2: \"))\n",
                "num2 = class2//2\n",
                "rest2 = class2 % 2\n",
                "resul2 = num2 + rest2\n",
                "\n",
                "class3 = int(input(\"Enter number students in the class 3: \"))\n",
                "num3 = class3//2\n",
                "rest3 = class3 % 2\n",
                "resul3 = num3 + rest3\n",
                "\n",
                "final_result = resul1 + resul2 + resul3\n",
                "print(final_result)\n"
            ],
            "outputs": [],
            "metadata": {}
        }
    ],
    "metadata": {
        "orig_nbformat": 4,
        "language_info": {
            "name": "python",
            "version": "3.9.2",
            "mimetype": "text/x-python",
            "codemirror_mode": {
                "name": "ipython",
                "version": 3
            },
            "pygments_lexer": "ipython3",
            "nbconvert_exporter": "python",
            "file_extension": ".py"
        },
        "kernelspec": {
            "name": "python3",
            "display_name": "Python 3.9.2 64-bit"
        },
        "interpreter": {
            "hash": "916dbcbb3f70747c44a77c7bcd40155683ae19c65e1c03b4aa3499c5328201f1"
        }
    },
    "nbformat": 4,
    "nbformat_minor": 2
}