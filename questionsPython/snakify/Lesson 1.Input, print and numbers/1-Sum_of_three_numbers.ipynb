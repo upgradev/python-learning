{
    "cells": [
        {
            "cell_type": "code",
            "execution_count": 2,
            "source": [
                "num1 = float(input(\"Enter number 1: \"))\n",
                "num2 = float(input(\"Enter number 2: \"))\n",
                "num3 = float(input(\"Enter number 3: \"))\n",
                "\n",
                "add = num1 + num2 + num3\n",
                "\n",
                "print(f\"The sum of numbers {num1} and {num2} and {num3} is {add}\")"
            ],
            "outputs": [
                {
                    "output_type": "stream",
                    "name": "stdout",
                    "text": [
                        "The sum of numbers 14.0 and 14.65 and 25.0 is 53.65\n"
                    ]
                }
            ],
            "metadata": {}
        }
    ],
    "metadata": {
        "orig_nbformat": 4,
        "language_info": {
            "name": "python",
            "version": "3.9.2",
            "mimetype": "text/x-python",
            "codemirror_mode": {
                "name": "ipython",
                "version": 3
            },
            "pygments_lexer": "ipython3",
            "nbconvert_exporter": "python",
            "file_extension": ".py"
        },
        "kernelspec": {
            "name": "python3",
            "display_name": "Python 3.9.2 64-bit"
        },
        "interpreter": {
            "hash": "916dbcbb3f70747c44a77c7bcd40155683ae19c65e1c03b4aa3499c5328201f1"
        }
    },
    "nbformat": 4,
    "nbformat_minor": 2
}