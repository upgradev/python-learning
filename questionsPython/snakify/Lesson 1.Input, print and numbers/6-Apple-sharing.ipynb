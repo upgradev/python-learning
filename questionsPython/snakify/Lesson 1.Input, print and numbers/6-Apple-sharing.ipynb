{
    "cells": [
        {
            "cell_type": "markdown",
            "source": [
                "# N students take K apples and distribute them among each other evenly. The remaining (the undivisible) \n",
                "# part remains in the basket. How many apples will each single student get? How many apples will remain in the basket?\n"
            ],
            "metadata": {}
        },
        {
            "cell_type": "code",
            "execution_count": 5,
            "source": [
                "students = int(input(\"How many students?: \"))\n",
                "apples = int(input(\"How many apples?: \"))\n",
                "\n",
                "each_student_apple = apples // students\n",
                "apple_remains = apples % students\n",
                "\n",
                "print(f\"{each_student_apple}\")\n",
                "print(f\"{apple_remains}\")"
            ],
            "outputs": [
                {
                    "output_type": "stream",
                    "name": "stdout",
                    "text": [
                        "5\n",
                        "0\n"
                    ]
                }
            ],
            "metadata": {}
        }
    ],
    "metadata": {
        "orig_nbformat": 4,
        "language_info": {
            "name": "python",
            "version": "3.9.2",
            "mimetype": "text/x-python",
            "codemirror_mode": {
                "name": "ipython",
                "version": 3
            },
            "pygments_lexer": "ipython3",
            "nbconvert_exporter": "python",
            "file_extension": ".py"
        },
        "kernelspec": {
            "name": "python3",
            "display_name": "Python 3.9.2 64-bit"
        },
        "interpreter": {
            "hash": "916dbcbb3f70747c44a77c7bcd40155683ae19c65e1c03b4aa3499c5328201f1"
        }
    },
    "nbformat": 4,
    "nbformat_minor": 2
}