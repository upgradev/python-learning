{
    "cells": [
        {
            "cell_type": "markdown",
            "source": [
                "# Write a program that reads an integer number and \n",
                "# prints its previous and next numbers. See the examples below for the exact format your answers should take. There shouldn't be a space before the period.\n"
            ],
            "metadata": {}
        },
        {
            "cell_type": "code",
            "execution_count": 1,
            "source": [
                "number = int(input(\"Enter the number: \"))\n",
                "prev = number - 1\n",
                "next = number + 1\n",
                "\n",
                "print(f\"The next number for the number {number} is {next}\")\n",
                "print(f\"The previous number for the number {number} is {prev}\")"
            ],
            "outputs": [
                {
                    "output_type": "stream",
                    "name": "stdout",
                    "text": [
                        "The next number for the number 179 is 180\n",
                        "The previous number for the number 179 is 178\n"
                    ]
                }
            ],
            "metadata": {}
        }
    ],
    "metadata": {
        "orig_nbformat": 4,
        "language_info": {
            "name": "python",
            "version": "3.9.2",
            "mimetype": "text/x-python",
            "codemirror_mode": {
                "name": "ipython",
                "version": 3
            },
            "pygments_lexer": "ipython3",
            "nbconvert_exporter": "python",
            "file_extension": ".py"
        },
        "kernelspec": {
            "name": "python3",
            "display_name": "Python 3.9.2 64-bit"
        },
        "interpreter": {
            "hash": "916dbcbb3f70747c44a77c7bcd40155683ae19c65e1c03b4aa3499c5328201f1"
        }
    },
    "nbformat": 4,
    "nbformat_minor": 2
}