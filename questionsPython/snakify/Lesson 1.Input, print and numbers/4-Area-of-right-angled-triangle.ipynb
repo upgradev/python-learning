{
    "cells": [
        {
            "cell_type": "markdown",
            "source": [
                "# Write a program that reads the length of the base and the height of a right-angled triangle and prints the area. Every number is given on a separate line.\n"
            ],
            "metadata": {}
        },
        {
            "cell_type": "code",
            "execution_count": null,
            "source": [
                "base = float(input(\"Enter base of triangle: \"))\n",
                "height = float(input(\"Enter height of triangle: \"))\n",
                "\n",
                "area = (base * height) / 2\n",
                "\n",
                "print(f\"Area of triangle is {area}\")"
            ],
            "outputs": [],
            "metadata": {}
        }
    ],
    "metadata": {
        "orig_nbformat": 4,
        "language_info": {
            "name": "python",
            "version": "3.9.2"
        },
        "kernelspec": {
            "name": "python3",
            "display_name": "Python 3.9.2 64-bit"
        },
        "interpreter": {
            "hash": "916dbcbb3f70747c44a77c7bcd40155683ae19c65e1c03b4aa3499c5328201f1"
        }
    },
    "nbformat": 4,
    "nbformat_minor": 2
}